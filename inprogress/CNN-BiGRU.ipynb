{
 "cells": [
  {
   "cell_type": "markdown",
   "id": "02f18e9a-b836-44db-8f03-7d478945017a",
   "metadata": {},
   "source": [
    "--------------------------------------------------------------------------------------------------------------------"
   ]
  },
  {
   "cell_type": "markdown",
   "id": "b9b685e0-0852-40d9-b9aa-29e69a625034",
   "metadata": {},
   "source": [
    "## Explainable AI for phishing emails detection"
   ]
  },
  {
   "cell_type": "markdown",
   "id": "22a3afe5-57ba-4a76-9e73-760b06f5b922",
   "metadata": {},
   "source": [
    "--------------------------------------------------------------------------------------------------------------------"
   ]
  },
  {
   "cell_type": "markdown",
   "id": "4ca061bf-b4cf-483e-90a5-9916d1a28943",
   "metadata": {},
   "source": [
    "#### Importing libraries"
   ]
  },
  {
   "cell_type": "code",
   "execution_count": 1,
   "id": "6c78a750-e2c7-43fd-880b-a432173e9477",
   "metadata": {},
   "outputs": [],
   "source": [
    "import pandas as pd\n",
    "import numpy as np\n",
    "import matplotlib.pyplot as plt\n",
    "import seaborn as sns\n",
    "import re\n",
    "import warnings\n",
    "warnings.filterwarnings('ignore')"
   ]
  },
  {
   "cell_type": "code",
   "execution_count": 2,
   "id": "d7b2058a-3ef7-4e2a-af07-93f9328d8449",
   "metadata": {},
   "outputs": [],
   "source": [
    "# Deep Learning\n",
    "import tensorflow as tf\n",
    "from tensorflow.keras.preprocessing.text import Tokenizer\n",
    "from tensorflow.keras.preprocessing.sequence import pad_sequences\n",
    "from tensorflow.keras.models import Sequential, Model\n",
    "from tensorflow.keras.layers import Embedding, Conv1D, MaxPooling1D, Bidirectional, GRU, Dense, Dropout, GlobalMaxPooling1D\n",
    "from tensorflow.keras.callbacks import EarlyStopping, ModelCheckpoint, ReduceLROnPlateau\n",
    "from tensorflow.keras.optimizers import Adam"
   ]
  },
  {
   "cell_type": "code",
   "execution_count": 3,
   "id": "b3c63da2-98f1-435e-8ce0-0cf7e76b7baa",
   "metadata": {},
   "outputs": [],
   "source": [
    "# ml and evaluation\n",
    "from sklearn.model_selection import train_test_split, StratifiedKFold\n",
    "from sklearn.metrics import accuracy_score, precision_score, recall_score, f1_score, roc_auc_score\n",
    "from sklearn.metrics import confusion_matrix, classification_report, roc_curve\n",
    "from sklearn.preprocessing import LabelEncoder"
   ]
  },
  {
   "cell_type": "code",
   "execution_count": 4,
   "id": "093fd981-7afe-445f-b436-373df29e75d5",
   "metadata": {},
   "outputs": [],
   "source": [
    "# Visualization\n",
    "import plotly.express as px\n",
    "import plotly.graph_objects as go\n",
    "\n",
    "from plotly.subplots import make_subplots"
   ]
  },
  {
   "cell_type": "markdown",
   "id": "705bf7e8-c468-48e0-9b74-c94a8dd09973",
   "metadata": {},
   "source": [
    "--------------------------------------------------------------------------------------------------------------------"
   ]
  },
  {
   "cell_type": "markdown",
   "id": "8028961a-ecd5-4b6c-b1f9-1aa8d910c9ea",
   "metadata": {},
   "source": [
    "#### Loading data"
   ]
  },
  {
   "cell_type": "code",
   "execution_count": 5,
   "id": "5a406deb-43c5-48b5-8363-b4dd80a66eeb",
   "metadata": {},
   "outputs": [],
   "source": [
    "df1 = pd.read_csv(\"C:/Users/Dell/Desktop/XAI_Model/SpamAssasin.csv\")\n",
    "df2 = pd.read_csv(\"C:/Users/Dell/Desktop/XAI_Model/CEAS_08.csv\")"
   ]
  },
  {
   "cell_type": "code",
   "execution_count": 6,
   "id": "6c947ede-55e1-4d5a-b024-985622e97be4",
   "metadata": {},
   "outputs": [],
   "source": [
    "df = pd.concat([df1, df2], ignore_index=True)"
   ]
  },
  {
   "cell_type": "code",
   "execution_count": 7,
   "id": "e77e381c-d289-4d7c-af50-abb9eb0092ec",
   "metadata": {
    "scrolled": true
   },
   "outputs": [
    {
     "data": {
      "text/html": [
       "<div>\n",
       "<style scoped>\n",
       "    .dataframe tbody tr th:only-of-type {\n",
       "        vertical-align: middle;\n",
       "    }\n",
       "\n",
       "    .dataframe tbody tr th {\n",
       "        vertical-align: top;\n",
       "    }\n",
       "\n",
       "    .dataframe thead th {\n",
       "        text-align: right;\n",
       "    }\n",
       "</style>\n",
       "<table border=\"1\" class=\"dataframe\">\n",
       "  <thead>\n",
       "    <tr style=\"text-align: right;\">\n",
       "      <th></th>\n",
       "      <th>sender</th>\n",
       "      <th>receiver</th>\n",
       "      <th>date</th>\n",
       "      <th>subject</th>\n",
       "      <th>body</th>\n",
       "      <th>label</th>\n",
       "      <th>urls</th>\n",
       "    </tr>\n",
       "  </thead>\n",
       "  <tbody>\n",
       "    <tr>\n",
       "      <th>0</th>\n",
       "      <td>Robert Elz &lt;kre@munnari.OZ.AU&gt;</td>\n",
       "      <td>Chris Garrigues &lt;cwg-dated-1030377287.06fa6d@D...</td>\n",
       "      <td>Thu, 22 Aug 2002 18:26:25 +0700</td>\n",
       "      <td>Re: New Sequences Window</td>\n",
       "      <td>Date:        Wed, 21 Aug 2002 10:54:46 -0500  ...</td>\n",
       "      <td>0</td>\n",
       "      <td>1</td>\n",
       "    </tr>\n",
       "    <tr>\n",
       "      <th>1</th>\n",
       "      <td>Steve Burt &lt;Steve_Burt@cursor-system.com&gt;</td>\n",
       "      <td>\"'zzzzteana@yahoogroups.com'\" &lt;zzzzteana@yahoo...</td>\n",
       "      <td>Thu, 22 Aug 2002 12:46:18 +0100</td>\n",
       "      <td>[zzzzteana] RE: Alexander</td>\n",
       "      <td>Martin A posted:\\nTassos Papadopoulos, the Gre...</td>\n",
       "      <td>0</td>\n",
       "      <td>1</td>\n",
       "    </tr>\n",
       "    <tr>\n",
       "      <th>2</th>\n",
       "      <td>\"Tim Chapman\" &lt;timc@2ubh.com&gt;</td>\n",
       "      <td>zzzzteana &lt;zzzzteana@yahoogroups.com&gt;</td>\n",
       "      <td>Thu, 22 Aug 2002 13:52:38 +0100</td>\n",
       "      <td>[zzzzteana] Moscow bomber</td>\n",
       "      <td>Man Threatens Explosion In Moscow \\n\\nThursday...</td>\n",
       "      <td>0</td>\n",
       "      <td>1</td>\n",
       "    </tr>\n",
       "    <tr>\n",
       "      <th>3</th>\n",
       "      <td>Monty Solomon &lt;monty@roscom.com&gt;</td>\n",
       "      <td>undisclosed-recipient: ;</td>\n",
       "      <td>Thu, 22 Aug 2002 09:15:25 -0400</td>\n",
       "      <td>[IRR] Klez: The Virus That  Won't Die</td>\n",
       "      <td>Klez: The Virus That Won't Die\\n \\nAlready the...</td>\n",
       "      <td>0</td>\n",
       "      <td>1</td>\n",
       "    </tr>\n",
       "    <tr>\n",
       "      <th>4</th>\n",
       "      <td>Stewart Smith &lt;Stewart.Smith@ee.ed.ac.uk&gt;</td>\n",
       "      <td>zzzzteana@yahoogroups.com</td>\n",
       "      <td>Thu, 22 Aug 2002 14:38:22 +0100</td>\n",
       "      <td>Re: [zzzzteana] Nothing like mama used to make</td>\n",
       "      <td>&gt;  in adding cream to spaghetti carbonara, whi...</td>\n",
       "      <td>0</td>\n",
       "      <td>1</td>\n",
       "    </tr>\n",
       "  </tbody>\n",
       "</table>\n",
       "</div>"
      ],
      "text/plain": [
       "                                      sender  \\\n",
       "0             Robert Elz <kre@munnari.OZ.AU>   \n",
       "1  Steve Burt <Steve_Burt@cursor-system.com>   \n",
       "2              \"Tim Chapman\" <timc@2ubh.com>   \n",
       "3           Monty Solomon <monty@roscom.com>   \n",
       "4  Stewart Smith <Stewart.Smith@ee.ed.ac.uk>   \n",
       "\n",
       "                                            receiver  \\\n",
       "0  Chris Garrigues <cwg-dated-1030377287.06fa6d@D...   \n",
       "1  \"'zzzzteana@yahoogroups.com'\" <zzzzteana@yahoo...   \n",
       "2              zzzzteana <zzzzteana@yahoogroups.com>   \n",
       "3                           undisclosed-recipient: ;   \n",
       "4                          zzzzteana@yahoogroups.com   \n",
       "\n",
       "                              date  \\\n",
       "0  Thu, 22 Aug 2002 18:26:25 +0700   \n",
       "1  Thu, 22 Aug 2002 12:46:18 +0100   \n",
       "2  Thu, 22 Aug 2002 13:52:38 +0100   \n",
       "3  Thu, 22 Aug 2002 09:15:25 -0400   \n",
       "4  Thu, 22 Aug 2002 14:38:22 +0100   \n",
       "\n",
       "                                          subject  \\\n",
       "0                        Re: New Sequences Window   \n",
       "1                       [zzzzteana] RE: Alexander   \n",
       "2                       [zzzzteana] Moscow bomber   \n",
       "3           [IRR] Klez: The Virus That  Won't Die   \n",
       "4  Re: [zzzzteana] Nothing like mama used to make   \n",
       "\n",
       "                                                body  label  urls  \n",
       "0  Date:        Wed, 21 Aug 2002 10:54:46 -0500  ...      0     1  \n",
       "1  Martin A posted:\\nTassos Papadopoulos, the Gre...      0     1  \n",
       "2  Man Threatens Explosion In Moscow \\n\\nThursday...      0     1  \n",
       "3  Klez: The Virus That Won't Die\\n \\nAlready the...      0     1  \n",
       "4  >  in adding cream to spaghetti carbonara, whi...      0     1  "
      ]
     },
     "execution_count": 7,
     "metadata": {},
     "output_type": "execute_result"
    }
   ],
   "source": [
    "df.head()"
   ]
  },
  {
   "cell_type": "code",
   "execution_count": 8,
   "id": "139e45ab-c543-4896-964b-efbc36a0c035",
   "metadata": {},
   "outputs": [
    {
     "name": "stdout",
     "output_type": "stream",
     "text": [
      "<class 'pandas.core.frame.DataFrame'>\n",
      "RangeIndex: 44963 entries, 0 to 44962\n",
      "Data columns (total 7 columns):\n",
      " #   Column    Non-Null Count  Dtype \n",
      "---  ------    --------------  ----- \n",
      " 0   sender    44963 non-null  object\n",
      " 1   receiver  44291 non-null  object\n",
      " 2   date      44963 non-null  object\n",
      " 3   subject   44919 non-null  object\n",
      " 4   body      44962 non-null  object\n",
      " 5   label     44963 non-null  int64 \n",
      " 6   urls      44963 non-null  int64 \n",
      "dtypes: int64(2), object(5)\n",
      "memory usage: 2.4+ MB\n"
     ]
    }
   ],
   "source": [
    "df.info()"
   ]
  },
  {
   "cell_type": "markdown",
   "id": "83bd68dc-b692-4853-889a-811d65ec5821",
   "metadata": {},
   "source": [
    "--------------------------------------------------------------------------------------------------------------------"
   ]
  },
  {
   "cell_type": "markdown",
   "id": "f9b81293-203b-4752-8de2-92626736ec3e",
   "metadata": {},
   "source": [
    "#### Data Cleaning"
   ]
  },
  {
   "cell_type": "code",
   "execution_count": 9,
   "id": "0c92ed5a-36f2-47b2-9ea7-904d38238c0b",
   "metadata": {},
   "outputs": [
    {
     "data": {
      "text/plain": [
       "sender        0\n",
       "receiver    672\n",
       "date          0\n",
       "subject      44\n",
       "body          1\n",
       "label         0\n",
       "urls          0\n",
       "dtype: int64"
      ]
     },
     "execution_count": 9,
     "metadata": {},
     "output_type": "execute_result"
    }
   ],
   "source": [
    "df.isnull().sum()"
   ]
  },
  {
   "cell_type": "code",
   "execution_count": 10,
   "id": "43d3c5cf-ffd9-42c8-8cb7-27882ac0b91b",
   "metadata": {},
   "outputs": [],
   "source": [
    "df.dropna(subset=['receiver', 'subject', 'body', 'label'], inplace=True)"
   ]
  },
  {
   "cell_type": "code",
   "execution_count": 11,
   "id": "5bd4b610-9ea5-4db3-b327-0bd5e36f6a21",
   "metadata": {},
   "outputs": [],
   "source": [
    "def advanced_text_cleaning(text):\n",
    "    if pd.isna(text):\n",
    "        return \"\"\n",
    "    text = str(text).lower()\n",
    "    # remove  email headers and metadata\n",
    "    text = re.sub(r'(from:|to:|subject:|date:|reply-to:|message-id:).*?\\n', '', text)\n",
    "    # remove HTML tags \n",
    "    text = re.sub(r'<[^>]+>', ' ', text)\n",
    "    \n",
    "    # Handle URLs (preserve them as they're important for phishing detection)\n",
    "    text = re.sub(r'http[s]?://(?:[a-zA-Z]|[0-9]|[$-_@.&+]|[!*\\\\(\\\\),]|(?:%[0-9a-fA-F][0-9a-fA-F]))+', ' URL_TOKEN ', text)\n",
    "    \n",
    "    # for email addresses\n",
    "    text = re.sub(r'\\b[A-Za-z0-9._%+-]+@[A-Za-z0-9.-]+\\.[A-Z|a-z]{2,}\\b', ' EMAIL_TOKEN ', text)\n",
    "    # for phone numbers\n",
    "    text = re.sub(r'[\\+]?[1-9]?[0-9]{7,15}', ' PHONE_TOKEN ', text)\n",
    "    \n",
    "    # remove excess punctuation\n",
    "    text = re.sub(r'[!]{3,}', ' MULTIPLE_EXCLAMATION ', text)\n",
    "    text = re.sub(r'[\\?]{3,}', ' MULTIPLE_QUESTION ', text)\n",
    "    text = re.sub(r'[$]{2,}', ' MULTIPLE_DOLLAR ', text)\n",
    "    # other special characters\n",
    "    text = re.sub(r'[^a-zA-Z0-9\\s!?$.]', ' ', text)\n",
    "    # excess whitespace\n",
    "    text = re.sub(r'\\s+', ' ', text).strip()\n",
    "    \n",
    "    return text"
   ]
  },
  {
   "cell_type": "code",
   "execution_count": 12,
   "id": "d2c97c4a-c6c6-4082-b028-18fcc496119a",
   "metadata": {},
   "outputs": [],
   "source": [
    "# cleaning\n",
    "df['subject_clean'] = df['subject'].apply(advanced_text_cleaning)\n",
    "df['body_clean'] = df['body'].apply(advanced_text_cleaning)"
   ]
  },
  {
   "cell_type": "code",
   "execution_count": 13,
   "id": "dc2ede1e-716e-466c-8dab-690278af5f94",
   "metadata": {},
   "outputs": [],
   "source": [
    "df['text'] = df['subject_clean'].fillna('') + ' ' + df['body_clean'].fillna('')\n",
    "df['label'] = df['label'].apply(lambda x: 1 if x == 1 else 0)"
   ]
  },
  {
   "cell_type": "code",
   "execution_count": 14,
   "id": "2f544c79-4dc8-4605-a7a6-acd4f662a0d4",
   "metadata": {},
   "outputs": [
    {
     "name": "stdout",
     "output_type": "stream",
     "text": [
      "Before cleaning, dataset shape: (44251, 10)\n"
     ]
    }
   ],
   "source": [
    "print(f\"Before cleaning, dataset shape: {df.shape}\")"
   ]
  },
  {
   "cell_type": "code",
   "execution_count": 15,
   "id": "b0a8ff13-fb9e-440e-b61e-338cc2c4c437",
   "metadata": {},
   "outputs": [
    {
     "name": "stdout",
     "output_type": "stream",
     "text": [
      "Number of duplicate rows: 0\n"
     ]
    }
   ],
   "source": [
    "duplicate_rows = df.duplicated()\n",
    "duplicate_count = duplicate_rows.sum()\n",
    "print(\"Number of duplicate rows:\", duplicate_count)"
   ]
  },
  {
   "cell_type": "code",
   "execution_count": 16,
   "id": "437ecbc8-2a93-4fe9-8d2e-d5dc4929c7f0",
   "metadata": {},
   "outputs": [
    {
     "name": "stdout",
     "output_type": "stream",
     "text": [
      "After cleaning: 44251 samples\n"
     ]
    }
   ],
   "source": [
    "df = df[df['text'].str.len() > 10]  # Remove very short texts\n",
    "df.dropna(subset=['receiver', 'subject', 'body', 'text', 'label'], inplace=True)\n",
    "print(f\"After cleaning: {len(df)} samples\")"
   ]
  },
  {
   "cell_type": "markdown",
   "id": "e5335626-b376-495b-a19a-1113f39332b5",
   "metadata": {},
   "source": [
    "##### now our data is totally clean!"
   ]
  },
  {
   "cell_type": "markdown",
   "id": "650a06d0-6121-4483-85ad-2d2e83f5ace7",
   "metadata": {},
   "source": [
    "--------------------------------------------------------------------------------------------------------------------"
   ]
  },
  {
   "cell_type": "markdown",
   "id": "74069f17-d2b7-4fa2-beb9-3656171fa2f4",
   "metadata": {},
   "source": [
    "#### Exploratory Data Analysis"
   ]
  },
  {
   "cell_type": "code",
   "execution_count": 17,
   "id": "162fd42f-4265-4729-a9ab-38d237a60ff3",
   "metadata": {},
   "outputs": [],
   "source": [
    "# Text length analysis\n",
    "df['text_length'] = df['text'].str.len()\n",
    "df['word_count'] = df['text'].str.split().str.len()"
   ]
  },
  {
   "cell_type": "code",
   "execution_count": 18,
   "id": "be871a27-e9de-47fc-9d6b-d31f05ca6581",
   "metadata": {},
   "outputs": [
    {
     "data": {
      "image/png": "[encoded data removed]",
      "text/plain": [
       "<Figure size 1500x1000 with 4 Axes>"
      ]
     },
     "metadata": {},
     "output_type": "display_data"
    }
   ],
   "source": [
    "# Visualization\n",
    "fig, axes = plt.subplots(2, 2, figsize=(15, 10))\n",
    "\n",
    "# Class distribution\n",
    "df['label'].value_counts().plot(kind='bar', ax=axes[0,0], title='Class Distribution')\n",
    "axes[0,0].set_xlabel('Label (0=Legitimate, 1=Phishing)')\n",
    "axes[0,0].set_ylabel('Count')\n",
    "\n",
    "# Text length distribution\n",
    "df.boxplot(column='text_length', by='label', ax=axes[0,1])\n",
    "axes[0,1].set_title('Text Length by Class')\n",
    "\n",
    "# Word count distribution\n",
    "df.boxplot(column='word_count', by='label', ax=axes[1,0])\n",
    "axes[1,0].set_title('Word Count by Class')\n",
    "\n",
    "# Text length histogram\n",
    "axes[1,1].hist(df[df['label']==0]['text_length'], alpha=0.7, label='Legitimate', bins=50)\n",
    "axes[1,1].hist(df[df['label']==1]['text_length'], alpha=0.7, label='Phishing', bins=50)\n",
    "axes[1,1].set_xlabel('Text Length')\n",
    "axes[1,1].set_ylabel('Frequency')\n",
    "axes[1,1].set_title('Text Length Distribution')\n",
    "axes[1,1].legend()\n",
    "\n",
    "plt.tight_layout()\n",
    "plt.show()"
   ]
  },
  {
   "cell_type": "markdown",
   "id": "e948b316-62af-4db2-b6fa-4e534ee71cce",
   "metadata": {},
   "source": [
    "##### from above you can see that spammy emails have less word count"
   ]
  },
  {
   "cell_type": "markdown",
   "id": "6ec8d49e-3a2e-4089-aad7-6d65e8617de5",
   "metadata": {},
   "source": [
    "##### also, the text length in spam emails is more"
   ]
  },
  {
   "cell_type": "code",
   "execution_count": 19,
   "id": "7edda510-885f-4eac-9b00-a5808b2e7243",
   "metadata": {},
   "outputs": [
    {
     "name": "stdout",
     "output_type": "stream",
     "text": [
      "50th percentile word count: 100\n",
      "75th percentile word count: 262\n",
      "90th percentile word count: 435\n",
      "95th percentile word count: 706\n",
      "99th percentile word count: 2108\n"
     ]
    }
   ],
   "source": [
    "# optimal sequence length\n",
    "percentiles = [50, 75, 90, 95, 99]\n",
    "for p in percentiles:\n",
    "    length = np.percentile(df['word_count'], p)\n",
    "    print(f\"{p}th percentile word count: {length:.0f}\")"
   ]
  },
  {
   "cell_type": "markdown",
   "id": "8953b219-36dc-4125-b8bb-25e28e5f93fd",
   "metadata": {},
   "source": [
    "--------------------------------------------------------------------------------------------------------------------"
   ]
  },
  {
   "cell_type": "markdown",
   "id": "50525d35-8904-4cea-9462-5976e32065b2",
   "metadata": {},
   "source": [
    "#### Feature Engineering for XAI"
   ]
  },
  {
   "cell_type": "code",
   "execution_count": 20,
   "id": "b518e927-3b3e-434d-baa2-7e9d256ede5b",
   "metadata": {},
   "outputs": [],
   "source": [
    "def extract_email_features(df):\n",
    "    features = pd.DataFrame()\n",
    "    \n",
    "    # basic text features\n",
    "    features['char_count'] = df['text'].str.len()\n",
    "    features['word_count'] = df['text'].str.split().str.len()\n",
    "    features['sentence_count'] = df['text'].str.count(r'[.!?]+')\n",
    "    features['avg_word_length'] = features['char_count'] / features['word_count']\n",
    "    \n",
    "    # punctuation and special characters\n",
    "    features['exclamation_count'] = df['text'].str.count('!')\n",
    "    features['question_count'] = df['text'].str.count('\\?')\n",
    "    features['dollar_count'] = df['text'].str.count('\\$')\n",
    "    \n",
    "    # capital letters\n",
    "    features['capital_count'] = df['text'].str.count(r'[A-Z]')\n",
    "    features['capital_ratio'] = features['capital_count'] / features['char_count']\n",
    "    \n",
    "    # suspicious words\n",
    "    suspicious_words = ['urgent', 'immediate', 'act now', 'limited time', 'click here', \n",
    "                        'free', 'winner', 'prize', 'verify', 'confirm', 'suspended']\n",
    "    \n",
    "    for word in suspicious_words:\n",
    "        features[f'contains_{word.replace(\" \", \"_\")}'] = df['text'].str.lower().str.contains(word).astype(int)\n",
    "    \n",
    "    # url/email features\n",
    "    features['url_count'] = df['urls']\n",
    "    features['has_url'] = (features['url_count'] > 0).astype(int)\n",
    "    # email-specific patterns\n",
    "    features['has_attachment'] = df['text'].str.contains('attachment', case=False).astype(int)\n",
    "    \n",
    "    return features"
   ]
  },
  {
   "cell_type": "code",
   "execution_count": 21,
   "id": "d82c8a7f-b8f9-441e-ae31-511ccc058677",
   "metadata": {},
   "outputs": [],
   "source": [
    "feature_df = extract_email_features(df)"
   ]
  },
  {
   "cell_type": "code",
   "execution_count": 22,
   "id": "ec7886c8-a907-49ad-86eb-653573508d8a",
   "metadata": {},
   "outputs": [],
   "source": [
    "# add back to main df\n",
    "for col in feature_df.columns:\n",
    "    df[f'feat_{col}'] = feature_df[col]"
   ]
  },
  {
   "cell_type": "code",
   "execution_count": 23,
   "id": "e0df0217-d570-473d-97ed-b646511d6a03",
   "metadata": {},
   "outputs": [],
   "source": [
    "# Feature correlation with label\n",
    "feature_cols = [col for col in df.columns if col.startswith('feat_')]\n",
    "correlations = df[feature_cols + ['label']].corr()['label'].sort_values(ascending=False)"
   ]
  },
  {
   "cell_type": "code",
   "execution_count": 24,
   "id": "9efa659f-9c5c-418d-ad5a-3887eaafcf64",
   "metadata": {},
   "outputs": [
    {
     "name": "stdout",
     "output_type": "stream",
     "text": [
      "label                         1.000000\n",
      "feat_capital_ratio            0.240431\n",
      "feat_contains_click_here      0.178727\n",
      "feat_avg_word_length          0.126078\n",
      "feat_contains_suspended       0.052105\n",
      "feat_contains_act_now         0.017466\n",
      "feat_contains_urgent          0.017201\n",
      "feat_contains_limited_time    0.007016\n",
      "feat_exclamation_count       -0.011154\n",
      "feat_url_count               -0.015245\n",
      "feat_has_url                 -0.015245\n",
      "feat_contains_prize          -0.040232\n",
      "feat_contains_free           -0.040406\n",
      "feat_capital_count           -0.044348\n",
      "feat_dollar_count            -0.048104\n",
      "feat_contains_winner         -0.050645\n",
      "feat_contains_immediate      -0.051145\n",
      "feat_contains_verify         -0.065972\n",
      "feat_has_attachment          -0.108106\n",
      "feat_contains_confirm        -0.109752\n",
      "feat_char_count              -0.188146\n",
      "feat_question_count          -0.191317\n",
      "feat_sentence_count          -0.197060\n",
      "feat_word_count              -0.221959\n",
      "Name: label, dtype: float64\n"
     ]
    }
   ],
   "source": [
    "print(correlations)"
   ]
  },
  {
   "cell_type": "markdown",
   "id": "63921770-45c7-4fde-a763-02af64d4cc7f",
   "metadata": {},
   "source": [
    "--------------------------------------------------------------------------------------------------------------------"
   ]
  },
  {
   "cell_type": "markdown",
   "id": "34881590-a205-4040-98a8-9b828c0b62d3",
   "metadata": {},
   "source": [
    "#### Train-test split"
   ]
  },
  {
   "cell_type": "code",
   "execution_count": 25,
   "id": "f5d3cd5e-65ae-443b-814d-b1061efd1470",
   "metadata": {},
   "outputs": [
    {
     "name": "stdout",
     "output_type": "stream",
     "text": [
      "Total samples: 44251\n",
      "Class distribution: [20766 23485]\n"
     ]
    }
   ],
   "source": [
    "# texts and labels\n",
    "texts = df['text'].tolist()\n",
    "labels = df['label'].values\n",
    "\n",
    "print(f\"Total samples: {len(texts)}\")\n",
    "print(f\"Class distribution: {np.bincount(labels)}\")"
   ]
  },
  {
   "cell_type": "code",
   "execution_count": 26,
   "id": "52279f4e-4028-4077-9a74-870198795f89",
   "metadata": {},
   "outputs": [],
   "source": [
    "# Train-test split\n",
    "X_train_text, X_test_text, y_train, y_test = train_test_split(\n",
    "    texts, labels, test_size=0.2, random_state=42, stratify=labels\n",
    ")"
   ]
  },
  {
   "cell_type": "code",
   "execution_count": 27,
   "id": "83e0322c-407b-48a4-bbae-61c61218497f",
   "metadata": {},
   "outputs": [
    {
     "name": "stdout",
     "output_type": "stream",
     "text": [
      "Train samples: 28320\n",
      "Validation samples: 7080\n",
      "Test samples: 8851\n"
     ]
    }
   ],
   "source": [
    "# further splitting data for validation\n",
    "X_train_text, X_val_text, y_train, y_val = train_test_split(\n",
    "    X_train_text, y_train, test_size=0.2, random_state=42, stratify=y_train\n",
    ")\n",
    "\n",
    "print(f\"Train samples: {len(X_train_text)}\")\n",
    "print(f\"Validation samples: {len(X_val_text)}\")\n",
    "print(f\"Test samples: {len(X_test_text)}\")"
   ]
  },
  {
   "cell_type": "markdown",
   "id": "22a3d013-b21c-4da7-9c91-45dd9000279c",
   "metadata": {},
   "source": [
    "--------------------------------------------------------------------------------------------------------------------"
   ]
  },
  {
   "cell_type": "code",
   "execution_count": 28,
   "id": "94d90ebf-e25d-4b02-906b-3a7f57686f3d",
   "metadata": {},
   "outputs": [
    {
     "data": {
      "text/plain": [
       "'you gonna love this suffering from short penniss? introduce revolution manxl formula which gauranteees sizes increase or moneey baack. users reported 2 inches extra in size 3x pleasurable orgasms 27 thicker why waiting? URL TOKEN'"
      ]
     },
     "execution_count": 28,
     "metadata": {},
     "output_type": "execute_result"
    }
   ],
   "source": [
    "X_train_text[0]"
   ]
  },
  {
   "cell_type": "markdown",
   "id": "71a454ea-aaee-4d6b-b4d6-abc5c5e7fb9a",
   "metadata": {},
   "source": [
    "#### Tokenization and Sequence Preparation"
   ]
  },
  {
   "cell_type": "code",
   "execution_count": 29,
   "id": "db3db861-16ec-4578-9941-9732bab5ef43",
   "metadata": {},
   "outputs": [],
   "source": [
    "# Tokenization params\n",
    "MAX_WORDS = 15000  # Increased vocab\n",
    "MAX_LEN = 400      # Based on EDA results"
   ]
  },
  {
   "cell_type": "code",
   "execution_count": 30,
   "id": "2cacd2d1-b2ef-4cea-a6e1-da95d481dc2c",
   "metadata": {},
   "outputs": [],
   "source": [
    "# Tokenization\n",
    "tokenizer = Tokenizer(num_words=MAX_WORDS, oov_token=\"<OOV>\")\n",
    "tokenizer.fit_on_texts(X_train_text)"
   ]
  },
  {
   "cell_type": "code",
   "execution_count": 31,
   "id": "698102b0-ada6-44b5-98b9-fa78d7bbaad0",
   "metadata": {},
   "outputs": [],
   "source": [
    "# texts to sequences\n",
    "X_train_seq = tokenizer.texts_to_sequences(X_train_text)\n",
    "X_val_seq = tokenizer.texts_to_sequences(X_val_text)\n",
    "X_test_seq = tokenizer.texts_to_sequences(X_test_text)"
   ]
  },
  {
   "cell_type": "code",
   "execution_count": 32,
   "id": "0d872c39-5390-45f4-973a-7c96f5969661",
   "metadata": {},
   "outputs": [
    {
     "name": "stdout",
     "output_type": "stream",
     "text": [
      "Training sequences shape: (28320, 400)\n",
      "Validation sequences shape: (7080, 400)\n",
      "Test sequences shape: (8851, 400)\n"
     ]
    }
   ],
   "source": [
    "# Padding\n",
    "X_train_pad = pad_sequences(X_train_seq, maxlen=MAX_LEN, padding='post', truncating='post')\n",
    "X_val_pad = pad_sequences(X_val_seq, maxlen=MAX_LEN, padding='post', truncating='post')\n",
    "X_test_pad = pad_sequences(X_test_seq, maxlen=MAX_LEN, padding='post', truncating='post')\n",
    "\n",
    "print(f\"Training sequences shape: {X_train_pad.shape}\")\n",
    "print(f\"Validation sequences shape: {X_val_pad.shape}\")\n",
    "print(f\"Test sequences shape: {X_test_pad.shape}\")"
   ]
  },
  {
   "cell_type": "code",
   "execution_count": 33,
   "id": "af52a5a1-ca14-4179-baae-5ad98567a622",
   "metadata": {},
   "outputs": [
    {
     "name": "stdout",
     "output_type": "stream",
     "text": [
      "Vocabulary size: 150891\n"
     ]
    }
   ],
   "source": [
    "# Save tokenizer for later use\n",
    "word_index = tokenizer.word_index\n",
    "print(f\"Vocabulary size: {len(word_index)}\")"
   ]
  },
  {
   "cell_type": "markdown",
   "id": "f27fb5bb-8aee-471b-8091-bfd3eb011b63",
   "metadata": {},
   "source": [
    "--------------------------------------------------------------------------------------------------------------------"
   ]
  },
  {
   "cell_type": "markdown",
   "id": "62f0cabc-d23d-434a-976e-459b18c3726a",
   "metadata": {},
   "source": [
    "#### CNN-BiGRU Model Architecture"
   ]
  },
  {
   "cell_type": "code",
   "execution_count": 34,
   "id": "e038fdfd-3f73-4ea6-bc23-a1e58f309bec",
   "metadata": {},
   "outputs": [],
   "source": [
    "def create_cnn_bigru_model(vocab_size, embedding_dim, max_length):\n",
    "    model = Sequential([\n",
    "        # Embedding layer\n",
    "        Embedding(vocab_size, embedding_dim, input_length=max_length, name='embedding'),\n",
    "        \n",
    "        # CNN branch\n",
    "        Conv1D(128, 3, activation='relu', name='conv1d_1'),\n",
    "        MaxPooling1D(2, name='maxpool_1'),\n",
    "        Conv1D(64, 4, activation='relu', name='conv1d_2'),\n",
    "        MaxPooling1D(2, name='maxpool_2'),\n",
    "        \n",
    "        # BiGRU branch\n",
    "        Bidirectional(GRU(64, return_sequences=True, dropout=0.3, recurrent_dropout=0.3), name='bigru_1'),\n",
    "        Bidirectional(GRU(32, dropout=0.3, recurrent_dropout=0.3), name='bigru_2'),\n",
    "        \n",
    "        # Dense layers\n",
    "        Dense(64, activation='relu', name='dense_1'),\n",
    "        Dropout(0.5, name='dropout_1'),\n",
    "        Dense(32, activation='relu', name='dense_2'),\n",
    "        Dropout(0.3, name='dropout_2'),\n",
    "        \n",
    "        # Output layer\n",
    "        Dense(1, activation='sigmoid', name='output')\n",
    "    ])\n",
    "    \n",
    "    return model"
   ]
  },
  {
   "cell_type": "code",
   "execution_count": 35,
   "id": "e0848d2b-bb9f-4476-9450-f3a99f89216a",
   "metadata": {},
   "outputs": [],
   "source": [
    "# Model parameters\n",
    "EMBEDDING_DIM = 128\n",
    "VOCAB_SIZE = min(MAX_WORDS, len(word_index) + 1)"
   ]
  },
  {
   "cell_type": "code",
   "execution_count": 36,
   "id": "19c91c7d-5a5e-4436-b4ab-2018fe0e1f6f",
   "metadata": {},
   "outputs": [],
   "source": [
    "# create model\n",
    "model = create_cnn_bigru_model(VOCAB_SIZE, EMBEDDING_DIM, MAX_LEN)"
   ]
  },
  {
   "cell_type": "code",
   "execution_count": 37,
   "id": "4f9ab6da-e176-48f9-92e5-9c922b665dc0",
   "metadata": {},
   "outputs": [],
   "source": [
    "# Compile model\n",
    "optimizer = Adam(learning_rate=0.001)\n",
    "model.compile(\n",
    "    optimizer=optimizer,\n",
    "    loss='binary_crossentropy',\n",
    "    metrics=['accuracy', 'precision', 'recall']\n",
    ")"
   ]
  },
  {
   "cell_type": "markdown",
   "id": "014c0396-3b32-4c90-b6a5-042e60d092b4",
   "metadata": {},
   "source": [
    "--------------------------------------------------------------------------------------------------------------------"
   ]
  },
  {
   "cell_type": "markdown",
   "id": "a0d5da33-e049-4828-80a0-f1239e9fb801",
   "metadata": {},
   "source": [
    "#### Model training"
   ]
  },
  {
   "cell_type": "code",
   "execution_count": 38,
   "id": "d917cf73-7edc-430e-b5b5-029621392538",
   "metadata": {},
   "outputs": [],
   "source": [
    "# Callbacks\n",
    "callbacks = [\n",
    "    EarlyStopping(\n",
    "        monitor='val_loss', patience=5, restore_best_weights=True, verbose=1\n",
    "    ),\n",
    "    \n",
    "    ModelCheckpoint(\n",
    "        'best_cnn_bigru_model.h5', monitor='val_loss', save_best_only=True, verbose=1\n",
    "    ),\n",
    "    \n",
    "    ReduceLROnPlateau(\n",
    "        monitor='val_loss', factor=0.5, patience=3, min_lr=1e-7, verbose=1\n",
    "    )\n",
    "]"
   ]
  },
  {
   "cell_type": "code",
   "execution_count": 39,
   "id": "098f1936-a887-4693-bb6f-8243d6677db6",
   "metadata": {},
   "outputs": [
    {
     "name": "stdout",
     "output_type": "stream",
     "text": [
      "Epoch 1/10\n",
      "\u001b[1m443/443\u001b[0m \u001b[32m━━━━━━━━━━━━━━━━━━━━\u001b[0m\u001b[37m\u001b[0m \u001b[1m0s\u001b[0m 752ms/step - accuracy: 0.8484 - loss: 0.2861 - precision: 0.8696 - recall: 0.8313\n",
      "Epoch 1: val_loss improved from inf to 0.02989, saving model to best_cnn_bigru_model.h5\n"
     ]
    },
    {
     "name": "stderr",
     "output_type": "stream",
     "text": [
      "WARNING:absl:You are saving your model as an HDF5 file via `model.save()` or `keras.saving.save_model(model)`. This file format is considered legacy. We recommend using instead the native Keras format, e.g. `model.save('my_model.keras')` or `keras.saving.save_model(model, 'my_model.keras')`. \n"
     ]
    },
    {
     "name": "stdout",
     "output_type": "stream",
     "text": [
      "\u001b[1m443/443\u001b[0m \u001b[32m━━━━━━━━━━━━━━━━━━━━\u001b[0m\u001b[37m\u001b[0m \u001b[1m397s\u001b[0m 805ms/step - accuracy: 0.8486 - loss: 0.2857 - precision: 0.8698 - recall: 0.8316 - val_accuracy: 0.9911 - val_loss: 0.0299 - val_precision: 0.9897 - val_recall: 0.9936 - learning_rate: 0.0010\n",
      "Epoch 2/10\n",
      "\u001b[1m443/443\u001b[0m \u001b[32m━━━━━━━━━━━━━━━━━━━━\u001b[0m\u001b[37m\u001b[0m \u001b[1m0s\u001b[0m 750ms/step - accuracy: 0.9956 - loss: 0.0177 - precision: 0.9959 - recall: 0.9959\n",
      "Epoch 2: val_loss improved from 0.02989 to 0.02903, saving model to best_cnn_bigru_model.h5\n"
     ]
    },
    {
     "name": "stderr",
     "output_type": "stream",
     "text": [
      "WARNING:absl:You are saving your model as an HDF5 file via `model.save()` or `keras.saving.save_model(model)`. This file format is considered legacy. We recommend using instead the native Keras format, e.g. `model.save('my_model.keras')` or `keras.saving.save_model(model, 'my_model.keras')`. \n"
     ]
    },
    {
     "name": "stdout",
     "output_type": "stream",
     "text": [
      "\u001b[1m443/443\u001b[0m \u001b[32m━━━━━━━━━━━━━━━━━━━━\u001b[0m\u001b[37m\u001b[0m \u001b[1m348s\u001b[0m 786ms/step - accuracy: 0.9956 - loss: 0.0177 - precision: 0.9959 - recall: 0.9959 - val_accuracy: 0.9918 - val_loss: 0.0290 - val_precision: 0.9907 - val_recall: 0.9939 - learning_rate: 0.0010\n",
      "Epoch 3/10\n",
      "\u001b[1m443/443\u001b[0m \u001b[32m━━━━━━━━━━━━━━━━━━━━\u001b[0m\u001b[37m\u001b[0m \u001b[1m0s\u001b[0m 756ms/step - accuracy: 0.9989 - loss: 0.0052 - precision: 0.9989 - recall: 0.9990\n",
      "Epoch 3: val_loss did not improve from 0.02903\n",
      "\u001b[1m443/443\u001b[0m \u001b[32m━━━━━━━━━━━━━━━━━━━━\u001b[0m\u001b[37m\u001b[0m \u001b[1m352s\u001b[0m 794ms/step - accuracy: 0.9989 - loss: 0.0052 - precision: 0.9989 - recall: 0.9990 - val_accuracy: 0.9907 - val_loss: 0.0381 - val_precision: 0.9952 - val_recall: 0.9872 - learning_rate: 0.0010\n",
      "Epoch 4/10\n",
      "\u001b[1m443/443\u001b[0m \u001b[32m━━━━━━━━━━━━━━━━━━━━\u001b[0m\u001b[37m\u001b[0m \u001b[1m0s\u001b[0m 768ms/step - accuracy: 0.9986 - loss: 0.0045 - precision: 0.9986 - recall: 0.9988\n",
      "Epoch 4: val_loss did not improve from 0.02903\n",
      "\u001b[1m443/443\u001b[0m \u001b[32m━━━━━━━━━━━━━━━━━━━━\u001b[0m\u001b[37m\u001b[0m \u001b[1m358s\u001b[0m 807ms/step - accuracy: 0.9986 - loss: 0.0045 - precision: 0.9986 - recall: 0.9988 - val_accuracy: 0.9905 - val_loss: 0.0532 - val_precision: 0.9941 - val_recall: 0.9880 - learning_rate: 0.0010\n",
      "Epoch 5/10\n",
      "\u001b[1m443/443\u001b[0m \u001b[32m━━━━━━━━━━━━━━━━━━━━\u001b[0m\u001b[37m\u001b[0m \u001b[1m0s\u001b[0m 775ms/step - accuracy: 0.9994 - loss: 0.0020 - precision: 0.9993 - recall: 0.9996\n",
      "Epoch 5: val_loss did not improve from 0.02903\n",
      "\n",
      "Epoch 5: ReduceLROnPlateau reducing learning rate to 0.0005000000237487257.\n",
      "\u001b[1m443/443\u001b[0m \u001b[32m━━━━━━━━━━━━━━━━━━━━\u001b[0m\u001b[37m\u001b[0m \u001b[1m360s\u001b[0m 814ms/step - accuracy: 0.9994 - loss: 0.0020 - precision: 0.9993 - recall: 0.9996 - val_accuracy: 0.9907 - val_loss: 0.0525 - val_precision: 0.9889 - val_recall: 0.9936 - learning_rate: 0.0010\n",
      "Epoch 6/10\n",
      "\u001b[1m443/443\u001b[0m \u001b[32m━━━━━━━━━━━━━━━━━━━━\u001b[0m\u001b[37m\u001b[0m \u001b[1m0s\u001b[0m 9s/step - accuracy: 0.9993 - loss: 0.0030 - precision: 0.9990 - recall: 0.9996\n",
      "Epoch 6: val_loss did not improve from 0.02903\n",
      "\u001b[1m443/443\u001b[0m \u001b[32m━━━━━━━━━━━━━━━━━━━━\u001b[0m\u001b[37m\u001b[0m \u001b[1m3784s\u001b[0m 9s/step - accuracy: 0.9993 - loss: 0.0030 - precision: 0.9990 - recall: 0.9996 - val_accuracy: 0.9883 - val_loss: 0.0672 - val_precision: 0.9809 - val_recall: 0.9973 - learning_rate: 5.0000e-04\n",
      "Epoch 7/10\n",
      "\u001b[1m443/443\u001b[0m \u001b[32m━━━━━━━━━━━━━━━━━━━━\u001b[0m\u001b[37m\u001b[0m \u001b[1m0s\u001b[0m 14s/step - accuracy: 0.9998 - loss: 9.3400e-04 - precision: 0.9996 - recall: 1.0000 \n",
      "Epoch 7: val_loss did not improve from 0.02903\n",
      "\u001b[1m443/443\u001b[0m \u001b[32m━━━━━━━━━━━━━━━━━━━━\u001b[0m\u001b[37m\u001b[0m \u001b[1m6420s\u001b[0m 15s/step - accuracy: 0.9998 - loss: 9.3466e-04 - precision: 0.9996 - recall: 1.0000 - val_accuracy: 0.9911 - val_loss: 0.0558 - val_precision: 0.9915 - val_recall: 0.9918 - learning_rate: 5.0000e-04\n",
      "Epoch 7: early stopping\n",
      "Restoring model weights from the end of the best epoch: 2.\n"
     ]
    }
   ],
   "source": [
    "# Train model\n",
    "history = model.fit(\n",
    "    X_train_pad, y_train,\n",
    "    validation_data=(X_val_pad, y_val),\n",
    "    epochs=10,\n",
    "    batch_size=64,\n",
    "    callbacks=callbacks,\n",
    "    verbose=1\n",
    ")"
   ]
  },
  {
   "cell_type": "code",
   "execution_count": 40,
   "id": "bfb2c956-50f6-41bd-984a-b4acc5ec7357",
   "metadata": {},
   "outputs": [
    {
     "data": {
      "text/html": [
       "<pre style=\"white-space:pre;overflow-x:auto;line-height:normal;font-family:Menlo,'DejaVu Sans Mono',consolas,'Courier New',monospace\"><span style=\"font-weight: bold\">Model: \"sequential\"</span>\n",
       "</pre>\n"
      ],
      "text/plain": [
       "\u001b[1mModel: \"sequential\"\u001b[0m\n"
      ]
     },
     "metadata": {},
     "output_type": "display_data"
    },
    {
     "data": {
      "text/html": [
       "<pre style=\"white-space:pre;overflow-x:auto;line-height:normal;font-family:Menlo,'DejaVu Sans Mono',consolas,'Courier New',monospace\">┏━━━━━━━━━━━━━━━━━━━━━━━━━━━━━━━━━━━━━━┳━━━━━━━━━━━━━━━━━━━━━━━━━━━━━┳━━━━━━━━━━━━━━━━━┓\n",
       "┃<span style=\"font-weight: bold\"> Layer (type)                         </span>┃<span style=\"font-weight: bold\"> Output Shape                </span>┃<span style=\"font-weight: bold\">         Param # </span>┃\n",
       "┡━━━━━━━━━━━━━━━━━━━━━━━━━━━━━━━━━━━━━━╇━━━━━━━━━━━━━━━━━━━━━━━━━━━━━╇━━━━━━━━━━━━━━━━━┩\n",
       "│ embedding (<span style=\"color: #0087ff; text-decoration-color: #0087ff\">Embedding</span>)                │ (<span style=\"color: #00d7ff; text-decoration-color: #00d7ff\">None</span>, <span style=\"color: #00af00; text-decoration-color: #00af00\">400</span>, <span style=\"color: #00af00; text-decoration-color: #00af00\">128</span>)            │       <span style=\"color: #00af00; text-decoration-color: #00af00\">1,920,000</span> │\n",
       "├──────────────────────────────────────┼─────────────────────────────┼─────────────────┤\n",
       "│ conv1d_1 (<span style=\"color: #0087ff; text-decoration-color: #0087ff\">Conv1D</span>)                    │ (<span style=\"color: #00d7ff; text-decoration-color: #00d7ff\">None</span>, <span style=\"color: #00af00; text-decoration-color: #00af00\">398</span>, <span style=\"color: #00af00; text-decoration-color: #00af00\">128</span>)            │          <span style=\"color: #00af00; text-decoration-color: #00af00\">49,280</span> │\n",
       "├──────────────────────────────────────┼─────────────────────────────┼─────────────────┤\n",
       "│ maxpool_1 (<span style=\"color: #0087ff; text-decoration-color: #0087ff\">MaxPooling1D</span>)             │ (<span style=\"color: #00d7ff; text-decoration-color: #00d7ff\">None</span>, <span style=\"color: #00af00; text-decoration-color: #00af00\">199</span>, <span style=\"color: #00af00; text-decoration-color: #00af00\">128</span>)            │               <span style=\"color: #00af00; text-decoration-color: #00af00\">0</span> │\n",
       "├──────────────────────────────────────┼─────────────────────────────┼─────────────────┤\n",
       "│ conv1d_2 (<span style=\"color: #0087ff; text-decoration-color: #0087ff\">Conv1D</span>)                    │ (<span style=\"color: #00d7ff; text-decoration-color: #00d7ff\">None</span>, <span style=\"color: #00af00; text-decoration-color: #00af00\">196</span>, <span style=\"color: #00af00; text-decoration-color: #00af00\">64</span>)             │          <span style=\"color: #00af00; text-decoration-color: #00af00\">32,832</span> │\n",
       "├──────────────────────────────────────┼─────────────────────────────┼─────────────────┤\n",
       "│ maxpool_2 (<span style=\"color: #0087ff; text-decoration-color: #0087ff\">MaxPooling1D</span>)             │ (<span style=\"color: #00d7ff; text-decoration-color: #00d7ff\">None</span>, <span style=\"color: #00af00; text-decoration-color: #00af00\">98</span>, <span style=\"color: #00af00; text-decoration-color: #00af00\">64</span>)              │               <span style=\"color: #00af00; text-decoration-color: #00af00\">0</span> │\n",
       "├──────────────────────────────────────┼─────────────────────────────┼─────────────────┤\n",
       "│ bigru_1 (<span style=\"color: #0087ff; text-decoration-color: #0087ff\">Bidirectional</span>)              │ (<span style=\"color: #00d7ff; text-decoration-color: #00d7ff\">None</span>, <span style=\"color: #00af00; text-decoration-color: #00af00\">98</span>, <span style=\"color: #00af00; text-decoration-color: #00af00\">128</span>)             │          <span style=\"color: #00af00; text-decoration-color: #00af00\">49,920</span> │\n",
       "├──────────────────────────────────────┼─────────────────────────────┼─────────────────┤\n",
       "│ bigru_2 (<span style=\"color: #0087ff; text-decoration-color: #0087ff\">Bidirectional</span>)              │ (<span style=\"color: #00d7ff; text-decoration-color: #00d7ff\">None</span>, <span style=\"color: #00af00; text-decoration-color: #00af00\">64</span>)                  │          <span style=\"color: #00af00; text-decoration-color: #00af00\">31,104</span> │\n",
       "├──────────────────────────────────────┼─────────────────────────────┼─────────────────┤\n",
       "│ dense_1 (<span style=\"color: #0087ff; text-decoration-color: #0087ff\">Dense</span>)                      │ (<span style=\"color: #00d7ff; text-decoration-color: #00d7ff\">None</span>, <span style=\"color: #00af00; text-decoration-color: #00af00\">64</span>)                  │           <span style=\"color: #00af00; text-decoration-color: #00af00\">4,160</span> │\n",
       "├──────────────────────────────────────┼─────────────────────────────┼─────────────────┤\n",
       "│ dropout_1 (<span style=\"color: #0087ff; text-decoration-color: #0087ff\">Dropout</span>)                  │ (<span style=\"color: #00d7ff; text-decoration-color: #00d7ff\">None</span>, <span style=\"color: #00af00; text-decoration-color: #00af00\">64</span>)                  │               <span style=\"color: #00af00; text-decoration-color: #00af00\">0</span> │\n",
       "├──────────────────────────────────────┼─────────────────────────────┼─────────────────┤\n",
       "│ dense_2 (<span style=\"color: #0087ff; text-decoration-color: #0087ff\">Dense</span>)                      │ (<span style=\"color: #00d7ff; text-decoration-color: #00d7ff\">None</span>, <span style=\"color: #00af00; text-decoration-color: #00af00\">32</span>)                  │           <span style=\"color: #00af00; text-decoration-color: #00af00\">2,080</span> │\n",
       "├──────────────────────────────────────┼─────────────────────────────┼─────────────────┤\n",
       "│ dropout_2 (<span style=\"color: #0087ff; text-decoration-color: #0087ff\">Dropout</span>)                  │ (<span style=\"color: #00d7ff; text-decoration-color: #00d7ff\">None</span>, <span style=\"color: #00af00; text-decoration-color: #00af00\">32</span>)                  │               <span style=\"color: #00af00; text-decoration-color: #00af00\">0</span> │\n",
       "├──────────────────────────────────────┼─────────────────────────────┼─────────────────┤\n",
       "│ output (<span style=\"color: #0087ff; text-decoration-color: #0087ff\">Dense</span>)                       │ (<span style=\"color: #00d7ff; text-decoration-color: #00d7ff\">None</span>, <span style=\"color: #00af00; text-decoration-color: #00af00\">1</span>)                   │              <span style=\"color: #00af00; text-decoration-color: #00af00\">33</span> │\n",
       "└──────────────────────────────────────┴─────────────────────────────┴─────────────────┘\n",
       "</pre>\n"
      ],
      "text/plain": [
       "┏━━━━━━━━━━━━━━━━━━━━━━━━━━━━━━━━━━━━━━┳━━━━━━━━━━━━━━━━━━━━━━━━━━━━━┳━━━━━━━━━━━━━━━━━┓\n",
       "┃\u001b[1m \u001b[0m\u001b[1mLayer (type)                        \u001b[0m\u001b[1m \u001b[0m┃\u001b[1m \u001b[0m\u001b[1mOutput Shape               \u001b[0m\u001b[1m \u001b[0m┃\u001b[1m \u001b[0m\u001b[1m        Param #\u001b[0m\u001b[1m \u001b[0m┃\n",
       "┡━━━━━━━━━━━━━━━━━━━━━━━━━━━━━━━━━━━━━━╇━━━━━━━━━━━━━━━━━━━━━━━━━━━━━╇━━━━━━━━━━━━━━━━━┩\n",
       "│ embedding (\u001b[38;5;33mEmbedding\u001b[0m)                │ (\u001b[38;5;45mNone\u001b[0m, \u001b[38;5;34m400\u001b[0m, \u001b[38;5;34m128\u001b[0m)            │       \u001b[38;5;34m1,920,000\u001b[0m │\n",
       "├──────────────────────────────────────┼─────────────────────────────┼─────────────────┤\n",
       "│ conv1d_1 (\u001b[38;5;33mConv1D\u001b[0m)                    │ (\u001b[38;5;45mNone\u001b[0m, \u001b[38;5;34m398\u001b[0m, \u001b[38;5;34m128\u001b[0m)            │          \u001b[38;5;34m49,280\u001b[0m │\n",
       "├──────────────────────────────────────┼─────────────────────────────┼─────────────────┤\n",
       "│ maxpool_1 (\u001b[38;5;33mMaxPooling1D\u001b[0m)             │ (\u001b[38;5;45mNone\u001b[0m, \u001b[38;5;34m199\u001b[0m, \u001b[38;5;34m128\u001b[0m)            │               \u001b[38;5;34m0\u001b[0m │\n",
       "├──────────────────────────────────────┼─────────────────────────────┼─────────────────┤\n",
       "│ conv1d_2 (\u001b[38;5;33mConv1D\u001b[0m)                    │ (\u001b[38;5;45mNone\u001b[0m, \u001b[38;5;34m196\u001b[0m, \u001b[38;5;34m64\u001b[0m)             │          \u001b[38;5;34m32,832\u001b[0m │\n",
       "├──────────────────────────────────────┼─────────────────────────────┼─────────────────┤\n",
       "│ maxpool_2 (\u001b[38;5;33mMaxPooling1D\u001b[0m)             │ (\u001b[38;5;45mNone\u001b[0m, \u001b[38;5;34m98\u001b[0m, \u001b[38;5;34m64\u001b[0m)              │               \u001b[38;5;34m0\u001b[0m │\n",
       "├──────────────────────────────────────┼─────────────────────────────┼─────────────────┤\n",
       "│ bigru_1 (\u001b[38;5;33mBidirectional\u001b[0m)              │ (\u001b[38;5;45mNone\u001b[0m, \u001b[38;5;34m98\u001b[0m, \u001b[38;5;34m128\u001b[0m)             │          \u001b[38;5;34m49,920\u001b[0m │\n",
       "├──────────────────────────────────────┼─────────────────────────────┼─────────────────┤\n",
       "│ bigru_2 (\u001b[38;5;33mBidirectional\u001b[0m)              │ (\u001b[38;5;45mNone\u001b[0m, \u001b[38;5;34m64\u001b[0m)                  │          \u001b[38;5;34m31,104\u001b[0m │\n",
       "├──────────────────────────────────────┼─────────────────────────────┼─────────────────┤\n",
       "│ dense_1 (\u001b[38;5;33mDense\u001b[0m)                      │ (\u001b[38;5;45mNone\u001b[0m, \u001b[38;5;34m64\u001b[0m)                  │           \u001b[38;5;34m4,160\u001b[0m │\n",
       "├──────────────────────────────────────┼─────────────────────────────┼─────────────────┤\n",
       "│ dropout_1 (\u001b[38;5;33mDropout\u001b[0m)                  │ (\u001b[38;5;45mNone\u001b[0m, \u001b[38;5;34m64\u001b[0m)                  │               \u001b[38;5;34m0\u001b[0m │\n",
       "├──────────────────────────────────────┼─────────────────────────────┼─────────────────┤\n",
       "│ dense_2 (\u001b[38;5;33mDense\u001b[0m)                      │ (\u001b[38;5;45mNone\u001b[0m, \u001b[38;5;34m32\u001b[0m)                  │           \u001b[38;5;34m2,080\u001b[0m │\n",
       "├──────────────────────────────────────┼─────────────────────────────┼─────────────────┤\n",
       "│ dropout_2 (\u001b[38;5;33mDropout\u001b[0m)                  │ (\u001b[38;5;45mNone\u001b[0m, \u001b[38;5;34m32\u001b[0m)                  │               \u001b[38;5;34m0\u001b[0m │\n",
       "├──────────────────────────────────────┼─────────────────────────────┼─────────────────┤\n",
       "│ output (\u001b[38;5;33mDense\u001b[0m)                       │ (\u001b[38;5;45mNone\u001b[0m, \u001b[38;5;34m1\u001b[0m)                   │              \u001b[38;5;34m33\u001b[0m │\n",
       "└──────────────────────────────────────┴─────────────────────────────┴─────────────────┘\n"
      ]
     },
     "metadata": {},
     "output_type": "display_data"
    },
    {
     "data": {
      "text/html": [
       "<pre style=\"white-space:pre;overflow-x:auto;line-height:normal;font-family:Menlo,'DejaVu Sans Mono',consolas,'Courier New',monospace\"><span style=\"font-weight: bold\"> Total params: </span><span style=\"color: #00af00; text-decoration-color: #00af00\">6,268,229</span> (23.91 MB)\n",
       "</pre>\n"
      ],
      "text/plain": [
       "\u001b[1m Total params: \u001b[0m\u001b[38;5;34m6,268,229\u001b[0m (23.91 MB)\n"
      ]
     },
     "metadata": {},
     "output_type": "display_data"
    },
    {
     "data": {
      "text/html": [
       "<pre style=\"white-space:pre;overflow-x:auto;line-height:normal;font-family:Menlo,'DejaVu Sans Mono',consolas,'Courier New',monospace\"><span style=\"font-weight: bold\"> Trainable params: </span><span style=\"color: #00af00; text-decoration-color: #00af00\">2,089,409</span> (7.97 MB)\n",
       "</pre>\n"
      ],
      "text/plain": [
       "\u001b[1m Trainable params: \u001b[0m\u001b[38;5;34m2,089,409\u001b[0m (7.97 MB)\n"
      ]
     },
     "metadata": {},
     "output_type": "display_data"
    },
    {
     "data": {
      "text/html": [
       "<pre style=\"white-space:pre;overflow-x:auto;line-height:normal;font-family:Menlo,'DejaVu Sans Mono',consolas,'Courier New',monospace\"><span style=\"font-weight: bold\"> Non-trainable params: </span><span style=\"color: #00af00; text-decoration-color: #00af00\">0</span> (0.00 B)\n",
       "</pre>\n"
      ],
      "text/plain": [
       "\u001b[1m Non-trainable params: \u001b[0m\u001b[38;5;34m0\u001b[0m (0.00 B)\n"
      ]
     },
     "metadata": {},
     "output_type": "display_data"
    },
    {
     "data": {
      "text/html": [
       "<pre style=\"white-space:pre;overflow-x:auto;line-height:normal;font-family:Menlo,'DejaVu Sans Mono',consolas,'Courier New',monospace\"><span style=\"font-weight: bold\"> Optimizer params: </span><span style=\"color: #00af00; text-decoration-color: #00af00\">4,178,820</span> (15.94 MB)\n",
       "</pre>\n"
      ],
      "text/plain": [
       "\u001b[1m Optimizer params: \u001b[0m\u001b[38;5;34m4,178,820\u001b[0m (15.94 MB)\n"
      ]
     },
     "metadata": {},
     "output_type": "display_data"
    }
   ],
   "source": [
    "model.summary()"
   ]
  },
  {
   "cell_type": "markdown",
   "id": "dcf49cf8-3d85-40b8-8e55-2a32cb498246",
   "metadata": {},
   "source": [
    "##### model is a bit overcomplex"
   ]
  },
  {
   "cell_type": "markdown",
   "id": "765381b4-6a8b-4d9f-aa5a-de24490de7ca",
   "metadata": {
    "scrolled": true
   },
   "source": [
    "--------------------------------------------------------------------------------------------------------------------"
   ]
  },
  {
   "cell_type": "markdown",
   "id": "9af66290-2d5b-4c5f-a7bb-bf3e65e88552",
   "metadata": {},
   "source": [
    "#### Training History Visualization"
   ]
  },
  {
   "cell_type": "code",
   "execution_count": 41,
   "id": "239eb1df-a1bc-49e6-8a4d-6bed245336ba",
   "metadata": {},
   "outputs": [],
   "source": [
    "def plot_training_history(history):\n",
    "    fig, axes = plt.subplots(2, 2, figsize=(15, 10))\n",
    "    \n",
    "    # Accuracy\n",
    "    axes[0,0].plot(history.history['accuracy'], label='Training Accuracy')\n",
    "    axes[0,0].plot(history.history['val_accuracy'], label='Validation Accuracy')\n",
    "    axes[0,0].set_title('Model Accuracy')\n",
    "    axes[0,0].set_xlabel('Epoch')\n",
    "    axes[0,0].set_ylabel('Accuracy')\n",
    "    axes[0,0].legend()\n",
    "    \n",
    "    # Loss\n",
    "    axes[0,1].plot(history.history['loss'], label='Training Loss')\n",
    "    axes[0,1].plot(history.history['val_loss'], label='Validation Loss')\n",
    "    axes[0,1].set_title('Model Loss')\n",
    "    axes[0,1].set_xlabel('Epoch')\n",
    "    axes[0,1].set_ylabel('Loss')\n",
    "    axes[0,1].legend()\n",
    "    \n",
    "    # Precision\n",
    "    axes[1,0].plot(history.history['precision'], label='Training Precision')\n",
    "    axes[1,0].plot(history.history['val_precision'], label='Validation Precision')\n",
    "    axes[1,0].set_title('Model Precision')\n",
    "    axes[1,0].set_xlabel('Epoch')\n",
    "    axes[1,0].set_ylabel('Precision')\n",
    "    axes[1,0].legend()\n",
    "    \n",
    "    # Recall\n",
    "    axes[1,1].plot(history.history['recall'], label='Training Recall')\n",
    "    axes[1,1].plot(history.history['val_recall'], label='Validation Recall')\n",
    "    axes[1,1].set_title('Model Recall')\n",
    "    axes[1,1].set_xlabel('Epoch')\n",
    "    axes[1,1].set_ylabel('Recall')\n",
    "    axes[1,1].legend()\n",
    "    \n",
    "    plt.tight_layout()\n",
    "    plt.show()"
   ]
  },
  {
   "cell_type": "code",
   "execution_count": 42,
   "id": "58a3c51f-aae9-4452-9f9d-fb66e63704f0",
   "metadata": {},
   "outputs": [
    {
     "data": {
      "image/png": "[encoded data removed]",
      "text/plain": [
       "<Figure size 1500x1000 with 4 Axes>"
      ]
     },
     "metadata": {},
     "output_type": "display_data"
    }
   ],
   "source": [
    "plot_training_history(history)"
   ]
  },
  {
   "cell_type": "markdown",
   "id": "9c85b089-c5cb-4aca-ad87-4211b83cf29b",
   "metadata": {},
   "source": [
    "##### the curves are smooth and dont hint at overfitting. Good to go!"
   ]
  },
  {
   "cell_type": "markdown",
   "id": "8ee6421e-c02c-4275-bb7d-ab211342d6c9",
   "metadata": {},
   "source": [
    "--------------------------------------------------------------------------------------------------------------------"
   ]
  },
  {
   "cell_type": "markdown",
   "id": "c3b4ef7c-62f8-4292-a858-3a649eeb32f7",
   "metadata": {},
   "source": [
    "#### Model evaluation"
   ]
  },
  {
   "cell_type": "code",
   "execution_count": 43,
   "id": "69f4db39-2d19-4640-851a-0122938a8f0d",
   "metadata": {},
   "outputs": [],
   "source": [
    "def evaluate_model(model, X_test, y_test, X_test_text):\n",
    "    # Predictions\n",
    "    y_pred_proba = model.predict(X_test)\n",
    "    y_pred = (y_pred_proba > 0.5).astype(int)\n",
    "    \n",
    "    # Metrics\n",
    "    accuracy = accuracy_score(y_test, y_pred)\n",
    "    precision = precision_score(y_test, y_pred)\n",
    "    recall = recall_score(y_test, y_pred)\n",
    "    f1 = f1_score(y_test, y_pred)\n",
    "    auc = roc_auc_score(y_test, y_pred_proba)\n",
    "    \n",
    "    print(\"CNN-BiGRU Model Performance:\")\n",
    "    print(f\"Accuracy:  {accuracy:.4f}\")\n",
    "    print(f\"Precision: {precision:.4f}\")\n",
    "    print(f\"Recall:    {recall:.4f}\")\n",
    "    print(f\"F1-Score:  {f1:.4f}\")\n",
    "    print(f\"AUC-ROC:   {auc:.4f}\")\n",
    "    \n",
    "    # Confusion Matrix\n",
    "    cm = confusion_matrix(y_test, y_pred)\n",
    "    plt.figure(figsize=(8, 6))\n",
    "    sns.heatmap(cm, annot=True, fmt='d', cmap='Blues', \n",
    "                xticklabels=['Legitimate', 'Phishing'],\n",
    "                yticklabels=['Legitimate', 'Phishing'])\n",
    "    plt.title('Confusion Matrix')\n",
    "    plt.ylabel('True Label')\n",
    "    plt.xlabel('Predicted Label')\n",
    "    plt.show()\n",
    "    \n",
    "    print(\"\\nDetailed Classification Report:\")\n",
    "    print(classification_report(y_test, y_pred, target_names=['Legitimate', 'Phishing']))\n",
    "    \n",
    "    # ROC Curve\n",
    "    fpr, tpr, thresholds = roc_curve(y_test, y_pred_proba)\n",
    "    plt.figure(figsize=(8, 6))\n",
    "    plt.plot(fpr, tpr, color='darkorange', lw=2, label=f'ROC curve (AUC = {auc:.4f})')\n",
    "    plt.plot([0, 1], [0, 1], color='navy', lw=2, linestyle='--')\n",
    "    plt.xlim([0.0, 1.0])\n",
    "    plt.ylim([0.0, 1.05])\n",
    "    plt.xlabel('False Positive Rate')\n",
    "    plt.ylabel('True Positive Rate')\n",
    "    plt.title('Receiver Operating Characteristic (ROC) Curve')\n",
    "    plt.legend(loc=\"lower right\")\n",
    "    plt.show()\n",
    "    \n",
    "    return {\n",
    "        'accuracy': accuracy,\n",
    "        'precision': precision,\n",
    "        'recall': recall,\n",
    "        'f1': f1,\n",
    "        'auc': auc,\n",
    "        'y_pred': y_pred,\n",
    "        'y_pred_proba': y_pred_proba\n",
    "    }"
   ]
  },
  {
   "cell_type": "code",
   "execution_count": 44,
   "id": "6a7bb738-fab8-46bc-bcaf-33072e98e412",
   "metadata": {},
   "outputs": [
    {
     "name": "stdout",
     "output_type": "stream",
     "text": [
      "\u001b[1m277/277\u001b[0m \u001b[32m━━━━━━━━━━━━━━━━━━━━\u001b[0m\u001b[37m\u001b[0m \u001b[1m25s\u001b[0m 80ms/step\n",
      "CNN-BiGRU Model Performance:\n",
      "Accuracy:  0.9914\n",
      "Precision: 0.9890\n",
      "Recall:    0.9949\n",
      "F1-Score:  0.9919\n",
      "AUC-ROC:   0.9995\n"
     ]
    },
    {
     "data": {
      "image/png": "[encoded data removed]",
      "text/plain": [
       "<Figure size 800x600 with 2 Axes>"
      ]
     },
     "metadata": {},
     "output_type": "display_data"
    },
    {
     "name": "stdout",
     "output_type": "stream",
     "text": [
      "\n",
      "Detailed Classification Report:\n",
      "              precision    recall  f1-score   support\n",
      "\n",
      "  Legitimate       0.99      0.99      0.99      4154\n",
      "    Phishing       0.99      0.99      0.99      4697\n",
      "\n",
      "    accuracy                           0.99      8851\n",
      "   macro avg       0.99      0.99      0.99      8851\n",
      "weighted avg       0.99      0.99      0.99      8851\n",
      "\n"
     ]
    },
    {
     "data": {
      "image/png": "[encoded data removed]",
      "text/plain": [
       "<Figure size 800x600 with 1 Axes>"
      ]
     },
     "metadata": {},
     "output_type": "display_data"
    }
   ],
   "source": [
    "# Evaluate model\n",
    "results = evaluate_model(model, X_test_pad, y_test, X_test_text)"
   ]
  },
  {
   "cell_type": "markdown",
   "id": "47884ed5-c37f-4450-a770-ac38620c05e6",
   "metadata": {},
   "source": [
    "--------------------------------------------------------------------------------------------------------------------"
   ]
  },
  {
   "cell_type": "markdown",
   "id": "36528c1b-df56-4c2c-be2c-6b70d7d32cea",
   "metadata": {},
   "source": [
    "--------------------------------------------------------------------------------------------------------------------"
   ]
  },
  {
   "cell_type": "markdown",
   "id": "92873813-ee5f-4493-a36a-03c9ebc8a913",
   "metadata": {},
   "source": [
    "--------------------------------------------------------------------------------------------------------------------"
   ]
  },
  {
   "cell_type": "markdown",
   "id": "d7b01941-45fe-465d-810b-4513a3b9019a",
   "metadata": {},
   "source": [
    "####  SHAP Integration and Analysis"
   ]
  },
  {
   "cell_type": "code",
   "execution_count": 45,
   "id": "b6ea9dd7-f765-4b8b-8209-d455fde7f8d9",
   "metadata": {},
   "outputs": [],
   "source": [
    "def c_prediction_wrapper(model, tokenizer, max_len):\n",
    "    def predict_wrapper(texts):\n",
    "        if isinstance(texts, str):\n",
    "            texts = [texts]\n",
    "        elif isinstance(texts, np.ndarray):\n",
    "            texts = texts.tolist()\n",
    "        \n",
    "        sequences = tokenizer.texts_to_sequences(texts)\n",
    "        padded_sequences = pad_sequences(sequences, maxlen=max_len, padding='post', truncating='post')\n",
    "        predictions = model.predict(padded_sequences, verbose=0)\n",
    "        \n",
    "        prob_legitimate = 1 - predictions.flatten()\n",
    "        prob_phishing = predictions.flatten()\n",
    "        return np.column_stack([prob_legitimate, prob_phishing])\n",
    "    \n",
    "    return predict_wrapper"
   ]
  },
  {
   "cell_type": "code",
   "execution_count": 46,
   "id": "d3c17d83-6675-4755-b288-d29f8fadd7a1",
   "metadata": {},
   "outputs": [],
   "source": [
    "predict_wrapper = c_prediction_wrapper(model, tokenizer, MAX_LEN)"
   ]
  },
  {
   "cell_type": "code",
   "execution_count": 47,
   "id": "5bca070f-ccce-48f9-9506-8691db578218",
   "metadata": {},
   "outputs": [
    {
     "name": "stdout",
     "output_type": "stream",
     "text": [
      "Testing prediction wrapper...\n",
      "Test predictions shape: (3, 2)\n",
      "Sample predictions:\n",
      "[[9.9304891e-01 6.9510918e-03]\n",
      " [1.3113022e-05 9.9998689e-01]\n",
      " [9.9998790e-01 1.2120993e-05]]\n"
     ]
    }
   ],
   "source": [
    "print(\"Testing prediction wrapper...\")\n",
    "test_texts = X_test_text[:3]\n",
    "test_predictions = predict_wrapper(test_texts)\n",
    "print(f\"Test predictions shape: {test_predictions.shape}\")\n",
    "print(f\"Sample predictions:\\n{test_predictions}\")"
   ]
  },
  {
   "cell_type": "code",
   "execution_count": 48,
   "id": "76c3d90d-0804-4a3d-a4ee-d84cced2b6a4",
   "metadata": {},
   "outputs": [],
   "source": [
    "def setup_shap_text_explainer(prediction_function, background_texts=None, max_background=50):\n",
    "    if background_texts is None:\n",
    "        # using subset of training texts as background\n",
    "        background_texts = X_train_text[:max_background]\n",
    "    \n",
    "    # SHAP text explainer\n",
    "    explainer = shap.Explainer(prediction_function, background_texts)\n",
    "    print(\"SHAP Text Explainer set...\")    \n",
    "    return explainer"
   ]
  },
  {
   "cell_type": "code",
   "execution_count": 49,
   "id": "12dd1684-4940-471d-94cb-f3a9a377aea2",
   "metadata": {},
   "outputs": [],
   "source": [
    "import shap\n",
    "from shap import maskers\n",
    "\n",
    "# first define Text Masker\n",
    "text_masker = shap.maskers.Text()\n",
    "# then Explainer for text\n",
    "shap_explainer = shap.Explainer(predict_wrapper, text_masker)"
   ]
  },
  {
   "cell_type": "code",
   "execution_count": 50,
   "id": "d61f7f6f-7f3a-4aec-a8c6-649d822a63ee",
   "metadata": {},
   "outputs": [],
   "source": [
    "def explain_with_shap(explainer, test_texts, test_labels, num_samples=6, random_seed=42):    \n",
    "    print(f\"Generating SHAP explanations for {num_samples} samples...\")\n",
    "    np.random.seed(random_seed)\n",
    "\n",
    "    legitimate_indices = np.where(test_labels == 0)[0]\n",
    "    phishing_indices = np.where(test_labels == 1)[0]\n",
    "\n",
    "    n_per_class = num_samples // 2\n",
    "    selected_legitimate = np.random.choice(legitimate_indices, n_per_class, replace=False)\n",
    "    selected_phishing = np.random.choice(phishing_indices, num_samples - n_per_class, replace=False)\n",
    "    selected_indices = np.concatenate([selected_legitimate, selected_phishing])\n",
    "\n",
    "    selected_texts = [test_texts[i] for i in selected_indices]\n",
    "    selected_labels = [test_labels[i] for i in selected_indices]\n",
    "\n",
    "    print(\"Computing SHAP values...\")\n",
    "    shap_values = explainer(selected_texts)\n",
    "\n",
    "    predictions = predict_wrapper(selected_texts)\n",
    "\n",
    "    explanations = []\n",
    "    for i, idx in enumerate(selected_indices):\n",
    "        explanations.append({\n",
    "            'sample_idx': idx,\n",
    "            'text': selected_texts[i],\n",
    "            'true_label': selected_labels[i],\n",
    "            'true_label_name': 'Legitimate' if selected_labels[i] == 0 else 'Phishing',\n",
    "            'predicted_proba': predictions[i],\n",
    "            'predicted_class': np.argmax(predictions[i]),\n",
    "            'predicted_class_name': 'Legitimate' if np.argmax(predictions[i]) == 0 else 'Phishing',\n",
    "            'confidence': np.max(predictions[i]),\n",
    "            'shap_values': shap_values[i],\n",
    "            'correct_prediction': selected_labels[i] == np.argmax(predictions[i])\n",
    "        })\n",
    "\n",
    "    return explanations, shap_values"
   ]
  },
  {
   "cell_type": "code",
   "execution_count": 51,
   "id": "28a92cb3-ba6e-4b3d-a74e-2f6eda49db0e",
   "metadata": {},
   "outputs": [
    {
     "name": "stdout",
     "output_type": "stream",
     "text": [
      "Generating SHAP explanations for 6 samples...\n",
      "Computing SHAP values...\n"
     ]
    },
    {
     "data": {
      "application/vnd.jupyter.widget-view+json": {
       "model_id": "ad1aa8e5d7f645cebcd38ff77f7a4247",
       "version_major": 2,
       "version_minor": 0
      },
      "text/plain": [
       "  0%|          | 0/498 [00:00<?, ?it/s]"
      ]
     },
     "metadata": {},
     "output_type": "display_data"
    },
    {
     "name": "stderr",
     "output_type": "stream",
     "text": [
      "PartitionExplainer explainer:  17%|██████████▎                                                   | 1/6 [00:00<?, ?it/s]"
     ]
    },
    {
     "data": {
      "application/vnd.jupyter.widget-view+json": {
       "model_id": "da489365c86046c398ebaccb4b4045d2",
       "version_major": 2,
       "version_minor": 0
      },
      "text/plain": [
       "  0%|          | 0/498 [00:00<?, ?it/s]"
      ]
     },
     "metadata": {},
     "output_type": "display_data"
    },
    {
     "name": "stderr",
     "output_type": "stream",
     "text": [
      "PartitionExplainer explainer:  50%|████████████████████████                        | 3/6 [1:11:58<1:46:59, 2139.73s/it]"
     ]
    },
    {
     "data": {
      "application/vnd.jupyter.widget-view+json": {
       "model_id": "484b35fd5f0e47e09237ee69a6d1a01f",
       "version_major": 2,
       "version_minor": 0
      },
      "text/plain": [
       "  0%|          | 0/498 [00:00<?, ?it/s]"
      ]
     },
     "metadata": {},
     "output_type": "display_data"
    },
    {
     "name": "stderr",
     "output_type": "stream",
     "text": [
      "PartitionExplainer explainer:  67%|████████████████████████████████                | 4/6 [5:04:04<3:55:01, 7050.82s/it]"
     ]
    },
    {
     "data": {
      "application/vnd.jupyter.widget-view+json": {
       "model_id": "d073f71a0ba44f98addf144e3eb6cd88",
       "version_major": 2,
       "version_minor": 0
      },
      "text/plain": [
       "  0%|          | 0/498 [00:00<?, ?it/s]"
      ]
     },
     "metadata": {},
     "output_type": "display_data"
    },
    {
     "name": "stderr",
     "output_type": "stream",
     "text": [
      "PartitionExplainer explainer:  83%|████████████████████████████████████████        | 5/6 [5:04:31<1:13:49, 4429.94s/it]"
     ]
    },
    {
     "data": {
      "application/vnd.jupyter.widget-view+json": {
       "model_id": "476bac8258484e75bb39c501a09caab1",
       "version_major": 2,
       "version_minor": 0
      },
      "text/plain": [
       "  0%|          | 0/498 [00:00<?, ?it/s]"
      ]
     },
     "metadata": {},
     "output_type": "display_data"
    },
    {
     "name": "stderr",
     "output_type": "stream",
     "text": [
      "PartitionExplainer explainer: 100%|██████████████████████████████████████████████████| 6/6 [5:04:57<00:00, 2898.42s/it]"
     ]
    },
    {
     "data": {
      "application/vnd.jupyter.widget-view+json": {
       "model_id": "d19bfa317fb5496d847017c436a7eadd",
       "version_major": 2,
       "version_minor": 0
      },
      "text/plain": [
       "  0%|          | 0/498 [00:00<?, ?it/s]"
      ]
     },
     "metadata": {},
     "output_type": "display_data"
    },
    {
     "name": "stderr",
     "output_type": "stream",
     "text": [
      "PartitionExplainer explainer: 7it [5:05:22, 3053.69s/it]                                                               \n"
     ]
    }
   ],
   "source": [
    "# generating SHAP explanations....\n",
    "shap_explanations, shap_values = explain_with_shap(\n",
    "    shap_explainer, X_test_text, y_test, num_samples=6, random_seed=42\n",
    ")"
   ]
  },
  {
   "cell_type": "code",
   "execution_count": 52,
   "id": "62f16899-acae-4af0-8501-c2e9e263496d",
   "metadata": {},
   "outputs": [
    {
     "name": "stdout",
     "output_type": "stream",
     "text": [
      "\n",
      "Generated explanations for 6 samples:\n",
      "Sample 1: True=Legitimate, Predicted=Legitimate, Confidence=1.000, Correct=True\n",
      "Sample 2: True=Legitimate, Predicted=Legitimate, Confidence=1.000, Correct=True\n",
      "Sample 3: True=Legitimate, Predicted=Legitimate, Confidence=1.000, Correct=True\n",
      "Sample 4: True=Phishing, Predicted=Phishing, Confidence=1.000, Correct=True\n",
      "Sample 5: True=Phishing, Predicted=Phishing, Confidence=1.000, Correct=True\n",
      "Sample 6: True=Phishing, Predicted=Phishing, Confidence=0.999, Correct=True\n"
     ]
    }
   ],
   "source": [
    "print(f\"\\nGenerated explanations for {len(shap_explanations)} samples:\")\n",
    "for i, exp in enumerate(shap_explanations):\n",
    "    print(f\"Sample {i+1}: True={exp['true_label_name']}, Predicted={exp['predicted_class_name']}, \"\n",
    "          f\"Confidence={exp['confidence']:.3f}, Correct={exp['correct_prediction']}\")"
   ]
  },
  {
   "cell_type": "markdown",
   "id": "3ab536da-ab5c-47e2-8ec5-552161b85144",
   "metadata": {},
   "source": [
    "#### SHAP INFERENCE"
   ]
  },
  {
   "cell_type": "code",
   "execution_count": 53,
   "id": "ea10dbce-4a34-4721-8067-8450ccd354e8",
   "metadata": {},
   "outputs": [],
   "source": [
    "import pandas as pd\n",
    "import numpy as np\n",
    "import re\n",
    "import shap\n",
    "from keras.preprocessing.sequence import pad_sequences\n",
    "import matplotlib.pyplot as plt\n",
    "\n",
    "# === 1. preprocessing/cleaning===\n",
    "def advanced_text_cleaning(text):\n",
    "    if pd.isna(text):\n",
    "        return \"\"\n",
    "    text = str(text).lower()\n",
    "    text = re.sub(r'(from:|to:|subject:|date:|reply-to:|message-id:).*?\\n', '', text)\n",
    "    text = re.sub(r'<[^>]+>', ' ', text)\n",
    "    text = re.sub(r'http[s]?://\\S+', ' URL_TOKEN ', text)\n",
    "    text = re.sub(r'\\b[A-Za-z0-9._%+-]+@[A-Za-z0-9.-]+\\.[A-Z|a-z]{2,}\\b', ' EMAIL_TOKEN ', text)\n",
    "    text = re.sub(r'[\\+]?[1-9]?[0-9]{7,15}', ' PHONE_TOKEN ', text)\n",
    "    text = re.sub(r'[!]{3,}', ' MULTIPLE_EXCLAMATION ', text)\n",
    "    text = re.sub(r'[\\?]{3,}', ' MULTIPLE_QUESTION ', text)\n",
    "    text = re.sub(r'[$]{2,}', ' MULTIPLE_DOLLAR ', text)\n",
    "    text = re.sub(r'[^a-zA-Z0-9\\s!?$.]', ' ', text)\n",
    "    text = re.sub(r'\\s+', ' ', text).strip()\n",
    "    return text\n",
    "\n",
    "# === 2. feature engineering===\n",
    "def extract_email_features_row(text, url_count=0):\n",
    "    features = {}\n",
    "    features['char_count'] = len(text)\n",
    "    features['word_count'] = len(text.split())\n",
    "    features['sentence_count'] = text.count('.') + text.count('!') + text.count('?')\n",
    "    features['avg_word_length'] = features['char_count'] / (features['word_count'] + 1e-5)\n",
    "    features['exclamation_count'] = text.count('!')\n",
    "    features['question_count'] = text.count('?')\n",
    "    features['dollar_count'] = text.count('$')\n",
    "    features['capital_count'] = sum(1 for c in text if c.isupper())\n",
    "    features['capital_ratio'] = features['capital_count'] / (features['char_count'] + 1e-5)\n",
    "    \n",
    "    suspicious_words = ['urgent', 'immediate', 'act now', 'limited time', 'click here', \n",
    "                        'free', 'winner', 'prize', 'verify', 'confirm', 'suspended']\n",
    "    for word in suspicious_words:\n",
    "        features[f'contains_{word.replace(\" \", \"_\")}'] = int(word in text)\n",
    "    \n",
    "    features['url_count'] = url_count\n",
    "    features['has_url'] = int(url_count > 0)\n",
    "    features['has_attachment'] = int('attachment' in text.lower())\n",
    "    \n",
    "    return pd.DataFrame([features])"
   ]
  },
  {
   "cell_type": "code",
   "execution_count": 54,
   "id": "1a8929f8-6bc5-4778-91bf-6f5b0860f8a8",
   "metadata": {},
   "outputs": [],
   "source": [
    "def make_inference_pipeline(model, tokenizer, max_len, explainer, row, return_shap=True):\n",
    "    subject_clean = advanced_text_cleaning(row['subject'])\n",
    "    body_clean = advanced_text_cleaning(row['body'])\n",
    "    full_text = subject_clean + ' ' + body_clean\n",
    "\n",
    "    # Tokenize and pad\n",
    "    sequence = tokenizer.texts_to_sequences([full_text])\n",
    "    padded_sequence = pad_sequences(sequence, maxlen=max_len, padding='post', truncating='post')\n",
    "\n",
    "    # Predict\n",
    "    prediction = model.predict(padded_sequence, verbose=0)[0][0]\n",
    "    predicted_class = int(prediction > 0.5)\n",
    "    confidence = prediction if predicted_class == 1 else 1 - prediction\n",
    "\n",
    "    result = {\n",
    "        \"text\": full_text,\n",
    "        \"predicted_class\": predicted_class,\n",
    "        \"confidence\": confidence,\n",
    "        \"probabilities\": [1 - prediction, prediction],\n",
    "    }\n",
    "\n",
    "    # SHAP explanation\n",
    "    if return_shap:\n",
    "        shap_values = explainer([full_text])\n",
    "        result[\"shap_values\"] = shap_values[0]  # single explanation\n",
    "\n",
    "    return result"
   ]
  },
  {
   "cell_type": "code",
   "execution_count": 55,
   "id": "4852f555-4c33-4e4d-926a-0858fe6f05eb",
   "metadata": {},
   "outputs": [],
   "source": [
    "# any row from our DataFrame\n",
    "sample_row = df.iloc[0]"
   ]
  },
  {
   "cell_type": "code",
   "execution_count": 56,
   "id": "ff736437-669b-4897-beb9-91300bfbb8ba",
   "metadata": {
    "scrolled": true
   },
   "outputs": [
    {
     "data": {
      "text/plain": [
       "sender                                           Robert Elz <kre@munnari.OZ.AU>\n",
       "receiver                      Chris Garrigues <cwg-dated-1030377287.06fa6d@D...\n",
       "date                                            Thu, 22 Aug 2002 18:26:25 +0700\n",
       "subject                                                Re: New Sequences Window\n",
       "body                          Date:        Wed, 21 Aug 2002 10:54:46 -0500  ...\n",
       "label                                                                         0\n",
       "urls                                                                          1\n",
       "subject_clean                                           re new sequences window\n",
       "body_clean                    date wed 21 aug 2002 10 54 46 0500 from chris ...\n",
       "text                          re new sequences window date wed 21 aug 2002 1...\n",
       "text_length                                                                1319\n",
       "word_count                                                                  258\n",
       "feat_char_count                                                            1319\n",
       "feat_word_count                                                             258\n",
       "feat_sentence_count                                                          19\n",
       "feat_avg_word_length                                                   5.112403\n",
       "feat_exclamation_count                                                        0\n",
       "feat_question_count                                                           0\n",
       "feat_dollar_count                                                             3\n",
       "feat_capital_count                                                           18\n",
       "feat_capital_ratio                                                     0.013647\n",
       "feat_contains_urgent                                                          0\n",
       "feat_contains_immediate                                                       0\n",
       "feat_contains_act_now                                                         0\n",
       "feat_contains_limited_time                                                    0\n",
       "feat_contains_click_here                                                      0\n",
       "feat_contains_free                                                            0\n",
       "feat_contains_winner                                                          0\n",
       "feat_contains_prize                                                           0\n",
       "feat_contains_verify                                                          0\n",
       "feat_contains_confirm                                                         0\n",
       "feat_contains_suspended                                                       0\n",
       "feat_url_count                                                                1\n",
       "feat_has_url                                                                  1\n",
       "feat_has_attachment                                                           0\n",
       "Name: 0, dtype: object"
      ]
     },
     "execution_count": 56,
     "metadata": {},
     "output_type": "execute_result"
    }
   ],
   "source": [
    "sample_row"
   ]
  },
  {
   "cell_type": "code",
   "execution_count": 57,
   "id": "d59a51de-73d8-412b-afde-7445dfe74068",
   "metadata": {},
   "outputs": [],
   "source": [
    "import shap\n",
    "from shap.maskers import Text\n",
    "\n",
    "text_masker = Text(tokenizer=None)  # raw string input, so tokenizer=None\n",
    "shap_explainer = shap.Explainer(predict_wrapper, masker=text_masker)"
   ]
  },
  {
   "cell_type": "code",
   "execution_count": null,
   "id": "d8daaaa0-3ea7-489d-9ad3-13042bf54750",
   "metadata": {},
   "outputs": [
    {
     "data": {
      "application/vnd.jupyter.widget-view+json": {
       "model_id": "eedffceb033040248631dbae16ef4a4f",
       "version_major": 2,
       "version_minor": 0
      },
      "text/plain": [
       "  0%|          | 0/498 [00:00<?, ?it/s]"
      ]
     },
     "metadata": {},
     "output_type": "display_data"
    }
   ],
   "source": [
    "result = make_inference_pipeline(\n",
    "    model=model,\n",
    "    tokenizer=tokenizer,\n",
    "    max_len=MAX_LEN,\n",
    "    explainer=shap_explainer,\n",
    "    row=sample_row,\n",
    "    return_shap=True\n",
    ")"
   ]
  },
  {
   "cell_type": "code",
   "execution_count": null,
   "id": "a69e2823-eb6c-4c50-9c23-813de4500a84",
   "metadata": {
    "scrolled": true
   },
   "outputs": [],
   "source": [
    "print(result)"
   ]
  },
  {
   "cell_type": "code",
   "execution_count": null,
   "id": "ef20af9a-c8da-4af8-9118-39c9b62db7f9",
   "metadata": {},
   "outputs": [],
   "source": [
    "# output\n",
    "print(f\"Prediction: {'Phishing' if result['predicted_class'] == 1 else 'Legitimate'}\")\n",
    "print(f\"Confidence: {result['confidence']:.3f}\")\n",
    "print(f\"Probabilities: {result['probabilities']}\")"
   ]
  },
  {
   "cell_type": "code",
   "execution_count": null,
   "id": "5fb5f881-ff30-43b6-adab-4e89df9dc66b",
   "metadata": {},
   "outputs": [],
   "source": [
    "def visualize_single_shap_result(shap_values, text=None):\n",
    "    if text:\n",
    "        print(f\"Visualizing explanation for: {text[:100]}...\")\n",
    "    shap.plots.text(shap_values)\n",
    "\n",
    "visualize_single_shap_result(result['shap_values'], result['text'])"
   ]
  },
  {
   "cell_type": "code",
   "execution_count": null,
   "id": "e89eaec5-9888-44b5-bb4d-99edfa682cf5",
   "metadata": {},
   "outputs": [],
   "source": [
    "# SHAP WATERFALL PLOTS (for detailed explanations)\n",
    "def create_shap_waterfall_plots(explanations, max_samples=2, class_index=1):\n",
    "\n",
    "    for i in range(min(len(explanations), max_samples)):\n",
    "        exp = explanations[i]\n",
    "        shap_values = exp['shap_values']\n",
    "\n",
    "        print(f\"\\nWaterfall plot for sample {exp['sample_idx']}:\")\n",
    "        print(f\"True: {exp['true_label_name']}, Predicted: {exp['predicted_class_name']}, Confidence: {exp['confidence']:.3f}\")\n",
    "\n",
    "        # if multiclass SHAP explanation\n",
    "        if isinstance(shap_values, shap.Explanation):\n",
    "            # Handle 2D shap_values.values\n",
    "            if shap_values.values.ndim == 2:\n",
    "                shap_val = shap.Explanation(\n",
    "                    values=shap_values.values[:, class_index],\n",
    "                    base_values=shap_values.base_values[class_index] if isinstance(shap_values.base_values, np.ndarray) else shap_values.base_values,\n",
    "                    data=shap_values.data,\n",
    "                    feature_names=shap_values.feature_names\n",
    "                )\n",
    "            else:\n",
    "                shap_val = shap_values\n",
    "        else:\n",
    "            print(\"[!] Unexpected SHAP format.\")\n",
    "            continue\n",
    "\n",
    "        # fixing to ensure it's a scalar (not one-element array)\n",
    "        if isinstance(shap_val.base_values, np.ndarray):\n",
    "            shap_val.base_values = float(shap_val.base_values.flatten()[0])\n",
    "\n",
    "        shap.plots.waterfall(shap_val, max_display=20)"
   ]
  },
  {
   "cell_type": "code",
   "execution_count": null,
   "id": "5d62671a-0077-4d56-8945-b92c217c57cb",
   "metadata": {
    "scrolled": true
   },
   "outputs": [],
   "source": [
    "# waterfall plots\n",
    "create_shap_waterfall_plots(shap_explanations, max_samples=2, class_index=1)"
   ]
  },
  {
   "cell_type": "markdown",
   "id": "f37c5bc0-d8ea-4080-a6df-56b7b59f9d1d",
   "metadata": {},
   "source": [
    "--------------------------------------------------------------------------------------------------------------------"
   ]
  },
  {
   "cell_type": "markdown",
   "id": "5865d373-84a7-4b39-87cf-83311f359c8e",
   "metadata": {},
   "source": [
    "--------------------------------------------------------------------------------------------------------------------"
   ]
  },
  {
   "cell_type": "markdown",
   "id": "dadcaf1c-fac7-4752-a49c-12b3d541ae30",
   "metadata": {},
   "source": [
    "--------------------------------------------------------------------------------------------------------------------"
   ]
  },
  {
   "cell_type": "markdown",
   "id": "bc8949a5-afb8-4968-8bbf-3d0e00171c8e",
   "metadata": {},
   "source": [
    "#### LIME Integration with CNN-BiGRU"
   ]
  },
  {
   "cell_type": "code",
   "execution_count": null,
   "id": "544e6b0a-1023-449a-9093-197a53d523a6",
   "metadata": {},
   "outputs": [],
   "source": [
    "import numpy as np\n",
    "import pandas as pd\n",
    "import re\n",
    "from keras.preprocessing.sequence import pad_sequences\n",
    "from lime.lime_text import LimeTextExplainer\n",
    "import matplotlib.pyplot as plt"
   ]
  },
  {
   "cell_type": "code",
   "execution_count": null,
   "id": "ad18a7f2-2fbd-4ca5-9c2b-f3c74b5854df",
   "metadata": {},
   "outputs": [],
   "source": [
    "# ---- LIMEwrapper: Returns probabilities for both classes ----\n",
    "def lime_prediction_wrapper(texts):\n",
    "    sequences = tokenizer.texts_to_sequences(texts)\n",
    "    padded = pad_sequences(sequences, maxlen=MAX_LEN, padding='post', truncating='post')\n",
    "    predictions = model.predict(padded)\n",
    "    return np.hstack([(1 - predictions), predictions])  # Shape: (n_samples, 2)"
   ]
  },
  {
   "cell_type": "code",
   "execution_count": null,
   "id": "de98ce43-f81e-4533-8316-26aa17aa9f95",
   "metadata": {},
   "outputs": [],
   "source": [
    "lime_explainer = LimeTextExplainer(class_names=['Legitimate', 'Phishing'])"
   ]
  },
  {
   "cell_type": "code",
   "execution_count": null,
   "id": "39dd8e0f-3cc8-4c19-b4fb-93a6741a2ddc",
   "metadata": {},
   "outputs": [],
   "source": [
    "def lime_inference_pipeline(model, tokenizer, max_len, row, explainer):\n",
    "    # Clean and prepare text\n",
    "    subject_clean = advanced_text_cleaning(row['subject'])\n",
    "    body_clean = advanced_text_cleaning(row['body'])\n",
    "    full_text = subject_clean + ' ' + body_clean\n",
    "\n",
    "    # Predict\n",
    "    sequence = tokenizer.texts_to_sequences([full_text])\n",
    "    padded = pad_sequences(sequence, maxlen=max_len, padding='post', truncating='post')\n",
    "    prediction = model.predict(padded, verbose=0)[0][0]\n",
    "    predicted_class = int(prediction > 0.5)\n",
    "    confidence = prediction if predicted_class == 1 else 1 - prediction\n",
    "\n",
    "    # LIME explanation\n",
    "    lime_exp = explainer.explain_instance(\n",
    "        full_text,\n",
    "        lime_prediction_wrapper,\n",
    "        num_features=10,\n",
    "        labels=[1]\n",
    "    )\n",
    "\n",
    "    return {\n",
    "        'text': full_text,\n",
    "        'predicted_class': predicted_class,\n",
    "        'confidence': confidence,\n",
    "        'probabilities': [1 - prediction, prediction],\n",
    "        'lime_explanation': lime_exp\n",
    "    }"
   ]
  },
  {
   "cell_type": "code",
   "execution_count": null,
   "id": "aacf8735-74d9-4daa-91f5-239533109f23",
   "metadata": {},
   "outputs": [],
   "source": [
    "def visualize_lime_explanation(lime_explanation):\n",
    "    lime_explanation.show_in_notebook(text=True)\n",
    "    # or save as HTML:\n",
    "    # lime_explanation.save_to_file('lime_explanation.html')"
   ]
  },
  {
   "cell_type": "code",
   "execution_count": null,
   "id": "0fccb75e-fa93-4182-bfd8-26fe1b026c62",
   "metadata": {},
   "outputs": [],
   "source": [
    "sample_row = df.iloc[20010]\n",
    "\n",
    "lime_result = lime_inference_pipeline(\n",
    "    model=model,\n",
    "    tokenizer=tokenizer,\n",
    "    max_len=MAX_LEN,\n",
    "    row=sample_row,\n",
    "    explainer=lime_explainer\n",
    ")"
   ]
  },
  {
   "cell_type": "code",
   "execution_count": null,
   "id": "1f91e1e6-3336-484e-a7f0-db6067dee2ae",
   "metadata": {},
   "outputs": [],
   "source": [
    "# result\n",
    "print(\"Predicted Class:\", lime_result['predicted_class'])\n",
    "print(\"Confidence:\", lime_result['confidence'])"
   ]
  },
  {
   "cell_type": "code",
   "execution_count": null,
   "id": "347f8467-2f7c-4c64-9f9e-77bcd56ce5bf",
   "metadata": {},
   "outputs": [],
   "source": [
    "# Visualize\n",
    "visualize_lime_explanation(lime_result['lime_explanation'])"
   ]
  },
  {
   "cell_type": "markdown",
   "id": "fb021123-265f-4f9b-99ef-3501cb5c8789",
   "metadata": {},
   "source": [
    "##### inference within a minute!"
   ]
  },
  {
   "cell_type": "markdown",
   "id": "c71e04be-fd1f-40ec-b3bf-c60a634e9b41",
   "metadata": {},
   "source": [
    "--------------------------------------------------------------------------------------------------------------------"
   ]
  },
  {
   "cell_type": "markdown",
   "id": "2a2b3a45-2fda-43ad-99dc-2f84710c61cb",
   "metadata": {},
   "source": [
    "--------------------------------------------------------------------------------------------------------------------"
   ]
  }
 ],
 "metadata": {
  "kernelspec": {
   "display_name": "Python 3 (ipykernel)",
   "language": "python",
   "name": "python3"
  },
  "language_info": {
   "codemirror_mode": {
    "name": "ipython",
    "version": 3
   },
   "file_extension": ".py",
   "mimetype": "text/x-python",
   "name": "python",
   "nbconvert_exporter": "python",
   "pygments_lexer": "ipython3",
   "version": "3.10.9"
  }
 },
 "nbformat": 4,
 "nbformat_minor": 5
}
