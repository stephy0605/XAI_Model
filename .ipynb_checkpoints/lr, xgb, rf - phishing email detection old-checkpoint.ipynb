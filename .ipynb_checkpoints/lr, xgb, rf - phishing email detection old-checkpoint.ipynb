{
 "cells": [
  {
   "cell_type": "markdown",
   "id": "508196f5-5dd1-4224-96af-ce9bd2cf6ed2",
   "metadata": {},
   "source": [
    "--------------------------------------------------------------------------------------------------------------------"
   ]
  },
  {
   "cell_type": "markdown",
   "id": "5f849781-7680-4478-91f3-289d0acdb93b",
   "metadata": {},
   "source": [
    "## Traditional Models for phishing email detection"
   ]
  },
  {
   "cell_type": "markdown",
   "id": "2da5e045-4b0a-4e8b-8d9d-cf2b6b83f532",
   "metadata": {},
   "source": [
    "--------------------------------------------------------------------------------------------------------------------"
   ]
  },
  {
   "cell_type": "markdown",
   "id": "be18ddfd-6c09-4bb1-995b-767f0cca3106",
   "metadata": {},
   "source": [
    "#### Importing libraries"
   ]
  },
  {
   "cell_type": "code",
   "execution_count": 1,
   "id": "a4e16afc-2397-4208-88c6-5b945ec9ca11",
   "metadata": {},
   "outputs": [],
   "source": [
    "import pandas as pd\n",
    "import numpy as np\n",
    "import matplotlib.pyplot as plt\n",
    "import seaborn as sns\n",
    "from collections import Counter"
   ]
  },
  {
   "cell_type": "code",
   "execution_count": 2,
   "id": "d2ab8475-b1bb-4040-ba79-26a048b3de15",
   "metadata": {},
   "outputs": [],
   "source": [
    "import re\n",
    "import string\n",
    "from wordcloud import WordCloud\n",
    "import warnings\n",
    "warnings.filterwarnings('ignore')\n",
    "# Text preprocessing\n",
    "import nltk\n",
    "from nltk.corpus import stopwords\n",
    "from nltk.tokenize import word_tokenize\n",
    "from nltk.stem import WordNetLemmatizer"
   ]
  },
  {
   "cell_type": "code",
   "execution_count": 53,
   "id": "4b489dcc-935b-4216-9ac1-c6e1b785499b",
   "metadata": {},
   "outputs": [
    {
     "name": "stderr",
     "output_type": "stream",
     "text": [
      "[nltk_data] Downloading package punkt to\n",
      "[nltk_data]     C:\\Users\\LOQ\\AppData\\Roaming\\nltk_data...\n",
      "[nltk_data]   Package punkt is already up-to-date!\n",
      "[nltk_data] Downloading package stopwords to\n",
      "[nltk_data]     C:\\Users\\LOQ\\AppData\\Roaming\\nltk_data...\n",
      "[nltk_data]   Unzipping corpora\\stopwords.zip.\n",
      "[nltk_data] Downloading package wordnet to\n",
      "[nltk_data]     C:\\Users\\LOQ\\AppData\\Roaming\\nltk_data...\n"
     ]
    }
   ],
   "source": [
    "try:\n",
    "    nltk.data.find('tokenizers/punkt')\n",
    "    nltk.data.find('corpora/stopwords')\n",
    "    nltk.data.find('corpora/wordnet')\n",
    "except LookupError:\n",
    "    nltk.download('punkt')\n",
    "    nltk.download('stopwords')\n",
    "    nltk.download('wordnet')"
   ]
  },
  {
   "cell_type": "code",
   "execution_count": 3,
   "id": "12b2ca80-eb05-4ea9-8c5e-16157a202967",
   "metadata": {},
   "outputs": [],
   "source": [
    "# Feature extraction\n",
    "from sklearn.feature_extraction.text import TfidfVectorizer, CountVectorizer\n",
    "from sklearn.model_selection import train_test_split, cross_val_score, GridSearchCV\n",
    "from sklearn.preprocessing import StandardScaler"
   ]
  },
  {
   "cell_type": "code",
   "execution_count": 4,
   "id": "48a9b893-73f5-4dfa-943c-d99e5d22071f",
   "metadata": {},
   "outputs": [],
   "source": [
    "# Models\n",
    "from sklearn.naive_bayes import MultinomialNB, GaussianNB\n",
    "from sklearn.linear_model import LogisticRegression\n",
    "from sklearn.ensemble import RandomForestClassifier, GradientBoostingClassifier\n",
    "\n",
    "# Evaluation metrics\n",
    "from sklearn.metrics import (accuracy_score, classification_report, confusion_matrix, \n",
    "                           roc_auc_score, roc_curve, precision_recall_curve, f1_score)"
   ]
  },
  {
   "cell_type": "markdown",
   "id": "d3a0eac7-56d5-4554-9326-65e37b858123",
   "metadata": {},
   "source": [
    "--------------------------------------------------------------------------------------------------------------------"
   ]
  },
  {
   "cell_type": "markdown",
   "id": "c34ade16-cf2e-4413-b153-d005af458a3f",
   "metadata": {},
   "source": [
    "#### Loading data"
   ]
  },
  {
   "cell_type": "code",
   "execution_count": 5,
   "id": "b2cc03bc-9c5c-4944-b997-00dff84a8403",
   "metadata": {},
   "outputs": [],
   "source": [
    "df1 = pd.read_csv(\"C:/Users/LOQ/Desktop/SpamAssasin.csv\")\n",
    "df2 = pd.read_csv(\"C:/Users/LOQ/Desktop/CEAS_08.csv\")"
   ]
  },
  {
   "cell_type": "markdown",
   "id": "d29acf2f-4e28-4f10-8a2d-9d35351334a2",
   "metadata": {},
   "source": [
    "--------------------------------------------------------------------------------------------------------------------"
   ]
  },
  {
   "cell_type": "markdown",
   "id": "64ed4d0a-6810-41f8-8a40-81db999f112a",
   "metadata": {},
   "source": [
    "#### Inspection"
   ]
  },
  {
   "cell_type": "code",
   "execution_count": 6,
   "id": "eaf73a6f-503b-49d3-b681-9e629ac45d4f",
   "metadata": {},
   "outputs": [
    {
     "data": {
      "text/html": [
       "<div>\n",
       "<style scoped>\n",
       "    .dataframe tbody tr th:only-of-type {\n",
       "        vertical-align: middle;\n",
       "    }\n",
       "\n",
       "    .dataframe tbody tr th {\n",
       "        vertical-align: top;\n",
       "    }\n",
       "\n",
       "    .dataframe thead th {\n",
       "        text-align: right;\n",
       "    }\n",
       "</style>\n",
       "<table border=\"1\" class=\"dataframe\">\n",
       "  <thead>\n",
       "    <tr style=\"text-align: right;\">\n",
       "      <th></th>\n",
       "      <th>sender</th>\n",
       "      <th>receiver</th>\n",
       "      <th>date</th>\n",
       "      <th>subject</th>\n",
       "      <th>body</th>\n",
       "      <th>label</th>\n",
       "      <th>urls</th>\n",
       "    </tr>\n",
       "  </thead>\n",
       "  <tbody>\n",
       "    <tr>\n",
       "      <th>0</th>\n",
       "      <td>Robert Elz &lt;kre@munnari.OZ.AU&gt;</td>\n",
       "      <td>Chris Garrigues &lt;cwg-dated-1030377287.06fa6d@D...</td>\n",
       "      <td>Thu, 22 Aug 2002 18:26:25 +0700</td>\n",
       "      <td>Re: New Sequences Window</td>\n",
       "      <td>Date:        Wed, 21 Aug 2002 10:54:46 -0500  ...</td>\n",
       "      <td>0</td>\n",
       "      <td>1</td>\n",
       "    </tr>\n",
       "    <tr>\n",
       "      <th>1</th>\n",
       "      <td>Steve Burt &lt;Steve_Burt@cursor-system.com&gt;</td>\n",
       "      <td>\"'zzzzteana@yahoogroups.com'\" &lt;zzzzteana@yahoo...</td>\n",
       "      <td>Thu, 22 Aug 2002 12:46:18 +0100</td>\n",
       "      <td>[zzzzteana] RE: Alexander</td>\n",
       "      <td>Martin A posted:\\nTassos Papadopoulos, the Gre...</td>\n",
       "      <td>0</td>\n",
       "      <td>1</td>\n",
       "    </tr>\n",
       "    <tr>\n",
       "      <th>2</th>\n",
       "      <td>\"Tim Chapman\" &lt;timc@2ubh.com&gt;</td>\n",
       "      <td>zzzzteana &lt;zzzzteana@yahoogroups.com&gt;</td>\n",
       "      <td>Thu, 22 Aug 2002 13:52:38 +0100</td>\n",
       "      <td>[zzzzteana] Moscow bomber</td>\n",
       "      <td>Man Threatens Explosion In Moscow \\n\\nThursday...</td>\n",
       "      <td>0</td>\n",
       "      <td>1</td>\n",
       "    </tr>\n",
       "    <tr>\n",
       "      <th>3</th>\n",
       "      <td>Monty Solomon &lt;monty@roscom.com&gt;</td>\n",
       "      <td>undisclosed-recipient: ;</td>\n",
       "      <td>Thu, 22 Aug 2002 09:15:25 -0400</td>\n",
       "      <td>[IRR] Klez: The Virus That  Won't Die</td>\n",
       "      <td>Klez: The Virus That Won't Die\\n \\nAlready the...</td>\n",
       "      <td>0</td>\n",
       "      <td>1</td>\n",
       "    </tr>\n",
       "    <tr>\n",
       "      <th>4</th>\n",
       "      <td>Stewart Smith &lt;Stewart.Smith@ee.ed.ac.uk&gt;</td>\n",
       "      <td>zzzzteana@yahoogroups.com</td>\n",
       "      <td>Thu, 22 Aug 2002 14:38:22 +0100</td>\n",
       "      <td>Re: [zzzzteana] Nothing like mama used to make</td>\n",
       "      <td>&gt;  in adding cream to spaghetti carbonara, whi...</td>\n",
       "      <td>0</td>\n",
       "      <td>1</td>\n",
       "    </tr>\n",
       "    <tr>\n",
       "      <th>...</th>\n",
       "      <td>...</td>\n",
       "      <td>...</td>\n",
       "      <td>...</td>\n",
       "      <td>...</td>\n",
       "      <td>...</td>\n",
       "      <td>...</td>\n",
       "      <td>...</td>\n",
       "    </tr>\n",
       "    <tr>\n",
       "      <th>5804</th>\n",
       "      <td>Professional_Career_Development_Institute@Frug...</td>\n",
       "      <td>yyyy@netnoteinc.com</td>\n",
       "      <td>Tue, 3 Dec 2002 13:19:58 -0800</td>\n",
       "      <td>Busy? Home Study Makes Sense!</td>\n",
       "      <td>\\n\\n  \\n---  \\n![](http://images.pcdi-homestud...</td>\n",
       "      <td>1</td>\n",
       "      <td>1</td>\n",
       "    </tr>\n",
       "    <tr>\n",
       "      <th>5805</th>\n",
       "      <td>\"IQ - TBA\" &lt;tba@insiq.us&gt;</td>\n",
       "      <td>&lt;yyyy@spamassassin.taint.org&gt;</td>\n",
       "      <td>Tue, 3 Dec 2002 18:52:29 -0500</td>\n",
       "      <td>Preferred Non-Smoker Rates for Smokers</td>\n",
       "      <td>This is a multi-part message in MIME format. -...</td>\n",
       "      <td>1</td>\n",
       "      <td>1</td>\n",
       "    </tr>\n",
       "    <tr>\n",
       "      <th>5806</th>\n",
       "      <td>Mike &lt;raye@yahoo.lv&gt;</td>\n",
       "      <td>Mailing.List@user2.pro-ns.net</td>\n",
       "      <td>Sun, 20 Jul 2003 16:19:44 +0800</td>\n",
       "      <td>How to get 10,000 FREE hits per day to any web...</td>\n",
       "      <td>Dear Subscriber,\\n\\nIf I could show you a way ...</td>\n",
       "      <td>1</td>\n",
       "      <td>1</td>\n",
       "    </tr>\n",
       "    <tr>\n",
       "      <th>5807</th>\n",
       "      <td>\"Mr. Clean\" &lt;cweqx@dialix.oz.au&gt;</td>\n",
       "      <td>&lt;Undisclosed.Recipients@webnote.net&gt;</td>\n",
       "      <td>Wed, 05 Aug 2020 04:01:50 -1900</td>\n",
       "      <td>Cannabis Difference</td>\n",
       "      <td>****Mid-Summer Customer Appreciation SALE!****...</td>\n",
       "      <td>1</td>\n",
       "      <td>0</td>\n",
       "    </tr>\n",
       "    <tr>\n",
       "      <th>5808</th>\n",
       "      <td>\"wilsonkamela400@netscape.net\" &lt;wilsonkamela50...</td>\n",
       "      <td>ilug@linux.ie</td>\n",
       "      <td>Wed, 04 Dec 2002 06:07:07</td>\n",
       "      <td>[ILUG] WILSON  KAMELA</td>\n",
       "      <td>ATTN:SIR/MADAN      \\n\\n                      ...</td>\n",
       "      <td>1</td>\n",
       "      <td>1</td>\n",
       "    </tr>\n",
       "  </tbody>\n",
       "</table>\n",
       "<p>5809 rows × 7 columns</p>\n",
       "</div>"
      ],
      "text/plain": [
       "                                                 sender  \\\n",
       "0                        Robert Elz <kre@munnari.OZ.AU>   \n",
       "1             Steve Burt <Steve_Burt@cursor-system.com>   \n",
       "2                         \"Tim Chapman\" <timc@2ubh.com>   \n",
       "3                      Monty Solomon <monty@roscom.com>   \n",
       "4             Stewart Smith <Stewart.Smith@ee.ed.ac.uk>   \n",
       "...                                                 ...   \n",
       "5804  Professional_Career_Development_Institute@Frug...   \n",
       "5805                          \"IQ - TBA\" <tba@insiq.us>   \n",
       "5806                               Mike <raye@yahoo.lv>   \n",
       "5807                   \"Mr. Clean\" <cweqx@dialix.oz.au>   \n",
       "5808  \"wilsonkamela400@netscape.net\" <wilsonkamela50...   \n",
       "\n",
       "                                               receiver  \\\n",
       "0     Chris Garrigues <cwg-dated-1030377287.06fa6d@D...   \n",
       "1     \"'zzzzteana@yahoogroups.com'\" <zzzzteana@yahoo...   \n",
       "2                 zzzzteana <zzzzteana@yahoogroups.com>   \n",
       "3                              undisclosed-recipient: ;   \n",
       "4                             zzzzteana@yahoogroups.com   \n",
       "...                                                 ...   \n",
       "5804                                yyyy@netnoteinc.com   \n",
       "5805                      <yyyy@spamassassin.taint.org>   \n",
       "5806                      Mailing.List@user2.pro-ns.net   \n",
       "5807               <Undisclosed.Recipients@webnote.net>   \n",
       "5808                                      ilug@linux.ie   \n",
       "\n",
       "                                 date  \\\n",
       "0     Thu, 22 Aug 2002 18:26:25 +0700   \n",
       "1     Thu, 22 Aug 2002 12:46:18 +0100   \n",
       "2     Thu, 22 Aug 2002 13:52:38 +0100   \n",
       "3     Thu, 22 Aug 2002 09:15:25 -0400   \n",
       "4     Thu, 22 Aug 2002 14:38:22 +0100   \n",
       "...                               ...   \n",
       "5804   Tue, 3 Dec 2002 13:19:58 -0800   \n",
       "5805   Tue, 3 Dec 2002 18:52:29 -0500   \n",
       "5806  Sun, 20 Jul 2003 16:19:44 +0800   \n",
       "5807  Wed, 05 Aug 2020 04:01:50 -1900   \n",
       "5808        Wed, 04 Dec 2002 06:07:07   \n",
       "\n",
       "                                                subject  \\\n",
       "0                              Re: New Sequences Window   \n",
       "1                             [zzzzteana] RE: Alexander   \n",
       "2                             [zzzzteana] Moscow bomber   \n",
       "3                 [IRR] Klez: The Virus That  Won't Die   \n",
       "4        Re: [zzzzteana] Nothing like mama used to make   \n",
       "...                                                 ...   \n",
       "5804                      Busy? Home Study Makes Sense!   \n",
       "5805             Preferred Non-Smoker Rates for Smokers   \n",
       "5806  How to get 10,000 FREE hits per day to any web...   \n",
       "5807                                Cannabis Difference   \n",
       "5808                              [ILUG] WILSON  KAMELA   \n",
       "\n",
       "                                                   body  label  urls  \n",
       "0     Date:        Wed, 21 Aug 2002 10:54:46 -0500  ...      0     1  \n",
       "1     Martin A posted:\\nTassos Papadopoulos, the Gre...      0     1  \n",
       "2     Man Threatens Explosion In Moscow \\n\\nThursday...      0     1  \n",
       "3     Klez: The Virus That Won't Die\\n \\nAlready the...      0     1  \n",
       "4     >  in adding cream to spaghetti carbonara, whi...      0     1  \n",
       "...                                                 ...    ...   ...  \n",
       "5804  \\n\\n  \\n---  \\n![](http://images.pcdi-homestud...      1     1  \n",
       "5805  This is a multi-part message in MIME format. -...      1     1  \n",
       "5806  Dear Subscriber,\\n\\nIf I could show you a way ...      1     1  \n",
       "5807  ****Mid-Summer Customer Appreciation SALE!****...      1     0  \n",
       "5808  ATTN:SIR/MADAN      \\n\\n                      ...      1     1  \n",
       "\n",
       "[5809 rows x 7 columns]"
      ]
     },
     "execution_count": 6,
     "metadata": {},
     "output_type": "execute_result"
    }
   ],
   "source": [
    "df1"
   ]
  },
  {
   "cell_type": "code",
   "execution_count": 7,
   "id": "387b9a6a-2715-4326-9b7f-3a9fe970184a",
   "metadata": {},
   "outputs": [
    {
     "data": {
      "text/plain": [
       "2"
      ]
     },
     "execution_count": 7,
     "metadata": {},
     "output_type": "execute_result"
    }
   ],
   "source": [
    "df1['label'].nunique()"
   ]
  },
  {
   "cell_type": "code",
   "execution_count": 8,
   "id": "288107a3-8ff4-4cec-8d6a-3b8d9de8b991",
   "metadata": {},
   "outputs": [
    {
     "data": {
      "text/html": [
       "<div>\n",
       "<style scoped>\n",
       "    .dataframe tbody tr th:only-of-type {\n",
       "        vertical-align: middle;\n",
       "    }\n",
       "\n",
       "    .dataframe tbody tr th {\n",
       "        vertical-align: top;\n",
       "    }\n",
       "\n",
       "    .dataframe thead th {\n",
       "        text-align: right;\n",
       "    }\n",
       "</style>\n",
       "<table border=\"1\" class=\"dataframe\">\n",
       "  <thead>\n",
       "    <tr style=\"text-align: right;\">\n",
       "      <th></th>\n",
       "      <th>sender</th>\n",
       "      <th>receiver</th>\n",
       "      <th>date</th>\n",
       "      <th>subject</th>\n",
       "      <th>body</th>\n",
       "      <th>label</th>\n",
       "      <th>urls</th>\n",
       "    </tr>\n",
       "  </thead>\n",
       "  <tbody>\n",
       "    <tr>\n",
       "      <th>0</th>\n",
       "      <td>Young Esposito &lt;Young@iworld.de&gt;</td>\n",
       "      <td>user4@gvc.ceas-challenge.cc</td>\n",
       "      <td>Tue, 05 Aug 2008 16:31:02 -0700</td>\n",
       "      <td>Never agree to be a loser</td>\n",
       "      <td>Buck up, your troubles caused by small dimensi...</td>\n",
       "      <td>1</td>\n",
       "      <td>1</td>\n",
       "    </tr>\n",
       "    <tr>\n",
       "      <th>1</th>\n",
       "      <td>Mok &lt;ipline's1983@icable.ph&gt;</td>\n",
       "      <td>user2.2@gvc.ceas-challenge.cc</td>\n",
       "      <td>Tue, 05 Aug 2008 18:31:03 -0500</td>\n",
       "      <td>Befriend Jenna Jameson</td>\n",
       "      <td>\\nUpgrade your sex and pleasures with these te...</td>\n",
       "      <td>1</td>\n",
       "      <td>1</td>\n",
       "    </tr>\n",
       "    <tr>\n",
       "      <th>2</th>\n",
       "      <td>Daily Top 10 &lt;Karmandeep-opengevl@universalnet...</td>\n",
       "      <td>user2.9@gvc.ceas-challenge.cc</td>\n",
       "      <td>Tue, 05 Aug 2008 20:28:00 -1200</td>\n",
       "      <td>CNN.com Daily Top 10</td>\n",
       "      <td>&gt;+=+=+=+=+=+=+=+=+=+=+=+=+=+=+=+=+=+=+=+=+=+=+...</td>\n",
       "      <td>1</td>\n",
       "      <td>1</td>\n",
       "    </tr>\n",
       "    <tr>\n",
       "      <th>3</th>\n",
       "      <td>Michael Parker &lt;ivqrnai@pobox.com&gt;</td>\n",
       "      <td>SpamAssassin Dev &lt;xrh@spamassassin.apache.org&gt;</td>\n",
       "      <td>Tue, 05 Aug 2008 17:31:20 -0600</td>\n",
       "      <td>Re: svn commit: r619753 - in /spamassassin/tru...</td>\n",
       "      <td>Would anyone object to removing .so from this ...</td>\n",
       "      <td>0</td>\n",
       "      <td>1</td>\n",
       "    </tr>\n",
       "    <tr>\n",
       "      <th>4</th>\n",
       "      <td>Gretchen Suggs &lt;externalsep1@loanofficertool.com&gt;</td>\n",
       "      <td>user2.2@gvc.ceas-challenge.cc</td>\n",
       "      <td>Tue, 05 Aug 2008 19:31:21 -0400</td>\n",
       "      <td>SpecialPricesPharmMoreinfo</td>\n",
       "      <td>\\nWelcomeFastShippingCustomerSupport\\nhttp://7...</td>\n",
       "      <td>1</td>\n",
       "      <td>1</td>\n",
       "    </tr>\n",
       "    <tr>\n",
       "      <th>...</th>\n",
       "      <td>...</td>\n",
       "      <td>...</td>\n",
       "      <td>...</td>\n",
       "      <td>...</td>\n",
       "      <td>...</td>\n",
       "      <td>...</td>\n",
       "      <td>...</td>\n",
       "    </tr>\n",
       "    <tr>\n",
       "      <th>39149</th>\n",
       "      <td>CNN Alerts &lt;charlene-detecton@btcmarketing.com&gt;</td>\n",
       "      <td>email1007@gvc.ceas-challenge.cc</td>\n",
       "      <td>Fri, 08 Aug 2008 10:34:50 -0400</td>\n",
       "      <td>CNN Alerts: My Custom Alert</td>\n",
       "      <td>\\n\\nCNN Alerts: My Custom Alert\\n\\n\\n\\n\\n\\n\\n ...</td>\n",
       "      <td>1</td>\n",
       "      <td>0</td>\n",
       "    </tr>\n",
       "    <tr>\n",
       "      <th>39150</th>\n",
       "      <td>CNN Alerts &lt;idgetily1971@careplusnj.org&gt;</td>\n",
       "      <td>email104@gvc.ceas-challenge.cc</td>\n",
       "      <td>Fri, 08 Aug 2008 10:35:11 -0400</td>\n",
       "      <td>CNN Alerts: My Custom Alert</td>\n",
       "      <td>\\n\\nCNN Alerts: My Custom Alert\\n\\n\\n\\n\\n\\n\\n ...</td>\n",
       "      <td>1</td>\n",
       "      <td>0</td>\n",
       "    </tr>\n",
       "    <tr>\n",
       "      <th>39151</th>\n",
       "      <td>Abhijit Vyas &lt;xpojhbz@gmail.com&gt;</td>\n",
       "      <td>fxgmqwjn@triptracker.net</td>\n",
       "      <td>Fri, 08 Aug 2008 22:00:43 +0800</td>\n",
       "      <td>Slideshow viewer</td>\n",
       "      <td>Hello there ! \\nGreat work on the slide show v...</td>\n",
       "      <td>0</td>\n",
       "      <td>0</td>\n",
       "    </tr>\n",
       "    <tr>\n",
       "      <th>39152</th>\n",
       "      <td>Joseph Brennan &lt;vupzesm@columbia.edu&gt;</td>\n",
       "      <td>zqoqi@spamassassin.apache.org</td>\n",
       "      <td>Fri, 08 Aug 2008 09:00:46 -0500</td>\n",
       "      <td>Note on 2-digit years</td>\n",
       "      <td>\\nMail from sender , coming from intuit.com\\ns...</td>\n",
       "      <td>0</td>\n",
       "      <td>0</td>\n",
       "    </tr>\n",
       "    <tr>\n",
       "      <th>39153</th>\n",
       "      <td>Christian Heimes &lt;wluhe@cheimes.de&gt;</td>\n",
       "      <td>Python Dev &lt;zvllln-eum@python.org&gt;</td>\n",
       "      <td>Fri, 08 Aug 2008 16:00:18 +0200</td>\n",
       "      <td>[Python-Dev] PEP 370 heads up</td>\n",
       "      <td>Dear fellow Pythonistas!\\n\\nGuido has accepted...</td>\n",
       "      <td>0</td>\n",
       "      <td>1</td>\n",
       "    </tr>\n",
       "  </tbody>\n",
       "</table>\n",
       "<p>39154 rows × 7 columns</p>\n",
       "</div>"
      ],
      "text/plain": [
       "                                                  sender  \\\n",
       "0                       Young Esposito <Young@iworld.de>   \n",
       "1                           Mok <ipline's1983@icable.ph>   \n",
       "2      Daily Top 10 <Karmandeep-opengevl@universalnet...   \n",
       "3                     Michael Parker <ivqrnai@pobox.com>   \n",
       "4      Gretchen Suggs <externalsep1@loanofficertool.com>   \n",
       "...                                                  ...   \n",
       "39149    CNN Alerts <charlene-detecton@btcmarketing.com>   \n",
       "39150           CNN Alerts <idgetily1971@careplusnj.org>   \n",
       "39151                   Abhijit Vyas <xpojhbz@gmail.com>   \n",
       "39152              Joseph Brennan <vupzesm@columbia.edu>   \n",
       "39153                Christian Heimes <wluhe@cheimes.de>   \n",
       "\n",
       "                                             receiver  \\\n",
       "0                         user4@gvc.ceas-challenge.cc   \n",
       "1                       user2.2@gvc.ceas-challenge.cc   \n",
       "2                       user2.9@gvc.ceas-challenge.cc   \n",
       "3      SpamAssassin Dev <xrh@spamassassin.apache.org>   \n",
       "4                       user2.2@gvc.ceas-challenge.cc   \n",
       "...                                               ...   \n",
       "39149                 email1007@gvc.ceas-challenge.cc   \n",
       "39150                  email104@gvc.ceas-challenge.cc   \n",
       "39151                        fxgmqwjn@triptracker.net   \n",
       "39152                   zqoqi@spamassassin.apache.org   \n",
       "39153              Python Dev <zvllln-eum@python.org>   \n",
       "\n",
       "                                  date  \\\n",
       "0      Tue, 05 Aug 2008 16:31:02 -0700   \n",
       "1      Tue, 05 Aug 2008 18:31:03 -0500   \n",
       "2      Tue, 05 Aug 2008 20:28:00 -1200   \n",
       "3      Tue, 05 Aug 2008 17:31:20 -0600   \n",
       "4      Tue, 05 Aug 2008 19:31:21 -0400   \n",
       "...                                ...   \n",
       "39149  Fri, 08 Aug 2008 10:34:50 -0400   \n",
       "39150  Fri, 08 Aug 2008 10:35:11 -0400   \n",
       "39151  Fri, 08 Aug 2008 22:00:43 +0800   \n",
       "39152  Fri, 08 Aug 2008 09:00:46 -0500   \n",
       "39153  Fri, 08 Aug 2008 16:00:18 +0200   \n",
       "\n",
       "                                                 subject  \\\n",
       "0                              Never agree to be a loser   \n",
       "1                                 Befriend Jenna Jameson   \n",
       "2                                   CNN.com Daily Top 10   \n",
       "3      Re: svn commit: r619753 - in /spamassassin/tru...   \n",
       "4                             SpecialPricesPharmMoreinfo   \n",
       "...                                                  ...   \n",
       "39149                        CNN Alerts: My Custom Alert   \n",
       "39150                        CNN Alerts: My Custom Alert   \n",
       "39151                                   Slideshow viewer   \n",
       "39152                              Note on 2-digit years   \n",
       "39153                      [Python-Dev] PEP 370 heads up   \n",
       "\n",
       "                                                    body  label  urls  \n",
       "0      Buck up, your troubles caused by small dimensi...      1     1  \n",
       "1      \\nUpgrade your sex and pleasures with these te...      1     1  \n",
       "2      >+=+=+=+=+=+=+=+=+=+=+=+=+=+=+=+=+=+=+=+=+=+=+...      1     1  \n",
       "3      Would anyone object to removing .so from this ...      0     1  \n",
       "4      \\nWelcomeFastShippingCustomerSupport\\nhttp://7...      1     1  \n",
       "...                                                  ...    ...   ...  \n",
       "39149  \\n\\nCNN Alerts: My Custom Alert\\n\\n\\n\\n\\n\\n\\n ...      1     0  \n",
       "39150  \\n\\nCNN Alerts: My Custom Alert\\n\\n\\n\\n\\n\\n\\n ...      1     0  \n",
       "39151  Hello there ! \\nGreat work on the slide show v...      0     0  \n",
       "39152  \\nMail from sender , coming from intuit.com\\ns...      0     0  \n",
       "39153  Dear fellow Pythonistas!\\n\\nGuido has accepted...      0     1  \n",
       "\n",
       "[39154 rows x 7 columns]"
      ]
     },
     "execution_count": 8,
     "metadata": {},
     "output_type": "execute_result"
    }
   ],
   "source": [
    "df2"
   ]
  },
  {
   "cell_type": "code",
   "execution_count": 9,
   "id": "41eec8a3-d6a6-4975-a848-d03f46a8ab78",
   "metadata": {},
   "outputs": [
    {
     "data": {
      "text/plain": [
       "2"
      ]
     },
     "execution_count": 9,
     "metadata": {},
     "output_type": "execute_result"
    }
   ],
   "source": [
    "df2['label'].nunique()"
   ]
  },
  {
   "cell_type": "markdown",
   "id": "47e92d79-7a93-4082-869e-de9555f839c8",
   "metadata": {},
   "source": [
    "--------------------------------------------------------------------------------------------------------------------"
   ]
  },
  {
   "cell_type": "markdown",
   "id": "77fb7168-de36-4f57-a98f-c5b9e413aa7b",
   "metadata": {},
   "source": [
    "#### Joining Data"
   ]
  },
  {
   "cell_type": "code",
   "execution_count": 10,
   "id": "e49bb667-bc65-4253-9602-5195fb6de067",
   "metadata": {},
   "outputs": [],
   "source": [
    "df = pd.concat([df1, df2], ignore_index=True)"
   ]
  },
  {
   "cell_type": "code",
   "execution_count": 11,
   "id": "5d00905c-eb58-41ae-9498-265f15b1786c",
   "metadata": {},
   "outputs": [
    {
     "data": {
      "text/plain": [
       "2"
      ]
     },
     "execution_count": 11,
     "metadata": {},
     "output_type": "execute_result"
    }
   ],
   "source": [
    "df['label'].nunique()"
   ]
  },
  {
   "cell_type": "code",
   "execution_count": 12,
   "id": "7f7ae617-89d0-4336-b8ca-83c06190b2fc",
   "metadata": {},
   "outputs": [
    {
     "name": "stdout",
     "output_type": "stream",
     "text": [
      "<class 'pandas.core.frame.DataFrame'>\n",
      "RangeIndex: 44963 entries, 0 to 44962\n",
      "Data columns (total 7 columns):\n",
      " #   Column    Non-Null Count  Dtype \n",
      "---  ------    --------------  ----- \n",
      " 0   sender    44963 non-null  object\n",
      " 1   receiver  44291 non-null  object\n",
      " 2   date      44963 non-null  object\n",
      " 3   subject   44919 non-null  object\n",
      " 4   body      44962 non-null  object\n",
      " 5   label     44963 non-null  int64 \n",
      " 6   urls      44963 non-null  int64 \n",
      "dtypes: int64(2), object(5)\n",
      "memory usage: 2.4+ MB\n"
     ]
    }
   ],
   "source": [
    "df.info()"
   ]
  },
  {
   "cell_type": "markdown",
   "id": "1f3b436d-bb13-4855-924f-40ab8c82f93a",
   "metadata": {},
   "source": [
    "--------------------------------------------------------------------------------------------------------------------"
   ]
  },
  {
   "cell_type": "markdown",
   "id": "8f63ac8a-fd50-4ffc-8a49-2918532907a9",
   "metadata": {},
   "source": [
    "#### Data Cleaning"
   ]
  },
  {
   "cell_type": "code",
   "execution_count": 13,
   "id": "d0280e95-26e0-42d2-8116-8774285c9619",
   "metadata": {},
   "outputs": [
    {
     "name": "stdout",
     "output_type": "stream",
     "text": [
      "Number of duplicate rows: 0\n"
     ]
    }
   ],
   "source": [
    "duplicate_rows = df.duplicated()\n",
    "duplicate_count = duplicate_rows.sum()\n",
    "print(\"Number of duplicate rows:\", duplicate_count)"
   ]
  },
  {
   "cell_type": "code",
   "execution_count": 14,
   "id": "182e26d2-fce5-4d77-96e9-37f4bb3563bb",
   "metadata": {},
   "outputs": [
    {
     "data": {
      "text/plain": [
       "sender        0\n",
       "receiver    672\n",
       "date          0\n",
       "subject      44\n",
       "body          1\n",
       "label         0\n",
       "urls          0\n",
       "dtype: int64"
      ]
     },
     "execution_count": 14,
     "metadata": {},
     "output_type": "execute_result"
    }
   ],
   "source": [
    "df.isnull().sum()"
   ]
  },
  {
   "cell_type": "code",
   "execution_count": 15,
   "id": "966c82c7-a7d2-4052-a5ef-7b3743af3f99",
   "metadata": {},
   "outputs": [],
   "source": [
    "df.dropna(subset=['receiver', 'subject', 'body', 'label'], inplace=True)"
   ]
  },
  {
   "cell_type": "code",
   "execution_count": 16,
   "id": "e547b765-1b9a-41b3-a69f-2d56fb109576",
   "metadata": {},
   "outputs": [],
   "source": [
    "df['text'] = df['subject'].fillna('') + ' ' + df['body'].fillna('')\n",
    "df['label'] = df['label'].apply(lambda x: 1 if x == 1 else 0)"
   ]
  },
  {
   "cell_type": "code",
   "execution_count": 17,
   "id": "96fc0f72-e2fd-4360-b78c-f8a2468e1f53",
   "metadata": {},
   "outputs": [
    {
     "name": "stdout",
     "output_type": "stream",
     "text": [
      "<class 'pandas.core.frame.DataFrame'>\n",
      "Index: 44251 entries, 0 to 44962\n",
      "Data columns (total 8 columns):\n",
      " #   Column    Non-Null Count  Dtype \n",
      "---  ------    --------------  ----- \n",
      " 0   sender    44251 non-null  object\n",
      " 1   receiver  44251 non-null  object\n",
      " 2   date      44251 non-null  object\n",
      " 3   subject   44251 non-null  object\n",
      " 4   body      44251 non-null  object\n",
      " 5   label     44251 non-null  int64 \n",
      " 6   urls      44251 non-null  int64 \n",
      " 7   text      44251 non-null  object\n",
      "dtypes: int64(2), object(6)\n",
      "memory usage: 3.0+ MB\n"
     ]
    }
   ],
   "source": [
    "df.info()"
   ]
  },
  {
   "cell_type": "code",
   "execution_count": 18,
   "id": "6de82e60-49e8-4d77-adac-e5727ae91ddf",
   "metadata": {},
   "outputs": [
    {
     "data": {
      "text/html": [
       "<div>\n",
       "<style scoped>\n",
       "    .dataframe tbody tr th:only-of-type {\n",
       "        vertical-align: middle;\n",
       "    }\n",
       "\n",
       "    .dataframe tbody tr th {\n",
       "        vertical-align: top;\n",
       "    }\n",
       "\n",
       "    .dataframe thead th {\n",
       "        text-align: right;\n",
       "    }\n",
       "</style>\n",
       "<table border=\"1\" class=\"dataframe\">\n",
       "  <thead>\n",
       "    <tr style=\"text-align: right;\">\n",
       "      <th></th>\n",
       "      <th>label</th>\n",
       "      <th>urls</th>\n",
       "    </tr>\n",
       "  </thead>\n",
       "  <tbody>\n",
       "    <tr>\n",
       "      <th>count</th>\n",
       "      <td>44251.000000</td>\n",
       "      <td>44251.000000</td>\n",
       "    </tr>\n",
       "    <tr>\n",
       "      <th>mean</th>\n",
       "      <td>0.530722</td>\n",
       "      <td>0.698425</td>\n",
       "    </tr>\n",
       "    <tr>\n",
       "      <th>std</th>\n",
       "      <td>0.499061</td>\n",
       "      <td>0.458947</td>\n",
       "    </tr>\n",
       "    <tr>\n",
       "      <th>min</th>\n",
       "      <td>0.000000</td>\n",
       "      <td>0.000000</td>\n",
       "    </tr>\n",
       "    <tr>\n",
       "      <th>25%</th>\n",
       "      <td>0.000000</td>\n",
       "      <td>0.000000</td>\n",
       "    </tr>\n",
       "    <tr>\n",
       "      <th>50%</th>\n",
       "      <td>1.000000</td>\n",
       "      <td>1.000000</td>\n",
       "    </tr>\n",
       "    <tr>\n",
       "      <th>75%</th>\n",
       "      <td>1.000000</td>\n",
       "      <td>1.000000</td>\n",
       "    </tr>\n",
       "    <tr>\n",
       "      <th>max</th>\n",
       "      <td>1.000000</td>\n",
       "      <td>1.000000</td>\n",
       "    </tr>\n",
       "  </tbody>\n",
       "</table>\n",
       "</div>"
      ],
      "text/plain": [
       "              label          urls\n",
       "count  44251.000000  44251.000000\n",
       "mean       0.530722      0.698425\n",
       "std        0.499061      0.458947\n",
       "min        0.000000      0.000000\n",
       "25%        0.000000      0.000000\n",
       "50%        1.000000      1.000000\n",
       "75%        1.000000      1.000000\n",
       "max        1.000000      1.000000"
      ]
     },
     "execution_count": 18,
     "metadata": {},
     "output_type": "execute_result"
    }
   ],
   "source": [
    "df.describe()"
   ]
  },
  {
   "cell_type": "code",
   "execution_count": 19,
   "id": "fbdd1cf1-cc12-4aed-8638-ec3c04b10f0a",
   "metadata": {},
   "outputs": [
    {
     "name": "stdout",
     "output_type": "stream",
     "text": [
      "Final dataset shape: (44251, 8)\n"
     ]
    }
   ],
   "source": [
    "print(f\"Final dataset shape: {df.shape}\")"
   ]
  },
  {
   "cell_type": "markdown",
   "id": "c54e2c5c-0a72-4753-b793-17e348540388",
   "metadata": {},
   "source": [
    "--------------------------------------------------------------------------------------------------------------------"
   ]
  },
  {
   "cell_type": "markdown",
   "id": "e642bb7e-ccdd-4fbc-b46b-b8a6b2cc9cf5",
   "metadata": {},
   "source": [
    "#### Exploratory Data Analysis"
   ]
  },
  {
   "cell_type": "code",
   "execution_count": 20,
   "id": "106cb71a-c7b5-4900-a32f-5cbd2d687206",
   "metadata": {},
   "outputs": [
    {
     "name": "stdout",
     "output_type": "stream",
     "text": [
      "Label distribution:\n",
      "Legitimate (0): 20766\n",
      "Phishing/Spam (1): 23485\n",
      "Phishing ratio: 53.07%\n"
     ]
    }
   ],
   "source": [
    "# Label distribution\n",
    "label_counts = df['label'].value_counts()\n",
    "print(f\"Label distribution:\\nLegitimate (0): {label_counts[0]}\\nPhishing/Spam (1): {label_counts[1]}\")\n",
    "print(f\"Phishing ratio: {label_counts[1] / len(df):.2%}\")"
   ]
  },
  {
   "cell_type": "code",
   "execution_count": 21,
   "id": "ded6de09-018c-4a9e-a08e-05d3df3888fb",
   "metadata": {},
   "outputs": [
    {
     "data": {
      "image/png": "[encoded data removed]",
      "text/plain": [
       "<Figure size 1500x1200 with 4 Axes>"
      ]
     },
     "metadata": {},
     "output_type": "display_data"
    }
   ],
   "source": [
    "# visualizations\n",
    "fig, axes = plt.subplots(2, 2, figsize=(15, 12))\n",
    "\n",
    "# 1. Label distribution\n",
    "axes[0, 0].pie(label_counts.values, labels=['Legitimate', 'Phishing/Spam'], \n",
    "               autopct='%1.1f%%', startangle=90)\n",
    "axes[0, 0].set_title('Email Label Distribution')\n",
    "\n",
    "# 2. Text length distribution\n",
    "df['text_length'] = df['text'].str.len()\n",
    "df.boxplot(column='text_length', by='label', ax=axes[0, 1])\n",
    "axes[0, 1].set_title('Text Length Distribution by Label')\n",
    "axes[0, 1].set_xlabel('Label (0: Legitimate, 1: Phishing)')\n",
    "\n",
    "# 3. Word count distribution\n",
    "df['word_count'] = df['text'].str.split().str.len()\n",
    "df.boxplot(column='word_count', by='label', ax=axes[1, 0])\n",
    "axes[1, 0].set_title('Word Count Distribution by Label')\n",
    "axes[1, 0].set_xlabel('Label (0: Legitimate, 1: Phishing)')\n",
    "\n",
    "# 4. URL presence?\n",
    "url_by_label = df.groupby('label')['urls'].mean()\n",
    "axes[1, 1].bar(['Legitimate', 'Phishing/Spam'], url_by_label.values)\n",
    "axes[1, 1].set_title('Average URL Count by Label')\n",
    "axes[1, 1].set_ylabel('Average URL Count')\n",
    "\n",
    "plt.tight_layout()\n",
    "plt.show()"
   ]
  },
  {
   "cell_type": "code",
   "execution_count": 38,
   "id": "52fdb667-ef1d-4d0a-9361-05392cd990c4",
   "metadata": {},
   "outputs": [
    {
     "name": "stdout",
     "output_type": "stream",
     "text": [
      "\n",
      "Statistical Summary:\n",
      "      text_length                                                         \\\n",
      "            count         mean          std   min    25%     50%     75%   \n",
      "label                                                                      \n",
      "0         20766.0  2518.178561  5553.915880  26.0  726.0  1249.0  2389.0   \n",
      "1         23485.0  1010.535917  2965.703942  22.0  198.0   334.0   631.0   \n",
      "\n",
      "                 \n",
      "            max  \n",
      "label            \n",
      "0      299272.0  \n",
      "1      230917.0  \n"
     ]
    }
   ],
   "source": [
    "# Statistical summary\n",
    "print(df.groupby('label')[['text_length']].describe())"
   ]
  },
  {
   "cell_type": "code",
   "execution_count": 39,
   "id": "6cf95eb9-ba49-4080-80ae-9f3d5cfef9cf",
   "metadata": {},
   "outputs": [
    {
     "name": "stdout",
     "output_type": "stream",
     "text": [
      "      word_count                                                           \n",
      "           count        mean         std  min    25%    50%    75%      max\n",
      "label                                                                      \n",
      "0        20766.0  347.502649  683.683648  2.0  104.0  186.0  349.0  19873.0\n",
      "1        23485.0  108.510666  223.692738  3.0   27.0   52.0  100.0  11627.0\n"
     ]
    }
   ],
   "source": [
    "print(df.groupby('label')[['word_count']].describe())"
   ]
  },
  {
   "cell_type": "code",
   "execution_count": 1,
   "id": "43e61df4-ac8c-4cd0-bf7d-d26d050dc1ce",
   "metadata": {},
   "outputs": [
    {
     "ename": "NameError",
     "evalue": "name 'df' is not defined",
     "output_type": "error",
     "traceback": [
      "\u001b[1;31m---------------------------------------------------------------------------\u001b[0m",
      "\u001b[1;31mNameError\u001b[0m                                 Traceback (most recent call last)",
      "Cell \u001b[1;32mIn[1], line 1\u001b[0m\n\u001b[1;32m----> 1\u001b[0m \u001b[38;5;28mprint\u001b[39m(\u001b[43mdf\u001b[49m\u001b[38;5;241m.\u001b[39mgroupby(\u001b[38;5;124m'\u001b[39m\u001b[38;5;124mlabel\u001b[39m\u001b[38;5;124m'\u001b[39m)[[\u001b[38;5;124m'\u001b[39m\u001b[38;5;124murls\u001b[39m\u001b[38;5;124m'\u001b[39m]]\u001b[38;5;241m.\u001b[39mdescribe())\n",
      "\u001b[1;31mNameError\u001b[0m: name 'df' is not defined"
     ]
    }
   ],
   "source": [
    "print(df.groupby('label')[['urls']].describe())"
   ]
  },
  {
   "cell_type": "markdown",
   "id": "9d04210f-6a19-4117-960e-f5968b72a090",
   "metadata": {},
   "source": [
    "--------------------------------------------------------------------------------------------------------------------"
   ]
  },
  {
   "cell_type": "code",
   "execution_count": 22,
   "id": "b25adb7f-c578-4581-a95a-247494853828",
   "metadata": {},
   "outputs": [],
   "source": [
    "def clean_text(text):\n",
    "    text = text.lower()\n",
    "    # for URLs\n",
    "    text = re.sub(r'http\\S+|www\\S+|https\\S+', '', text, flags=re.MULTILINE)\n",
    "    # remove email-addresses\n",
    "    text = re.sub(r'\\S+@\\S+', '', text)\n",
    "    # HTML tags\n",
    "    text = re.sub(r'<.*?>', '', text)\n",
    "    # special characters & digits\n",
    "    text = re.sub(r'[^a-zA-Z\\s]', '', text)\n",
    "    # extra whitespaces\n",
    "    text = ' '.join(text.split())\n",
    "    \n",
    "    return text"
   ]
  },
  {
   "cell_type": "code",
   "execution_count": 23,
   "id": "097d4f48-dafd-44ad-899c-41f6599ba052",
   "metadata": {},
   "outputs": [],
   "source": [
    "def advanced_text_preprocessing(text):\n",
    "    text = clean_text(text)\n",
    "    tokens = word_tokenize(text)\n",
    "\n",
    "    # stopwords\n",
    "    stop_words = set(stopwords.words('english'))\n",
    "    tokens = [token for token in tokens if token not in stop_words and len(token) > 2]\n",
    "    \n",
    "    # Lemmatize\n",
    "    lemmatizer = WordNetLemmatizer()\n",
    "    tokens = [lemmatizer.lemmatize(token) for token in tokens]\n",
    "    \n",
    "    return ' '.join(tokens)"
   ]
  },
  {
   "cell_type": "code",
   "execution_count": 43,
   "id": "ebc5adc0-c816-4a60-8379-f9f39785a802",
   "metadata": {},
   "outputs": [
    {
     "data": {
      "text/plain": [
       "'Re: New Sequences Window Date:        Wed, 21 Aug 2002 10:54:46 -0500     From:        Chris Garrigues      Message-ID:  <1029945287.4797.TMDA@deepeddy.vircio.com>   | I can\\'t reproduce this error. For me it is very repeatable... (like every time, without fail). This is the debug log of the pick happening ... 18:19:03 Pick_It {exec pick +inbox -list -lbrace -lbrace -subject ftp -rbrace -rbrace} {4852-4852 -sequence mercury} 18:19:03 exec pick +inbox -list -lbrace -lbrace -subject ftp -rbrace -rbrace 4852-4852 -sequence mercury 18:19:04 Ftoc_PickMsgs {{1 hit}} 18:19:04 Marking 1 hits 18:19:04 tkerror: syntax error in expression \"int ... Note, if I run the pick command by hand ... delta$ pick +inbox -list -lbrace -lbrace -subject ftp -rbrace -rbrace  4852-4852 -sequence mercury 1 hit That\\'s where the \"1 hit\" comes from (obviously).  The version of nmh I\\'m using is ... delta$ pick -version pick -- nmh-1.0.4 [compiled on fuchsia.cs.mu.OZ.AU at Sun Mar 17 14:55:56 ICT 2002] And the relevant part of my .mh_profile ... delta$ mhparam pick -seq sel -list Since the pick command works, the sequence (actually, both of them, the one that\\'s explicit on the command line, from the search popup, and the one that comes from .mh_profile) do get created. kre ps: this is still using the version of the code form a day ago, I haven\\'t been able to reach the cvs repository today (local routing issue I think). _______________________________________________ Exmh-workers mailing list Exmh-workers@redhat.com https://listman.redhat.com/mailman/listinfo/exmh-workers'"
      ]
     },
     "execution_count": 43,
     "metadata": {},
     "output_type": "execute_result"
    }
   ],
   "source": [
    "df['text'][0]"
   ]
  },
  {
   "cell_type": "code",
   "execution_count": 24,
   "id": "8067ceeb-d33a-4ff6-a1be-cc2aa5a2c6b4",
   "metadata": {},
   "outputs": [],
   "source": [
    "# Apply text preprocessing\n",
    "df['cleaned_text'] = df['text'].apply(clean_text)"
   ]
  },
  {
   "cell_type": "code",
   "execution_count": 51,
   "id": "a74f6406-cc17-43b8-99b4-ca8a53689b34",
   "metadata": {},
   "outputs": [
    {
     "data": {
      "text/plain": [
       "'re new sequences window date wed aug from chris garrigues messageid i cant reproduce this error for me it is very repeatable like every time without fail this is the debug log of the pick happening pickit exec pick inbox list lbrace lbrace subject ftp rbrace rbrace sequence mercury exec pick inbox list lbrace lbrace subject ftp rbrace rbrace sequence mercury ftocpickmsgs hit marking hits tkerror syntax error in expression int note if i run the pick command by hand delta pick inbox list lbrace lbrace subject ftp rbrace rbrace sequence mercury hit thats where the hit comes from obviously the version of nmh im using is delta pick version pick nmh compiled on fuchsiacsmuozau at sun mar ict and the relevant part of my mhprofile delta mhparam pick seq sel list since the pick command works the sequence actually both of them the one thats explicit on the command line from the search popup and the one that comes from mhprofile do get created kre ps this is still using the version of the code form a day ago i havent been able to reach the cvs repository today local routing issue i think exmhworkers mailing list'"
      ]
     },
     "execution_count": 51,
     "metadata": {},
     "output_type": "execute_result"
    }
   ],
   "source": [
    "df['cleaned_text'][0]"
   ]
  },
  {
   "cell_type": "code",
   "execution_count": 25,
   "id": "407ed9c6-e999-4d02-8243-d27fbaf5eea1",
   "metadata": {},
   "outputs": [],
   "source": [
    "df['processed_text'] = df['text'].apply(advanced_text_preprocessing)"
   ]
  },
  {
   "cell_type": "code",
   "execution_count": 56,
   "id": "6ed743f1-334e-4441-9e6d-38362d5d09f1",
   "metadata": {},
   "outputs": [
    {
     "data": {
      "text/plain": [
       "'new sequence window date wed aug chris garrigues messageid cant reproduce error repeatable like every time without fail debug log pick happening pickit exec pick inbox list lbrace lbrace subject ftp rbrace rbrace sequence mercury exec pick inbox list lbrace lbrace subject ftp rbrace rbrace sequence mercury ftocpickmsgs hit marking hit tkerror syntax error expression int note run pick command hand delta pick inbox list lbrace lbrace subject ftp rbrace rbrace sequence mercury hit thats hit come obviously version nmh using delta pick version pick nmh compiled fuchsiacsmuozau sun mar ict relevant part mhprofile delta mhparam pick seq sel list since pick command work sequence actually one thats explicit command line search popup one come mhprofile get created kre still using version code form day ago havent able reach cv repository today local routing issue think exmhworkers mailing list'"
      ]
     },
     "execution_count": 56,
     "metadata": {},
     "output_type": "execute_result"
    }
   ],
   "source": [
    "df['processed_text'][0]"
   ]
  },
  {
   "cell_type": "markdown",
   "id": "64e7bb22-1c8b-4029-9979-6c3714ce6433",
   "metadata": {},
   "source": [
    "--------------------------------------------------------------------------------------------------------------------"
   ]
  },
  {
   "cell_type": "code",
   "execution_count": 35,
   "id": "1aa33b36-6d15-4cbe-9334-07f37fcfb4ad",
   "metadata": {},
   "outputs": [],
   "source": [
    "def extract_email_features(df):\n",
    "    features = pd.DataFrame()\n",
    "    \n",
    "    # basic text features\n",
    "    features['char_count'] = df['text'].str.len()\n",
    "    features['word_count'] = df['text'].str.split().str.len()\n",
    "    features['sentence_count'] = df['text'].str.count(r'[.!?]+')\n",
    "    features['avg_word_length'] = features['char_count'] / features['word_count']\n",
    "    \n",
    "    # Punctuation and special characters\n",
    "    features['exclamation_count'] = df['text'].str.count('!')\n",
    "    features['question_count'] = df['text'].str.count('\\?')\n",
    "    features['dollar_count'] = df['text'].str.count('\\$')\n",
    "    features['percent_count'] = df['text'].str.count('%')\n",
    "    \n",
    "    # Capital letters\n",
    "    features['capital_count'] = df['text'].str.count(r'[A-Z]')\n",
    "    features['capital_ratio'] = features['capital_count'] / features['char_count']\n",
    "    \n",
    "    # Suspicious words (common in phishing emails)\n",
    "    suspicious_words = ['urgent', 'immediate', 'act now', 'limited time', 'click here', \n",
    "                       'free', 'winner',  'prize', 'verify', 'confirm', 'suspended']\n",
    "    \n",
    "    for word in suspicious_words:\n",
    "        features[f'contains_{word}'] = df['text'].str.lower().str.contains(word).astype(int)\n",
    "    \n",
    "    # URL and email features\n",
    "    features['url_count'] = df['urls']\n",
    "    features['has_url'] = (features['url_count'] > 0).astype(int)\n",
    "    \n",
    "    # Email-specific patterns\n",
    "    features['has_cc'] = df['text'].str.contains('cc:', case=False).astype(int)\n",
    "    features['has_bcc'] = df['text'].str.contains('bcc:', case=False).astype(int)\n",
    "    features['has_attachment'] = df['text'].str.contains('attachment', case=False).astype(int)\n",
    "    \n",
    "    return features"
   ]
  },
  {
   "cell_type": "code",
   "execution_count": 37,
   "id": "7e00d1cc-e065-428a-a270-1fc877d3a448",
   "metadata": {},
   "outputs": [
    {
     "name": "stdout",
     "output_type": "stream",
     "text": [
      "Extracted 26 email-specific features\n"
     ]
    }
   ],
   "source": [
    "# Extract features\n",
    "email_features = extract_email_features(df)\n",
    "print(f\"Extracted {email_features.shape[1]} email-specific features\")"
   ]
  },
  {
   "cell_type": "code",
   "execution_count": 38,
   "id": "ca70cedc-28a0-42fd-8691-0a8fcf437159",
   "metadata": {},
   "outputs": [
    {
     "data": {
      "text/html": [
       "<div>\n",
       "<style scoped>\n",
       "    .dataframe tbody tr th:only-of-type {\n",
       "        vertical-align: middle;\n",
       "    }\n",
       "\n",
       "    .dataframe tbody tr th {\n",
       "        vertical-align: top;\n",
       "    }\n",
       "\n",
       "    .dataframe thead th {\n",
       "        text-align: right;\n",
       "    }\n",
       "</style>\n",
       "<table border=\"1\" class=\"dataframe\">\n",
       "  <thead>\n",
       "    <tr style=\"text-align: right;\">\n",
       "      <th></th>\n",
       "      <th>char_count</th>\n",
       "      <th>word_count</th>\n",
       "      <th>sentence_count</th>\n",
       "      <th>avg_word_length</th>\n",
       "      <th>exclamation_count</th>\n",
       "      <th>question_count</th>\n",
       "      <th>dollar_count</th>\n",
       "      <th>percent_count</th>\n",
       "      <th>capital_count</th>\n",
       "      <th>capital_ratio</th>\n",
       "      <th>...</th>\n",
       "      <th>contains_winner</th>\n",
       "      <th>contains_prize</th>\n",
       "      <th>contains_verify</th>\n",
       "      <th>contains_confirm</th>\n",
       "      <th>contains_suspended</th>\n",
       "      <th>url_count</th>\n",
       "      <th>has_url</th>\n",
       "      <th>has_cc</th>\n",
       "      <th>has_bcc</th>\n",
       "      <th>has_attachment</th>\n",
       "    </tr>\n",
       "  </thead>\n",
       "  <tbody>\n",
       "    <tr>\n",
       "      <th>0</th>\n",
       "      <td>1563</td>\n",
       "      <td>228</td>\n",
       "      <td>26</td>\n",
       "      <td>6.855263</td>\n",
       "      <td>0</td>\n",
       "      <td>0</td>\n",
       "      <td>3</td>\n",
       "      <td>0</td>\n",
       "      <td>46</td>\n",
       "      <td>0.029431</td>\n",
       "      <td>...</td>\n",
       "      <td>0</td>\n",
       "      <td>0</td>\n",
       "      <td>0</td>\n",
       "      <td>0</td>\n",
       "      <td>0</td>\n",
       "      <td>1</td>\n",
       "      <td>1</td>\n",
       "      <td>0</td>\n",
       "      <td>0</td>\n",
       "      <td>0</td>\n",
       "    </tr>\n",
       "    <tr>\n",
       "      <th>1</th>\n",
       "      <td>920</td>\n",
       "      <td>114</td>\n",
       "      <td>11</td>\n",
       "      <td>8.070175</td>\n",
       "      <td>2</td>\n",
       "      <td>1</td>\n",
       "      <td>0</td>\n",
       "      <td>0</td>\n",
       "      <td>46</td>\n",
       "      <td>0.050000</td>\n",
       "      <td>...</td>\n",
       "      <td>0</td>\n",
       "      <td>0</td>\n",
       "      <td>0</td>\n",
       "      <td>0</td>\n",
       "      <td>0</td>\n",
       "      <td>1</td>\n",
       "      <td>1</td>\n",
       "      <td>0</td>\n",
       "      <td>0</td>\n",
       "      <td>0</td>\n",
       "    </tr>\n",
       "    <tr>\n",
       "      <th>2</th>\n",
       "      <td>1772</td>\n",
       "      <td>255</td>\n",
       "      <td>17</td>\n",
       "      <td>6.949020</td>\n",
       "      <td>2</td>\n",
       "      <td>0</td>\n",
       "      <td>0</td>\n",
       "      <td>0</td>\n",
       "      <td>97</td>\n",
       "      <td>0.054740</td>\n",
       "      <td>...</td>\n",
       "      <td>0</td>\n",
       "      <td>0</td>\n",
       "      <td>0</td>\n",
       "      <td>0</td>\n",
       "      <td>0</td>\n",
       "      <td>1</td>\n",
       "      <td>1</td>\n",
       "      <td>0</td>\n",
       "      <td>0</td>\n",
       "      <td>0</td>\n",
       "    </tr>\n",
       "    <tr>\n",
       "      <th>3</th>\n",
       "      <td>1163</td>\n",
       "      <td>171</td>\n",
       "      <td>12</td>\n",
       "      <td>6.801170</td>\n",
       "      <td>0</td>\n",
       "      <td>0</td>\n",
       "      <td>0</td>\n",
       "      <td>0</td>\n",
       "      <td>51</td>\n",
       "      <td>0.043852</td>\n",
       "      <td>...</td>\n",
       "      <td>0</td>\n",
       "      <td>0</td>\n",
       "      <td>0</td>\n",
       "      <td>0</td>\n",
       "      <td>0</td>\n",
       "      <td>1</td>\n",
       "      <td>1</td>\n",
       "      <td>0</td>\n",
       "      <td>0</td>\n",
       "      <td>0</td>\n",
       "    </tr>\n",
       "    <tr>\n",
       "      <th>4</th>\n",
       "      <td>1094</td>\n",
       "      <td>151</td>\n",
       "      <td>16</td>\n",
       "      <td>7.245033</td>\n",
       "      <td>2</td>\n",
       "      <td>1</td>\n",
       "      <td>0</td>\n",
       "      <td>0</td>\n",
       "      <td>45</td>\n",
       "      <td>0.041133</td>\n",
       "      <td>...</td>\n",
       "      <td>0</td>\n",
       "      <td>0</td>\n",
       "      <td>0</td>\n",
       "      <td>0</td>\n",
       "      <td>0</td>\n",
       "      <td>1</td>\n",
       "      <td>1</td>\n",
       "      <td>0</td>\n",
       "      <td>0</td>\n",
       "      <td>0</td>\n",
       "    </tr>\n",
       "    <tr>\n",
       "      <th>...</th>\n",
       "      <td>...</td>\n",
       "      <td>...</td>\n",
       "      <td>...</td>\n",
       "      <td>...</td>\n",
       "      <td>...</td>\n",
       "      <td>...</td>\n",
       "      <td>...</td>\n",
       "      <td>...</td>\n",
       "      <td>...</td>\n",
       "      <td>...</td>\n",
       "      <td>...</td>\n",
       "      <td>...</td>\n",
       "      <td>...</td>\n",
       "      <td>...</td>\n",
       "      <td>...</td>\n",
       "      <td>...</td>\n",
       "      <td>...</td>\n",
       "      <td>...</td>\n",
       "      <td>...</td>\n",
       "      <td>...</td>\n",
       "      <td>...</td>\n",
       "    </tr>\n",
       "    <tr>\n",
       "      <th>44958</th>\n",
       "      <td>594</td>\n",
       "      <td>96</td>\n",
       "      <td>9</td>\n",
       "      <td>6.187500</td>\n",
       "      <td>0</td>\n",
       "      <td>0</td>\n",
       "      <td>0</td>\n",
       "      <td>0</td>\n",
       "      <td>61</td>\n",
       "      <td>0.102694</td>\n",
       "      <td>...</td>\n",
       "      <td>0</td>\n",
       "      <td>0</td>\n",
       "      <td>0</td>\n",
       "      <td>0</td>\n",
       "      <td>0</td>\n",
       "      <td>0</td>\n",
       "      <td>0</td>\n",
       "      <td>0</td>\n",
       "      <td>0</td>\n",
       "      <td>0</td>\n",
       "    </tr>\n",
       "    <tr>\n",
       "      <th>44959</th>\n",
       "      <td>601</td>\n",
       "      <td>99</td>\n",
       "      <td>9</td>\n",
       "      <td>6.070707</td>\n",
       "      <td>0</td>\n",
       "      <td>0</td>\n",
       "      <td>0</td>\n",
       "      <td>0</td>\n",
       "      <td>61</td>\n",
       "      <td>0.101498</td>\n",
       "      <td>...</td>\n",
       "      <td>0</td>\n",
       "      <td>0</td>\n",
       "      <td>0</td>\n",
       "      <td>0</td>\n",
       "      <td>0</td>\n",
       "      <td>0</td>\n",
       "      <td>0</td>\n",
       "      <td>0</td>\n",
       "      <td>0</td>\n",
       "      <td>0</td>\n",
       "    </tr>\n",
       "    <tr>\n",
       "      <th>44960</th>\n",
       "      <td>306</td>\n",
       "      <td>56</td>\n",
       "      <td>3</td>\n",
       "      <td>5.464286</td>\n",
       "      <td>1</td>\n",
       "      <td>0</td>\n",
       "      <td>0</td>\n",
       "      <td>0</td>\n",
       "      <td>5</td>\n",
       "      <td>0.016340</td>\n",
       "      <td>...</td>\n",
       "      <td>0</td>\n",
       "      <td>0</td>\n",
       "      <td>0</td>\n",
       "      <td>0</td>\n",
       "      <td>0</td>\n",
       "      <td>0</td>\n",
       "      <td>0</td>\n",
       "      <td>0</td>\n",
       "      <td>0</td>\n",
       "      <td>0</td>\n",
       "    </tr>\n",
       "    <tr>\n",
       "      <th>44961</th>\n",
       "      <td>668</td>\n",
       "      <td>105</td>\n",
       "      <td>12</td>\n",
       "      <td>6.361905</td>\n",
       "      <td>1</td>\n",
       "      <td>0</td>\n",
       "      <td>0</td>\n",
       "      <td>0</td>\n",
       "      <td>57</td>\n",
       "      <td>0.085329</td>\n",
       "      <td>...</td>\n",
       "      <td>0</td>\n",
       "      <td>0</td>\n",
       "      <td>0</td>\n",
       "      <td>0</td>\n",
       "      <td>0</td>\n",
       "      <td>0</td>\n",
       "      <td>0</td>\n",
       "      <td>0</td>\n",
       "      <td>0</td>\n",
       "      <td>0</td>\n",
       "    </tr>\n",
       "    <tr>\n",
       "      <th>44962</th>\n",
       "      <td>2982</td>\n",
       "      <td>378</td>\n",
       "      <td>49</td>\n",
       "      <td>7.888889</td>\n",
       "      <td>2</td>\n",
       "      <td>2</td>\n",
       "      <td>8</td>\n",
       "      <td>3</td>\n",
       "      <td>119</td>\n",
       "      <td>0.039906</td>\n",
       "      <td>...</td>\n",
       "      <td>0</td>\n",
       "      <td>0</td>\n",
       "      <td>0</td>\n",
       "      <td>0</td>\n",
       "      <td>0</td>\n",
       "      <td>1</td>\n",
       "      <td>1</td>\n",
       "      <td>0</td>\n",
       "      <td>0</td>\n",
       "      <td>0</td>\n",
       "    </tr>\n",
       "  </tbody>\n",
       "</table>\n",
       "<p>44251 rows × 26 columns</p>\n",
       "</div>"
      ],
      "text/plain": [
       "       char_count  word_count  sentence_count  avg_word_length  \\\n",
       "0            1563         228              26         6.855263   \n",
       "1             920         114              11         8.070175   \n",
       "2            1772         255              17         6.949020   \n",
       "3            1163         171              12         6.801170   \n",
       "4            1094         151              16         7.245033   \n",
       "...           ...         ...             ...              ...   \n",
       "44958         594          96               9         6.187500   \n",
       "44959         601          99               9         6.070707   \n",
       "44960         306          56               3         5.464286   \n",
       "44961         668         105              12         6.361905   \n",
       "44962        2982         378              49         7.888889   \n",
       "\n",
       "       exclamation_count  question_count  dollar_count  percent_count  \\\n",
       "0                      0               0             3              0   \n",
       "1                      2               1             0              0   \n",
       "2                      2               0             0              0   \n",
       "3                      0               0             0              0   \n",
       "4                      2               1             0              0   \n",
       "...                  ...             ...           ...            ...   \n",
       "44958                  0               0             0              0   \n",
       "44959                  0               0             0              0   \n",
       "44960                  1               0             0              0   \n",
       "44961                  1               0             0              0   \n",
       "44962                  2               2             8              3   \n",
       "\n",
       "       capital_count  capital_ratio  ...  contains_winner  contains_prize  \\\n",
       "0                 46       0.029431  ...                0               0   \n",
       "1                 46       0.050000  ...                0               0   \n",
       "2                 97       0.054740  ...                0               0   \n",
       "3                 51       0.043852  ...                0               0   \n",
       "4                 45       0.041133  ...                0               0   \n",
       "...              ...            ...  ...              ...             ...   \n",
       "44958             61       0.102694  ...                0               0   \n",
       "44959             61       0.101498  ...                0               0   \n",
       "44960              5       0.016340  ...                0               0   \n",
       "44961             57       0.085329  ...                0               0   \n",
       "44962            119       0.039906  ...                0               0   \n",
       "\n",
       "       contains_verify  contains_confirm  contains_suspended  url_count  \\\n",
       "0                    0                 0                   0          1   \n",
       "1                    0                 0                   0          1   \n",
       "2                    0                 0                   0          1   \n",
       "3                    0                 0                   0          1   \n",
       "4                    0                 0                   0          1   \n",
       "...                ...               ...                 ...        ...   \n",
       "44958                0                 0                   0          0   \n",
       "44959                0                 0                   0          0   \n",
       "44960                0                 0                   0          0   \n",
       "44961                0                 0                   0          0   \n",
       "44962                0                 0                   0          1   \n",
       "\n",
       "       has_url  has_cc  has_bcc  has_attachment  \n",
       "0            1       0        0               0  \n",
       "1            1       0        0               0  \n",
       "2            1       0        0               0  \n",
       "3            1       0        0               0  \n",
       "4            1       0        0               0  \n",
       "...        ...     ...      ...             ...  \n",
       "44958        0       0        0               0  \n",
       "44959        0       0        0               0  \n",
       "44960        0       0        0               0  \n",
       "44961        0       0        0               0  \n",
       "44962        1       0        0               0  \n",
       "\n",
       "[44251 rows x 26 columns]"
      ]
     },
     "execution_count": 38,
     "metadata": {},
     "output_type": "execute_result"
    }
   ],
   "source": [
    "email_features"
   ]
  },
  {
   "cell_type": "code",
   "execution_count": 39,
   "id": "fecf30bc-75ca-4e3e-b028-865e15adbdb8",
   "metadata": {},
   "outputs": [],
   "source": [
    "# Show feature correlation with target\n",
    "feature_correlations = pd.DataFrame({\n",
    "    'feature': email_features.columns,\n",
    "    'correlation': [email_features[col].corr(df['label']) for col in email_features.columns]\n",
    "})\n",
    "\n",
    "feature_correlations = feature_correlations.sort_values('correlation', key=abs, ascending=False)"
   ]
  },
  {
   "cell_type": "code",
   "execution_count": 41,
   "id": "69c94343-0510-4cf5-8786-62a9ab109695",
   "metadata": {},
   "outputs": [
    {
     "name": "stdout",
     "output_type": "stream",
     "text": [
      "\n",
      "Top 20 features correlated with phishing:\n",
      "                feature  correlation\n",
      "1            word_count    -0.233853\n",
      "9         capital_ratio     0.190551\n",
      "14  contains_click here     0.176134\n",
      "0            char_count    -0.169481\n",
      "3       avg_word_length     0.140363\n",
      "23               has_cc    -0.118376\n",
      "19     contains_confirm    -0.110430\n",
      "25       has_attachment    -0.109064\n",
      "18      contains_verify    -0.066702\n",
      "15        contains_free    -0.061169\n",
      "2        sentence_count    -0.057347\n",
      "20   contains_suspended     0.052105\n",
      "11   contains_immediate    -0.051251\n",
      "16      contains_winner    -0.050467\n",
      "17       contains_prize    -0.041036\n",
      "6          dollar_count    -0.040058\n",
      "5        question_count    -0.038587\n",
      "7         percent_count    -0.038346\n",
      "12     contains_act now     0.020831\n",
      "24              has_bcc    -0.017515\n"
     ]
    }
   ],
   "source": [
    "print(\"\\nTop 20 features correlated with phishing:\")\n",
    "print(feature_correlations.head(20))"
   ]
  },
  {
   "cell_type": "code",
   "execution_count": 43,
   "id": "a52a8ba4-aa9c-4357-b32c-09e3cef4373d",
   "metadata": {},
   "outputs": [
    {
     "data": {
      "image/png": "[encoded data removed]",
      "text/plain": [
       "<Figure size 1200x800 with 1 Axes>"
      ]
     },
     "metadata": {},
     "output_type": "display_data"
    }
   ],
   "source": [
    "# Visualize feature correlations\n",
    "plt.figure(figsize=(12, 8))\n",
    "sns.barplot(data=feature_correlations.head(26), x='correlation', y='feature')\n",
    "plt.title('All Features Correlation with Phishing Label')\n",
    "plt.xlabel('Correlation with Phishing Label')\n",
    "plt.tight_layout()\n",
    "plt.show()"
   ]
  },
  {
   "cell_type": "markdown",
   "id": "680d6656-83c4-4a50-8109-defcf43d783c",
   "metadata": {},
   "source": [
    "--------------------------------------------------------------------------------------------------------------------"
   ]
  },
  {
   "cell_type": "code",
   "execution_count": 44,
   "id": "f782001b-f260-44e9-950f-3ae1f23dcf28",
   "metadata": {},
   "outputs": [],
   "source": [
    "# TF-IDF Vectorization\n",
    "tfidf_vectorizer = TfidfVectorizer(\n",
    "    max_features=5000,\n",
    "    ngram_range=(1, 2),\n",
    "    min_df=2,\n",
    "    max_df=0.95,\n",
    "    stop_words='english'\n",
    ")"
   ]
  },
  {
   "cell_type": "code",
   "execution_count": 45,
   "id": "8656a24c-6629-4b04-abb0-197137a56eec",
   "metadata": {},
   "outputs": [
    {
     "name": "stdout",
     "output_type": "stream",
     "text": [
      "TF-IDF matrix shape: (44251, 5000)\n"
     ]
    }
   ],
   "source": [
    "# Fit and transform\n",
    "tfidf_matrix = tfidf_vectorizer.fit_transform(df['processed_text'])\n",
    "print(f\"TF-IDF matrix shape: {tfidf_matrix.shape}\")"
   ]
  },
  {
   "cell_type": "code",
   "execution_count": 46,
   "id": "d98bb561-c35f-4d40-8a64-abb36f59ddbf",
   "metadata": {},
   "outputs": [],
   "source": [
    "# feature names\n",
    "tfidf_feature_names = tfidf_vectorizer.get_feature_names_out()\n",
    "tfidf_df = pd.DataFrame(tfidf_matrix.toarray(), columns=tfidf_feature_names)"
   ]
  },
  {
   "cell_type": "code",
   "execution_count": 47,
   "id": "ec9545f5-0059-4a30-8279-76b9d7691a7f",
   "metadata": {},
   "outputs": [],
   "source": [
    "# Combine TF-IDF features with email features\n",
    "all_features = pd.concat([email_features.reset_index(drop=True), \n",
    "                         tfidf_df.reset_index(drop=True)], axis=1)"
   ]
  },
  {
   "cell_type": "code",
   "execution_count": 48,
   "id": "446b5f97-42d7-4a02-b542-5e24d360c2af",
   "metadata": {},
   "outputs": [
    {
     "name": "stdout",
     "output_type": "stream",
     "text": [
      "Email-specific features: 26\n",
      "TF-IDF features: 5000\n"
     ]
    }
   ],
   "source": [
    "print(f\"Email-specific features: {email_features.shape[1]}\")\n",
    "print(f\"TF-IDF features: {tfidf_df.shape[1]}\")"
   ]
  },
  {
   "cell_type": "code",
   "execution_count": 65,
   "id": "958b6ceb-1632-4954-a83d-050fd5a1ef55",
   "metadata": {},
   "outputs": [
    {
     "name": "stdout",
     "output_type": "stream",
     "text": [
      "Total features: 5026\n"
     ]
    }
   ],
   "source": [
    "print(f\"Total features: {all_features.shape[1]}\")"
   ]
  },
  {
   "cell_type": "code",
   "execution_count": 50,
   "id": "79d60ccc-a543-4024-9cf2-1e627a3138b1",
   "metadata": {},
   "outputs": [
    {
     "name": "stdout",
     "output_type": "stream",
     "text": [
      "\n",
      "Example TF-IDF features: ['aaaaaaaaaaaaaaaaaaaaaaaaaaaaaaaaaaaaaaaaaaaaaaaaaaaaaaaaaaaaaaaaaaaaaaaaaaaa', 'aaai', 'aaron', 'aaron kulkis', 'ability', 'able', 'abraham', 'absolute', 'absolutely', 'absolutely guaranteed']\n"
     ]
    }
   ],
   "source": [
    "print(f\"\\nExample TF-IDF features: {list(tfidf_feature_names[:10])}\")"
   ]
  },
  {
   "cell_type": "markdown",
   "id": "8378da98-fa3d-411e-b158-65d44f0f78e0",
   "metadata": {},
   "source": [
    "--------------------------------------------------------------------------------------------------------------------"
   ]
  },
  {
   "cell_type": "code",
   "execution_count": 51,
   "id": "a313c67b-7351-435b-b28c-fddd44abaa15",
   "metadata": {},
   "outputs": [],
   "source": [
    "from sklearn.feature_selection import SelectKBest, chi2, mutual_info_classif\n",
    "\n",
    "# top K features using chi-square test\n",
    "k_best = 1000\n",
    "selector = SelectKBest(score_func=chi2, k=k_best)\n",
    "X_selected = selector.fit_transform(all_features, df['label'])"
   ]
  },
  {
   "cell_type": "code",
   "execution_count": 52,
   "id": "9530291b-aa03-46e9-80dc-841ea60b85d5",
   "metadata": {},
   "outputs": [],
   "source": [
    "# selected feature names\n",
    "selected_feature_mask = selector.get_support()\n",
    "selected_features = all_features.columns[selected_feature_mask]"
   ]
  },
  {
   "cell_type": "code",
   "execution_count": 53,
   "id": "af683954-8b84-4338-a510-e5f41f96d3a1",
   "metadata": {},
   "outputs": [
    {
     "name": "stdout",
     "output_type": "stream",
     "text": [
      "Features selected: 1000 out of 5026\n",
      "Selected features shape: (44251, 1000)\n"
     ]
    }
   ],
   "source": [
    "print(f\"Features selected: {len(selected_features)} out of {all_features.shape[1]}\")\n",
    "print(f\"Selected features shape: {X_selected.shape}\")"
   ]
  },
  {
   "cell_type": "code",
   "execution_count": 54,
   "id": "3f9a84eb-87da-4947-89ed-22ee8a4e4684",
   "metadata": {},
   "outputs": [],
   "source": [
    "# Show top features\n",
    "feature_scores = pd.DataFrame({\n",
    "    'feature': all_features.columns,\n",
    "    'score': selector.scores_,\n",
    "    'selected': selector.get_support()\n",
    "})\n",
    "\n",
    "feature_scores = feature_scores.sort_values('score', ascending=False)"
   ]
  },
  {
   "cell_type": "code",
   "execution_count": 58,
   "id": "6fea826b-4566-4fe2-a22d-c7b5598c03ce",
   "metadata": {
    "scrolled": true
   },
   "outputs": [
    {
     "name": "stdout",
     "output_type": "stream",
     "text": [
      "\n",
      "Top 15 selected features:\n",
      "char_count: 14580895.60\n",
      "word_count: 2852693.03\n",
      "sentence_count: 25904.53\n",
      "dollar_count: 11247.54\n",
      "percent_count: 9107.35\n",
      "avg_word_length: 6083.04\n",
      "capital_count: 2984.41\n",
      "contains_click here: 1253.87\n",
      "question_count: 1037.76\n",
      "replica: 896.01\n",
      "watch: 807.58\n",
      "wrote: 751.34\n",
      "has_cc: 612.39\n",
      "cnncom: 576.79\n",
      "python: 565.24\n",
      "alert: 563.78\n",
      "contains_confirm: 529.94\n",
      "has_attachment: 519.99\n",
      "file: 506.19\n",
      "list: 480.71\n",
      "replica watch: 452.83\n",
      "cnn: 430.24\n",
      "pythondev: 407.67\n",
      "mailing list: 390.40\n",
      "love: 364.67\n",
      "cable news: 359.31\n",
      "news network: 357.24\n",
      "mailing: 342.75\n",
      "perl: 337.79\n",
      "message: 331.53\n",
      "cable: 326.98\n",
      "code: 322.13\n",
      "men: 320.70\n",
      "custom: 312.12\n",
      "bug: 311.94\n",
      "opensuse: 308.72\n",
      "test: 306.50\n",
      "health: 300.48\n",
      "rolex: 298.12\n",
      "alert custom: 291.99\n",
      "custom alert: 291.99\n",
      "news: 283.13\n",
      "server: 282.09\n",
      "list unsubscribe: 279.01\n",
      "version: 274.69\n",
      "problem: 270.91\n",
      "group: 268.38\n",
      "linux: 265.79\n",
      "replica classic: 259.09\n",
      "user: 258.82\n",
      "paper: 256.81\n",
      "daily: 250.82\n",
      "life: 249.86\n",
      "mail: 248.77\n",
      "date: 244.36\n",
      "lllp: 243.54\n",
      "network lllp: 243.54\n",
      "window: 243.44\n",
      "university: 235.67\n",
      "data: 228.22\n",
      "video: 228.14\n",
      "spam: 225.22\n",
      "thanks: 223.98\n",
      "feb: 221.32\n",
      "classic: 220.36\n",
      "error: 212.17\n",
      "module: 207.14\n",
      "lar: 197.86\n",
      "watch replica: 197.66\n",
      "contains_verify: 195.52\n",
      "pythondev mailing: 194.69\n",
      "setting: 193.22\n",
      "woman: 191.76\n",
      "pgp: 191.55\n",
      "cnn alert: 190.07\n",
      "gain: 185.79\n",
      "exclamation_count: 184.51\n",
      "postfix: 181.55\n",
      "like: 181.19\n",
      "agreed receive: 180.04\n",
      "use: 179.89\n",
      "cnncom result: 179.89\n",
      "georgia cable: 179.89\n",
      "manage setting: 179.89\n",
      "setting manage: 179.89\n",
      "result cnncom: 179.89\n",
      "preference setting: 179.89\n",
      "cnncom preference: 179.89\n",
      "warner company: 179.89\n",
      "run: 179.67\n",
      "cnn center: 179.63\n",
      "center atlanta: 179.63\n",
      "email cnncom: 179.53\n",
      "atlanta georgia: 179.37\n",
      "ive: 178.02\n",
      "har: 177.89\n",
      "company right: 177.30\n",
      "issue: 177.19\n",
      "time warner: 176.92\n",
      "atlanta: 176.18\n",
      "georgia: 174.77\n",
      "release: 174.65\n",
      "click: 173.99\n",
      "warner: 173.54\n",
      "url date: 168.64\n",
      "pill: 168.00\n",
      "running: 167.98\n",
      "medication: 167.86\n",
      "workshop: 166.04\n",
      "patch: 165.47\n",
      "assignee: 165.41\n",
      "doesnt: 164.69\n",
      "ren: 162.14\n",
      "application: 161.88\n",
      "signature: 159.03\n",
      "story: 158.27\n",
      "rule: 157.78\n",
      "using: 157.05\n",
      "aug: 156.85\n",
      "directory: 155.85\n",
      "bit: 155.68\n",
      "page: 155.07\n",
      "function: 154.75\n",
      "submission: 153.84\n",
      "suspect: 153.84\n",
      "receive email: 153.56\n",
      "machine: 152.24\n",
      "agreed: 152.11\n",
      "thats: 151.02\n",
      "sex: 147.61\n",
      "passenger: 146.96\n",
      "conference: 144.34\n",
      "ilug: 144.06\n",
      "man: 142.02\n",
      "contains_free: 141.57\n",
      "inch: 141.26\n",
      "header: 141.26\n",
      "personal life: 140.50\n",
      "regard: 139.85\n",
      "subject: 139.39\n",
      "life glad: 139.09\n",
      "used: 138.21\n",
      "web: 137.70\n",
      "end: 136.64\n",
      "default: 135.88\n",
      "python mailing: 135.49\n",
      "guaranteed: 135.23\n",
      "work think: 135.00\n",
      "anthrax suspect: 134.29\n",
      "price: 134.22\n",
      "offer: 134.19\n",
      "paris: 133.85\n",
      "tue: 133.29\n",
      "think health: 132.69\n",
      "health personal: 132.34\n",
      "pleasure: 131.93\n",
      "install: 131.16\n",
      "penis: 131.09\n",
      "anthrax: 131.05\n",
      "cheer: 130.52\n",
      "point: 130.32\n",
      "paris hilton: 130.32\n",
      "hilton: 130.25\n",
      "wed: 129.89\n",
      "post: 129.85\n",
      "string: 128.15\n",
      "log: 127.81\n",
      "build: 127.78\n",
      "murder: 127.19\n",
      "option: 126.64\n",
      "february: 126.60\n",
      "mom: 126.41\n",
      "package: 125.70\n",
      "pgp signature: 125.68\n",
      "spamassassin: 125.50\n",
      "probably: 125.17\n",
      "idea: 124.97\n",
      "object: 123.06\n",
      "know: 122.96\n",
      "till: 122.72\n",
      "import: 122.71\n",
      "arrested: 122.68\n",
      "begin pgp: 122.65\n",
      "ill: 122.49\n",
      "mccain: 122.18\n",
      "girl: 122.05\n",
      "question: 122.04\n",
      "cnncom daily: 122.00\n",
      "daily daily: 122.00\n",
      "edt video: 121.77\n",
      "going agreed: 121.77\n",
      "suggestion going: 121.77\n",
      "guideline going: 121.77\n",
      "daily cnncom: 121.77\n",
      "cnn trusted: 121.77\n",
      "cnncom video: 121.77\n",
      "video story: 121.77\n",
      "lllp cnn: 121.77\n",
      "privacy guideline: 121.77\n",
      "lllp time: 121.77\n",
      "news cable: 121.77\n",
      "trusted news: 121.74\n",
      "reserved send: 121.69\n",
      "setting unsubscribe: 121.60\n",
      "story aug: 121.56\n",
      "oct: 121.42\n",
      "fix: 121.32\n",
      "send comment: 120.36\n",
      "going read: 120.28\n",
      "aug edt: 120.03\n",
      "command: 119.56\n",
      "contains_suspended: 119.48\n",
      "read privacy: 119.45\n",
      "warning: 118.54\n",
      "obama: 118.05\n",
      "begin: 117.57\n",
      "actually: 116.76\n",
      "comment suggestion: 116.44\n",
      "domain: 116.31\n",
      "url: 116.21\n",
      "example: 115.90\n",
      "yahoo: 115.80\n",
      "rpm: 115.68\n",
      "glad: 115.52\n",
      "guido: 114.75\n",
      "kernel: 114.31\n",
      "print: 114.29\n",
      "contains_immediate: 113.80\n",
      "installed: 113.64\n",
      "unsubscribe daily: 113.60\n",
      "pythonwin: 113.48\n",
      "quality: 112.71\n",
      "project: 112.28\n",
      "contains_winner: 112.11\n",
      "yes: 111.80\n",
      "martin: 111.73\n",
      "source: 111.46\n",
      "thread: 110.48\n",
      "van: 110.43\n",
      "apr: 110.28\n",
      "manage: 109.60\n",
      "learning: 108.30\n",
      "increase: 108.30\n",
      "receive: 107.22\n",
      "library: 107.13\n",
      "open: 106.97\n",
      "dakota: 106.71\n",
      "trusted: 106.49\n",
      "added: 105.62\n",
      "text: 105.26\n",
      "kde: 105.11\n",
      "john junior: 104.70\n",
      "gotti arrested: 104.70\n",
      "junior gotti: 104.70\n",
      "gotti: 104.43\n",
      "montauk: 103.97\n",
      "emergency landing: 103.87\n",
      "pharmacy: 103.60\n",
      "montauk monster: 103.57\n",
      "address: 103.14\n",
      "gorilla: 102.89\n",
      "chemist: 102.70\n",
      "privacy: 102.58\n",
      "thu: 102.41\n",
      "edt: 102.37\n",
      "beheading: 102.26\n",
      "right reserved: 101.73\n",
      "type: 101.65\n",
      "sun: 101.65\n",
      "lady: 101.44\n",
      "manhood: 101.41\n",
      "summer: 101.21\n",
      "pleads: 101.06\n",
      "product: 100.69\n",
      "science: 100.44\n",
      "viagra: 99.87\n",
      "center: 99.00\n",
      "landing: 98.36\n",
      "drugstore: 98.01\n",
      "preference: 97.92\n",
      "canadian: 97.77\n",
      "uai: 97.62\n",
      "maybe: 97.56\n",
      "monster: 97.33\n",
      "author: 97.24\n",
      "alert alert: 97.23\n",
      "suse: 97.17\n",
      "alert cnn: 96.97\n",
      "aug story: 96.58\n",
      "writes: 95.83\n",
      "key: 95.77\n",
      "alert click: 95.73\n",
      "click cable: 95.24\n",
      "receiving custom: 95.03\n",
      "alter alert: 95.03\n",
      "story agreed: 95.03\n",
      "criterion frequency: 95.03\n",
      "custom email: 95.03\n",
      "frequency unsubscribe: 95.03\n",
      "click alter: 95.03\n",
      "unsubscribe receiving: 94.98\n",
      "setting click: 94.96\n",
      "didnt: 94.73\n",
      "reserved view: 94.69\n",
      "network cnn: 94.68\n",
      "alert criterion: 94.67\n",
      "following: 94.23\n",
      "nov: 94.18\n",
      "emergency: 94.09\n",
      "sat: 94.03\n",
      "feature: 93.47\n",
      "additional: 93.17\n",
      "herbal: 93.01\n",
      "irish: 91.91\n",
      "sent: 91.89\n",
      "configuration: 91.88\n",
      "network time: 91.55\n",
      "sure: 91.50\n",
      "change life: 91.40\n",
      "junior: 90.46\n",
      "score: 90.15\n",
      "watching: 89.98\n",
      "linux user: 89.71\n",
      "attack: 89.67\n",
      "output: 89.59\n",
      "network: 89.51\n",
      "oil: 89.50\n",
      "reserved: 89.44\n",
      "rossum: 89.43\n",
      "incredible: 89.43\n",
      "van rossum: 89.32\n",
      "set: 89.18\n",
      "way: 89.15\n",
      "plane: 89.13\n",
      "guido van: 89.05\n",
      "policy term: 88.80\n",
      "working: 88.57\n",
      "rolex watch: 88.55\n",
      "developer: 88.39\n",
      "disk: 88.26\n",
      "instead: 88.12\n",
      "alter: 87.52\n",
      "fine: 87.33\n",
      "ren lar: 86.99\n",
      "fork: 86.87\n",
      "class: 86.87\n",
      "different: 86.76\n",
      "hash: 86.63\n",
      "host: 86.62\n",
      "guideline: 86.59\n",
      "email alert: 86.58\n",
      "note: 86.32\n",
      "view privacy: 86.20\n",
      "bed: 85.87\n",
      "guess: 85.35\n",
      "wrong: 85.27\n",
      "pep: 85.19\n",
      "receiving mail: 84.98\n",
      "supplement: 84.39\n",
      "commentary: 84.35\n",
      "male: 84.26\n",
      "bug watching: 84.19\n",
      "med: 83.77\n",
      "value: 83.65\n",
      "fake: 83.30\n",
      "september use: 82.72\n",
      "assignee bug: 82.64\n",
      "mail assignee: 82.64\n",
      "watching assignee: 82.64\n",
      "time break: 82.61\n",
      "technology: 82.55\n",
      "till september: 82.21\n",
      "visit site: 82.20\n",
      "failed: 82.11\n",
      "break work: 82.02\n",
      "frequency: 81.64\n",
      "bedroom: 81.45\n",
      "watch rolex: 81.09\n",
      "character: 80.94\n",
      "check site: 80.49\n",
      "current: 80.18\n",
      "posted: 80.15\n",
      "look like: 80.13\n",
      "google: 80.08\n",
      "fixed: 80.07\n",
      "repository: 80.03\n",
      "thickness: 79.68\n",
      "interface: 79.29\n",
      "capital_ratio: 79.24\n",
      "revolutionary: 79.17\n",
      "user group: 79.14\n",
      "group send: 79.06\n",
      "rolex replica: 78.96\n",
      "ierant: 78.91\n",
      "mean: 78.06\n",
      "implementation: 78.06\n",
      "trying: 77.67\n",
      "pen: 77.29\n",
      "isnt: 77.27\n",
      "quite: 77.25\n",
      "event: 77.05\n",
      "update: 76.75\n",
      "october use: 76.40\n",
      "till october: 76.40\n",
      "applied: 76.26\n",
      "formula: 75.72\n",
      "core: 75.56\n",
      "nude: 75.13\n",
      "fri aug: 75.09\n",
      "fast: 75.00\n",
      "cnet: 74.99\n",
      "variable: 74.93\n",
      "company: 74.89\n",
      "tony: 74.78\n",
      "criterion: 74.71\n",
      "enhancement: 74.66\n",
      "partition: 74.55\n",
      "number: 74.44\n",
      "police: 74.43\n",
      "contains_prize: 74.22\n",
      "acy: 73.97\n",
      "intimate: 73.86\n",
      "gnupg: 73.80\n",
      "plugin: 73.64\n",
      "satisfied: 73.59\n",
      "correct: 73.33\n",
      "heart: 73.00\n",
      "maintainer: 72.94\n",
      "result: 72.83\n",
      "discussion: 72.57\n",
      "include: 72.43\n",
      "database: 72.36\n",
      "revision: 72.29\n",
      "irish linux: 72.13\n",
      "rpmlist: 72.11\n",
      "documentation: 71.70\n",
      "rpmlist mailing: 71.68\n",
      "setup: 71.64\n",
      "additional comment: 71.59\n",
      "whats: 71.54\n",
      "create: 71.50\n",
      "sorry: 71.39\n",
      "posting: 71.17\n",
      "support: 70.86\n",
      "slide: 70.70\n",
      "change: 70.67\n",
      "root: 70.67\n",
      "enlargement: 70.49\n",
      "click url: 70.47\n",
      "buy: 70.20\n",
      "dear: 70.06\n",
      "spamexperts: 69.90\n",
      "useful: 69.89\n",
      "folder: 69.78\n",
      "patek philippe: 69.68\n",
      "patek: 69.68\n",
      "platform: 69.64\n",
      "gain inch: 69.61\n",
      "deadline: 69.60\n",
      "sort: 69.59\n",
      "enlarge: 69.58\n",
      "argument: 69.56\n",
      "fda: 69.50\n",
      "place: 69.49\n",
      "think: 69.34\n",
      "dont: 68.71\n",
      "testimonial: 68.68\n",
      "port: 68.61\n",
      "boot: 68.43\n",
      "perfect: 68.29\n",
      "original message: 68.25\n",
      "byte: 68.23\n",
      "ecard: 68.21\n",
      "topic: 68.19\n",
      "using opera: 68.10\n",
      "opera revolutionary: 68.10\n",
      "april: 68.03\n",
      "svn: 67.93\n",
      "tried: 67.77\n",
      "mon: 67.72\n",
      "thought: 67.67\n",
      "size matter: 67.52\n",
      "store: 67.43\n",
      "revolutionary email: 67.40\n",
      "breakthrough: 67.22\n",
      "group unsubscription: 67.01\n",
      "razorusers: 66.89\n",
      "havent: 66.83\n",
      "sound: 66.71\n",
      "dog: 66.38\n",
      "carlos: 66.27\n",
      "sep: 66.22\n",
      "signed: 66.06\n",
      "api: 65.95\n",
      "replica rolex: 65.90\n",
      "visit replica: 65.89\n",
      "youre: 65.88\n",
      "script: 65.73\n",
      "alpha: 65.72\n",
      "payment: 65.69\n",
      "ine: 65.57\n",
      "vacheron: 65.41\n",
      "information list: 65.28\n",
      "list maintainer: 65.21\n",
      "unsubscription information: 65.21\n",
      "def: 65.05\n",
      "smtp: 64.89\n",
      "unsubscription: 64.86\n",
      "ago: 64.80\n",
      "testing: 64.75\n",
      "changed: 64.68\n",
      "environment: 64.64\n",
      "connection: 64.58\n",
      "recipient: 64.55\n",
      "signed message: 64.50\n",
      "management: 64.43\n",
      "newsletter: 64.15\n",
      "really: 64.02\n",
      "buildbot: 63.90\n",
      "subscription: 63.86\n",
      "development: 63.72\n",
      "greg: 63.71\n",
      "dont know: 63.66\n",
      "permanent: 63.60\n",
      "pgp signed: 63.58\n",
      "java: 63.58\n",
      "book: 63.57\n",
      "instance: 63.52\n",
      "received: 63.45\n",
      "end pgp: 63.30\n",
      "currently: 63.29\n",
      "reading: 63.19\n",
      "nick: 63.12\n",
      "approved: 63.12\n",
      "dream: 63.09\n",
      "course: 63.04\n",
      "send email: 62.92\n",
      "men low: 62.78\n",
      "pecker: 62.73\n",
      "context: 62.70\n",
      "entry: 62.66\n",
      "matthias: 62.53\n",
      "signature version: 62.52\n",
      "said: 62.42\n",
      "message hash: 62.27\n",
      "hash sha: 62.27\n",
      "microsoft: 62.12\n",
      "area: 62.04\n",
      "ion: 62.03\n",
      "version gnupg: 62.00\n",
      "table: 61.81\n",
      "shocking: 61.59\n",
      "getting: 61.56\n",
      "search: 61.52\n",
      "content: 61.46\n",
      "wednesday: 61.45\n",
      "short week: 61.30\n",
      "luxurious: 61.29\n",
      "supplied: 61.21\n",
      "product men: 61.19\n",
      "far: 61.14\n",
      "soros: 61.04\n",
      "unix: 60.86\n",
      "gain permanent: 60.83\n",
      "discus: 60.62\n",
      "standard: 60.58\n",
      "cpan: 60.51\n",
      "white paper: 60.49\n",
      "health shop: 60.45\n",
      "session: 60.34\n",
      "girth: 60.29\n",
      "traditionstreetcom: 60.21\n",
      "purchase: 60.09\n",
      "parameter: 60.08\n",
      "missing: 60.07\n",
      "girlfriend: 59.96\n",
      "testimonial satisfied: 59.92\n",
      "messageid: 59.86\n",
      "multiple: 59.41\n",
      "traditionstreetcom aug: 59.38\n",
      "help till: 59.34\n",
      "laptop: 59.33\n",
      "help men: 59.32\n",
      "dimension: 59.19\n",
      "open source: 59.14\n",
      "copyright: 59.03\n",
      "monday: 59.00\n",
      "sha: 58.99\n",
      "space: 58.87\n",
      "friday: 58.74\n",
      "iptv: 58.68\n",
      "utah: 58.68\n",
      "path: 58.61\n",
      "chris: 58.48\n",
      "memory: 58.47\n",
      "query: 58.40\n",
      "razor: 58.31\n",
      "glad help: 58.21\n",
      "unicode: 57.95\n",
      "modified: 57.89\n",
      "march: 57.86\n",
      "assist till: 57.80\n",
      "glad assist: 57.80\n",
      "date supplied: 57.71\n",
      "cpu: 57.65\n",
      "kind: 57.60\n",
      "money: 57.58\n",
      "personal: 57.55\n",
      "bikini: 57.51\n",
      "bvlgari: 57.50\n",
      "peter: 57.42\n",
      "lowest: 57.41\n",
      "michael: 57.40\n",
      "filter: 57.26\n",
      "related: 57.21\n",
      "low price: 57.12\n",
      "image: 57.07\n",
      "job: 57.05\n",
      "dont think: 56.96\n",
      "enlarge penis: 56.88\n",
      "best: 56.75\n",
      "configure: 56.74\n",
      "skip: 56.72\n",
      "hardware: 56.72\n",
      "atches: 56.68\n",
      "pleasurable: 56.44\n",
      "distribution: 56.40\n",
      "second: 56.26\n",
      "genuine: 56.18\n",
      "similar: 56.06\n",
      "dave: 55.91\n",
      "link: 55.89\n",
      "logic: 55.88\n",
      "machine learning: 55.87\n",
      "single: 55.74\n",
      "increase thickness: 55.73\n",
      "opera: 55.71\n",
      "cure: 55.68\n",
      "pleasurable come: 55.67\n",
      "theory: 55.61\n",
      "reference: 55.55\n",
      "intelligence: 55.34\n",
      "sub: 55.08\n",
      "doc: 55.07\n",
      "box: 55.04\n",
      "gnulinux: 55.00\n",
      "video paris: 54.80\n",
      "spamd: 54.74\n",
      "wasnt: 54.71\n",
      "herbal supplement: 54.58\n",
      "analysis: 54.54\n",
      "thursday: 54.53\n",
      "regard martin: 54.46\n",
      "archive: 54.37\n",
      "flag: 54.34\n",
      "algorithm: 54.29\n",
      "computer science: 54.27\n",
      "proven: 54.21\n",
      "teri: 54.14\n",
      "latest: 54.14\n",
      "block: 54.12\n",
      "safe: 54.11\n",
      "tot: 54.08\n",
      "striking: 54.06\n",
      "new photo: 54.00\n",
      "aid till: 53.89\n",
      "glad aid: 53.89\n",
      "making fortune: 53.80\n",
      "blog: 53.79\n",
      "load: 53.71\n",
      "html: 53.70\n",
      "student: 53.65\n",
      "doomed utah: 53.63\n",
      "maggot new: 53.63\n",
      "clinton upset: 53.63\n",
      "charge maggot: 53.63\n",
      "clampett midst: 53.63\n",
      "clampett: 53.63\n",
      "economic surge: 53.63\n",
      "egg anthrax: 53.63\n",
      "tot grandma: 53.63\n",
      "draw lawsuit: 53.63\n",
      "mark set: 53.63\n",
      "hiding fake: 53.63\n",
      "polling battle: 53.63\n",
      "report mistake: 53.63\n",
      "report bikini: 53.63\n",
      "love triangle: 53.63\n",
      "triangle murder: 53.63\n",
      "driven donate: 53.63\n",
      "dog report: 53.63\n",
      "commentary clinton: 53.63\n",
      "midst dakota: 53.63\n",
      "swing republican: 53.63\n",
      "bikini barista: 53.63\n",
      "misleading mountain: 53.63\n",
      "mccain kareen: 53.63\n",
      "amy ray: 53.63\n",
      "evil amy: 53.63\n",
      "teri garrs: 53.63\n"
     ]
    }
   ],
   "source": [
    "print(f\"\\nTop 15 selected features:\")\n",
    "top_features = feature_scores[feature_scores['selected']].head(700)\n",
    "for idx, row in top_features.iterrows():\n",
    "    print(f\"{row['feature']}: {row['score']:.2f}\")"
   ]
  },
  {
   "cell_type": "code",
   "execution_count": 59,
   "id": "ed7382fe-df91-4941-9cb9-6bd75313af5e",
   "metadata": {},
   "outputs": [],
   "source": [
    "# Count email vs TF-IDF features selected\n",
    "email_features_selected = sum(1 for feat in selected_features if feat in email_features.columns)\n",
    "tfidf_features_selected = len(selected_features) - email_features_selected"
   ]
  },
  {
   "cell_type": "code",
   "execution_count": 60,
   "id": "01b8a4d0-3d5d-4fb7-a6ad-9d8ab46bc8a8",
   "metadata": {},
   "outputs": [
    {
     "name": "stdout",
     "output_type": "stream",
     "text": [
      "\n",
      "Feature selection breakdown:\n",
      "Email-specific features selected: 20/26\n",
      "TF-IDF features selected: 980/5000\n"
     ]
    }
   ],
   "source": [
    "print(f\"\\nFeature selection breakdown:\")\n",
    "print(f\"Email-specific features selected: {email_features_selected}/{email_features.shape[1]}\")\n",
    "print(f\"TF-IDF features selected: {tfidf_features_selected}/{tfidf_df.shape[1]}\")"
   ]
  },
  {
   "cell_type": "markdown",
   "id": "4da7fd34-6493-4d7e-8f46-a8671877d466",
   "metadata": {},
   "source": [
    "--------------------------------------------------------------------------------------------------------------------"
   ]
  },
  {
   "cell_type": "code",
   "execution_count": 68,
   "id": "5ed089eb-dd8a-4cf7-b6d8-3dc81e0186f5",
   "metadata": {},
   "outputs": [],
   "source": [
    "X = X_selected\n",
    "y = df['label'].values"
   ]
  },
  {
   "cell_type": "code",
   "execution_count": 69,
   "id": "9920412a-eda6-4811-9511-a6544894234c",
   "metadata": {},
   "outputs": [
    {
     "name": "stdout",
     "output_type": "stream",
     "text": [
      "Final feature matrix shape: (44251, 1000)\n",
      "Target distribution: [20766 23485]\n"
     ]
    }
   ],
   "source": [
    "print(f\"Final feature matrix shape: {X.shape}\")\n",
    "print(f\"Target distribution: {np.bincount(y)}\")"
   ]
  },
  {
   "cell_type": "code",
   "execution_count": 70,
   "id": "e57344b6-f0ec-41a3-8dcc-ace1ec89af33",
   "metadata": {},
   "outputs": [],
   "source": [
    "# Split the data\n",
    "X_train, X_test, y_train, y_test = train_test_split(\n",
    "    X, y, test_size=0.2, random_state=42, stratify=y\n",
    ")"
   ]
  },
  {
   "cell_type": "code",
   "execution_count": 71,
   "id": "84bee074-90f1-4224-ab0b-02ac3ec4c3b2",
   "metadata": {},
   "outputs": [
    {
     "name": "stdout",
     "output_type": "stream",
     "text": [
      "Training set: (35400, 1000)\n",
      "Test set: (8851, 1000)\n"
     ]
    }
   ],
   "source": [
    "print(f\"Training set: {X_train.shape}\")\n",
    "print(f\"Test set: {X_test.shape}\")"
   ]
  },
  {
   "cell_type": "code",
   "execution_count": 72,
   "id": "940616ad-a8eb-45b5-8fc9-64b61d54abbf",
   "metadata": {},
   "outputs": [
    {
     "name": "stdout",
     "output_type": "stream",
     "text": [
      "Training labels - Legitimate: 16612, Phishing: 18788\n",
      "Test labels - Legitimate: 4154, Phishing: 4697\n"
     ]
    }
   ],
   "source": [
    "print(f\"Training labels - Legitimate: {sum(y_train==0)}, Phishing: {sum(y_train==1)}\")\n",
    "print(f\"Test labels - Legitimate: {sum(y_test==0)}, Phishing: {sum(y_test==1)}\")"
   ]
  },
  {
   "cell_type": "code",
   "execution_count": 73,
   "id": "4b3acf58-7858-422d-9b00-6c0aa484f415",
   "metadata": {},
   "outputs": [],
   "source": [
    "# scaling features for LogisticRegression\n",
    "scaler = StandardScaler()\n",
    "X_train_scaled = scaler.fit_transform(X_train)\n",
    "X_test_scaled = scaler.transform(X_test)"
   ]
  },
  {
   "cell_type": "markdown",
   "id": "2bb00b68-3a7b-4016-bdf2-cab12dcb1327",
   "metadata": {},
   "source": [
    "--------------------------------------------------------------------------------------------------------------------"
   ]
  },
  {
   "cell_type": "code",
   "execution_count": 74,
   "id": "3c7ebdfc-98f1-45c3-aab9-8daa4ed05e16",
   "metadata": {},
   "outputs": [],
   "source": [
    "models = {\n",
    "    'Naive Bayes': MultinomialNB(),\n",
    "    'Logistic Regression': LogisticRegression(random_state=42, max_iter=1000),\n",
    "    'Random Forest': RandomForestClassifier(n_estimators=100, random_state=42),\n",
    "    'Gradient Boosting': GradientBoostingClassifier(random_state=42),\n",
    "}"
   ]
  },
  {
   "cell_type": "code",
   "execution_count": 75,
   "id": "1168e45a-96d4-4744-821f-200b4cc5fda0",
   "metadata": {},
   "outputs": [],
   "source": [
    "def evaluate_model(model, X_train, X_test, y_train, y_test, model_name):\n",
    "    # Train model\n",
    "    model.fit(X_train, y_train)\n",
    "    # Predictions\n",
    "    y_pred = model.predict(X_test)\n",
    "    y_pred_proba = model.predict_proba(X_test)[:, 1] if hasattr(model, 'predict_proba') else None\n",
    "    # Metrics\n",
    "    accuracy = accuracy_score(y_test, y_pred)\n",
    "    f1 = f1_score(y_test, y_pred)\n",
    "    # Cross-validation\n",
    "    cv_scores = cross_val_score(model, X_train, y_train, cv=5, scoring='accuracy')\n",
    "    \n",
    "    results = {\n",
    "        'Model': model_name,\n",
    "        'Accuracy': accuracy,\n",
    "        'F1-Score': f1,\n",
    "        'CV Mean': cv_scores.mean(),\n",
    "        'CV Std': cv_scores.std()\n",
    "    }\n",
    "    \n",
    "    if y_pred_proba is not None:\n",
    "        auc = roc_auc_score(y_test, y_pred_proba)\n",
    "        results['AUC'] = auc\n",
    "    \n",
    "    return results, y_pred, y_pred_proba"
   ]
  },
  {
   "cell_type": "code",
   "execution_count": 76,
   "id": "caf746ac-c397-4141-9008-086a018fc36b",
   "metadata": {},
   "outputs": [
    {
     "name": "stdout",
     "output_type": "stream",
     "text": [
      "Evaluating models...\n",
      "Training Naive Bayes...\n",
      "Training Logistic Regression...\n",
      "Training Random Forest...\n",
      "Training Gradient Boosting...\n"
     ]
    }
   ],
   "source": [
    "# all models evaluation\n",
    "results = []\n",
    "predictions = {}\n",
    "print(\"Evaluating models...\")\n",
    "for name, model in models.items():\n",
    "    print(f\"Training {name}...\")\n",
    "    X_tr, X_te = X_train, X_test\n",
    "    \n",
    "    # model-eval\n",
    "    result, y_pred, y_pred_proba = evaluate_model(model, X_tr, X_te, y_train, y_test, name)\n",
    "    results.append(result)\n",
    "    predictions[name] = {'pred': y_pred, 'proba': y_pred_proba}"
   ]
  },
  {
   "cell_type": "code",
   "execution_count": 77,
   "id": "67bbb13d-51e2-497f-a013-7b152e332288",
   "metadata": {},
   "outputs": [],
   "source": [
    "# results DataFrame\n",
    "results_df = pd.DataFrame(results)\n",
    "results_df = results_df.sort_values('Accuracy', ascending=False)"
   ]
  },
  {
   "cell_type": "code",
   "execution_count": 78,
   "id": "c4a747bd-8047-43fd-a4cf-ef0b4b2727c7",
   "metadata": {},
   "outputs": [
    {
     "name": "stdout",
     "output_type": "stream",
     "text": [
      "\n",
      "Model Performance Comparison:\n",
      "                 Model  Accuracy  F1-Score  CV Mean  CV Std     AUC\n",
      "2        Random Forest    0.9866    0.9873   0.9854  0.0011  0.9990\n",
      "3    Gradient Boosting    0.9672    0.9693   0.9679  0.0020  0.9948\n",
      "1  Logistic Regression    0.9348    0.9391   0.9326  0.0091  0.9549\n",
      "0          Naive Bayes    0.7163    0.6698   0.7175  0.0077  0.8678\n"
     ]
    }
   ],
   "source": [
    "print(\"\\nModel Performance Comparison:\")\n",
    "print(results_df.round(4))"
   ]
  },
  {
   "cell_type": "markdown",
   "id": "371694f7-cc73-428b-b7d3-0d180a408b2f",
   "metadata": {},
   "source": [
    "--------------------------------------------------------------------------------------------------------------------"
   ]
  },
  {
   "cell_type": "code",
   "execution_count": 79,
   "id": "1004c58a-4376-4f52-8ff3-4736d8d4634f",
   "metadata": {},
   "outputs": [
    {
     "name": "stdout",
     "output_type": "stream",
     "text": [
      "Best Model: Random Forest\n"
     ]
    }
   ],
   "source": [
    "# Getbest model\n",
    "best_model_name = results_df.iloc[0]['Model']\n",
    "best_predictions = predictions[best_model_name]\n",
    "\n",
    "print(f\"Best Model: {best_model_name}\")"
   ]
  },
  {
   "cell_type": "code",
   "execution_count": 80,
   "id": "3b887fda-c953-4f00-85df-17bfacb1f649",
   "metadata": {},
   "outputs": [
    {
     "name": "stdout",
     "output_type": "stream",
     "text": [
      "\n",
      "Classification Report for Random Forest:\n",
      "              precision    recall  f1-score   support\n",
      "\n",
      "  Legitimate       0.98      0.99      0.99      4154\n",
      "    Phishing       0.99      0.98      0.99      4697\n",
      "\n",
      "    accuracy                           0.99      8851\n",
      "   macro avg       0.99      0.99      0.99      8851\n",
      "weighted avg       0.99      0.99      0.99      8851\n",
      "\n"
     ]
    }
   ],
   "source": [
    "# Detailed classification report\n",
    "print(f\"\\nClassification Report for {best_model_name}:\")\n",
    "print(classification_report(y_test, best_predictions['pred'], \n",
    "                          target_names=['Legitimate', 'Phishing']))"
   ]
  },
  {
   "cell_type": "code",
   "execution_count": 81,
   "id": "78ecf56b-de8b-4a52-ad9b-12f96eed924a",
   "metadata": {},
   "outputs": [
    {
     "data": {
      "image/png": "[encoded data removed]",
      "text/plain": [
       "<Figure size 800x600 with 2 Axes>"
      ]
     },
     "metadata": {},
     "output_type": "display_data"
    }
   ],
   "source": [
    "# Confusion Matrix\n",
    "cm = confusion_matrix(y_test, best_predictions['pred'])\n",
    "plt.figure(figsize=(8, 6))\n",
    "sns.heatmap(cm, annot=True, fmt='d', cmap='Blues', \n",
    "            xticklabels=['Legitimate', 'Phishing'],\n",
    "            yticklabels=['Legitimate', 'Phishing'])\n",
    "plt.title(f'Confusion Matrix - {best_model_name}')\n",
    "plt.ylabel('True Label')\n",
    "plt.xlabel('Predicted Label')\n",
    "plt.show()"
   ]
  },
  {
   "cell_type": "code",
   "execution_count": 82,
   "id": "66f36cef-7e2f-4479-a916-85f7d32015c6",
   "metadata": {},
   "outputs": [
    {
     "data": {
      "image/png": "[encoded data removed]",
      "text/plain": [
       "<Figure size 800x600 with 1 Axes>"
      ]
     },
     "metadata": {},
     "output_type": "display_data"
    }
   ],
   "source": [
    "# ROC Curve (if probability predictions available)\n",
    "if best_predictions['proba'] is not None:\n",
    "    fpr, tpr, _ = roc_curve(y_test, best_predictions['proba'])\n",
    "    auc_score = roc_auc_score(y_test, best_predictions['proba'])\n",
    "    \n",
    "    plt.figure(figsize=(8, 6))\n",
    "    plt.plot(fpr, tpr, label=f'{best_model_name} (AUC = {auc_score:.3f})')\n",
    "    plt.plot([0, 1], [0, 1], 'k--', label='Random')\n",
    "    plt.xlabel('False Positive Rate')\n",
    "    plt.ylabel('True Positive Rate')\n",
    "    plt.title('ROC Curve')\n",
    "    plt.legend()\n",
    "    plt.grid(True)\n",
    "    plt.show()"
   ]
  },
  {
   "cell_type": "code",
   "execution_count": 83,
   "id": "70e253fb-d655-4746-92f3-c0a45f87c5f2",
   "metadata": {},
   "outputs": [
    {
     "data": {
      "image/png": "[encoded data removed]",
      "text/plain": [
       "<Figure size 1200x800 with 1 Axes>"
      ]
     },
     "metadata": {},
     "output_type": "display_data"
    }
   ],
   "source": [
    "# Model comparison visualization\n",
    "plt.figure(figsize=(12, 8))\n",
    "metrics_to_plot = ['Accuracy', 'F1-Score', 'CV Mean']\n",
    "x = np.arange(len(results_df))\n",
    "width = 0.25\n",
    "\n",
    "for i, metric in enumerate(metrics_to_plot):\n",
    "    plt.bar(x + i*width, results_df[metric], width, label=metric, alpha=0.8)\n",
    "\n",
    "plt.xlabel('Models')\n",
    "plt.ylabel('Score')\n",
    "plt.title('Model Performance Comparison')\n",
    "plt.xticks(x + width, results_df['Model'], rotation=45)\n",
    "plt.legend()\n",
    "plt.tight_layout()\n",
    "plt.show()"
   ]
  },
  {
   "cell_type": "markdown",
   "id": "c077f3b5-cfc4-4abd-851f-fec1a28a3253",
   "metadata": {},
   "source": [
    "--------------------------------------------------------------------------------------------------------------------"
   ]
  },
  {
   "cell_type": "code",
   "execution_count": 84,
   "id": "ab89fae3-01a6-418b-acf7-89052653672a",
   "metadata": {},
   "outputs": [
    {
     "name": "stdout",
     "output_type": "stream",
     "text": [
      "\n",
      "Top 20 Most Important Features (Random Forest):\n",
      "                feature  importance\n",
      "2        sentence_count    0.077130\n",
      "992               wrote    0.057503\n",
      "8         capital_count    0.056830\n",
      "0            char_count    0.053909\n",
      "1            word_count    0.052128\n",
      "476                list    0.020893\n",
      "4     exclamation_count    0.019756\n",
      "5        question_count    0.019080\n",
      "529             message    0.018418\n",
      "3       avg_word_length    0.016109\n",
      "499             mailing    0.015461\n",
      "500        mailing list    0.015308\n",
      "297                file    0.014676\n",
      "682             problem    0.013787\n",
      "212                date    0.013179\n",
      "9         capital_ratio    0.012645\n",
      "470                like    0.011415\n",
      "881              thanks    0.009214\n",
      "604            opensuse    0.009062\n",
      "674  preference setting    0.008220\n"
     ]
    },
    {
     "data": {
      "image/png": "[encoded data removed]",
      "text/plain": [
       "<Figure size 1000x800 with 1 Axes>"
      ]
     },
     "metadata": {},
     "output_type": "display_data"
    }
   ],
   "source": [
    "rf_model = models['Random Forest']\n",
    "rf_model.fit(X_train, y_train)\n",
    "\n",
    "if hasattr(rf_model, 'feature_importances_'):\n",
    "    feature_importance = pd.DataFrame({\n",
    "        'feature': selected_features,\n",
    "        'importance': rf_model.feature_importances_\n",
    "    }).sort_values('importance', ascending=False)\n",
    "    \n",
    "    print(\"\\nTop 20 Most Important Features (Random Forest):\")\n",
    "    print(feature_importance.head(20))\n",
    "    \n",
    "    # plot\n",
    "    plt.figure(figsize=(10, 8))\n",
    "    sns.barplot(data=feature_importance.head(15), x='importance', y='feature')\n",
    "    plt.title('Top 15 Feature Importance (Random Forest)')\n",
    "    plt.xlabel('Importance Score')\n",
    "    plt.tight_layout()\n",
    "    plt.show()"
   ]
  },
  {
   "cell_type": "markdown",
   "id": "2fdefa1b-c81d-4a1a-afbc-d25680c82e46",
   "metadata": {},
   "source": [
    "--------------------------------------------------------------------------------------------------------------------"
   ]
  },
  {
   "cell_type": "code",
   "execution_count": 85,
   "id": "9eba1881-a10a-4ba4-b011-6321b923a92e",
   "metadata": {},
   "outputs": [
    {
     "name": "stdout",
     "output_type": "stream",
     "text": [
      "Dataset Summary:\n",
      "- Total emails processed: 44,251\n",
      "- Phishing emails: 23,485 (53.1%)\n",
      "- Legitimate emails: 20,766 (46.9%)\n",
      "\n",
      "Best Performing Model: Random Forest\n",
      "- Test Accuracy: 0.9866\n",
      "- F1-Score: 0.9873\n",
      "- Cross-Validation Score: 0.9854 ± 0.0011\n",
      "\n",
      "=== PIPELINE COMPLETED SUCCESSFULLY ===\n"
     ]
    }
   ],
   "source": [
    "print(f\"Dataset Summary:\")\n",
    "print(f\"- Total emails processed: {len(df):,}\")\n",
    "print(f\"- Phishing emails: {sum(df['label']):,} ({sum(df['label'])/len(df)*100:.1f}%)\")\n",
    "print(f\"- Legitimate emails: {len(df)-sum(df['label']):,} ({(len(df)-sum(df['label']))/len(df)*100:.1f}%)\")\n",
    "\n",
    "print(f\"\\nBest Performing Model: {best_model_name}\")\n",
    "print(f\"- Test Accuracy: {results_df.iloc[0]['Accuracy']:.4f}\")\n",
    "print(f\"- F1-Score: {results_df.iloc[0]['F1-Score']:.4f}\")\n",
    "print(f\"- Cross-Validation Score: {results_df.iloc[0]['CV Mean']:.4f} ± {results_df.iloc[0]['CV Std']:.4f}\")\n",
    "print(\"\\n=== PIPELINE COMPLETED SUCCESSFULLY ===\")"
   ]
  },
  {
   "cell_type": "markdown",
   "id": "0f55cc39-afd6-47ec-99f1-38056bea350e",
   "metadata": {},
   "source": [
    "--------------------------------------------------------------------------------------------------------------------"
   ]
  },
  {
   "cell_type": "markdown",
   "id": "de43080f-d721-401f-95d5-a773b32602be",
   "metadata": {},
   "source": [
    "--------------------------------------------------------------------------------------------------------------------"
   ]
  }
 ],
 "metadata": {
  "kernelspec": {
   "display_name": "Python 3 (ipykernel)",
   "language": "python",
   "name": "python3"
  },
  "language_info": {
   "codemirror_mode": {
    "name": "ipython",
    "version": 3
   },
   "file_extension": ".py",
   "mimetype": "text/x-python",
   "name": "python",
   "nbconvert_exporter": "python",
   "pygments_lexer": "ipython3",
   "version": "3.10.9"
  }
 },
 "nbformat": 4,
 "nbformat_minor": 5
}
