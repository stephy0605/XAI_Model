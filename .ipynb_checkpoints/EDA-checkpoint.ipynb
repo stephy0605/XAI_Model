{
 "cells": [
  {
   "cell_type": "markdown",
   "id": "2a72f75e-4691-4ccd-b039-d9ea851639ef",
   "metadata": {},
   "source": [
    "--------------------------------------------------------------------------------------------------------------------"
   ]
  },
  {
   "cell_type": "markdown",
   "id": "7b362c2e-e801-42eb-a947-c785eada8f2e",
   "metadata": {},
   "source": [
    "--------------------------------------------------------------------------------------------------------------------"
   ]
  },
  {
   "cell_type": "markdown",
   "id": "86e29b1e-6f61-477f-ae0a-eb7ae464d789",
   "metadata": {},
   "source": [
    "#### Importing libaries"
   ]
  },
  {
   "cell_type": "code",
   "execution_count": 1,
   "id": "400f4f78-eb72-4535-9965-dca906270c22",
   "metadata": {},
   "outputs": [],
   "source": [
    "import pandas as pd\n",
    "import numpy as np\n",
    "import matplotlib.pyplot as plt\n",
    "import seaborn as sns\n",
    "from wordcloud import WordCloud\n",
    "from sklearn.feature_extraction.text import CountVectorizer, TfidfVectorizer\n",
    "from nltk.corpus import stopwords\n",
    "from nltk.util import ngrams"
   ]
  },
  {
   "cell_type": "code",
   "execution_count": 2,
   "id": "e2309380-7bb5-4d8f-9bc4-325658a818ef",
   "metadata": {},
   "outputs": [],
   "source": [
    "from collections import Counter\n",
    "from textblob import TextBlob\n",
    "import textstat\n",
    "import nltk\n",
    "import string\n",
    "import re\n",
    "import warnings\n",
    "warnings.filterwarnings(\"ignore\")"
   ]
  },
  {
   "cell_type": "code",
   "execution_count": 3,
   "id": "757746a3-7166-4f24-9231-687b9dd4f0d0",
   "metadata": {},
   "outputs": [],
   "source": [
    "import spacy\n",
    "nlp = spacy.load(\"en_core_web_sm\")"
   ]
  },
  {
   "cell_type": "markdown",
   "id": "8d8e7571-d443-4360-9225-d006526424dd",
   "metadata": {},
   "source": [
    "--------------------------------------------------------------------------------------------------------------------"
   ]
  },
  {
   "cell_type": "markdown",
   "id": "b42765f3-fa1b-4109-9d16-83619bc62ee2",
   "metadata": {},
   "source": [
    "--------------------------------------------------------------------------------------------------------------------"
   ]
  },
  {
   "cell_type": "markdown",
   "id": "0fb1dbde-e309-4514-a8ce-dd2b9fd467c1",
   "metadata": {},
   "source": [
    "#### Reading data"
   ]
  },
  {
   "cell_type": "code",
   "execution_count": 4,
   "id": "ec674b5c-fa2b-4f2e-903b-8f207bf4bd93",
   "metadata": {},
   "outputs": [],
   "source": [
    "df1 = pd.read_csv(\"C:/Users/Dell/Desktop/XAI_Model/SpamAssasin.csv\")\n",
    "df2 = pd.read_csv(\"C:/Users/Dell/Desktop/XAI_Model/CEAS_08.csv\")"
   ]
  },
  {
   "cell_type": "code",
   "execution_count": 5,
   "id": "02446ea4-0c1f-4494-864c-75c77d796bc2",
   "metadata": {},
   "outputs": [
    {
     "name": "stdout",
     "output_type": "stream",
     "text": [
      "<class 'pandas.core.frame.DataFrame'>\n",
      "RangeIndex: 5809 entries, 0 to 5808\n",
      "Data columns (total 7 columns):\n",
      " #   Column    Non-Null Count  Dtype \n",
      "---  ------    --------------  ----- \n",
      " 0   sender    5809 non-null   object\n",
      " 1   receiver  5599 non-null   object\n",
      " 2   date      5809 non-null   object\n",
      " 3   subject   5793 non-null   object\n",
      " 4   body      5808 non-null   object\n",
      " 5   label     5809 non-null   int64 \n",
      " 6   urls      5809 non-null   int64 \n",
      "dtypes: int64(2), object(5)\n",
      "memory usage: 317.8+ KB\n"
     ]
    }
   ],
   "source": [
    "df1.info()"
   ]
  },
  {
   "cell_type": "code",
   "execution_count": 6,
   "id": "52315e92-cd56-47d7-a6be-4939cf537931",
   "metadata": {},
   "outputs": [
    {
     "name": "stdout",
     "output_type": "stream",
     "text": [
      "<class 'pandas.core.frame.DataFrame'>\n",
      "RangeIndex: 39154 entries, 0 to 39153\n",
      "Data columns (total 7 columns):\n",
      " #   Column    Non-Null Count  Dtype \n",
      "---  ------    --------------  ----- \n",
      " 0   sender    39154 non-null  object\n",
      " 1   receiver  38692 non-null  object\n",
      " 2   date      39154 non-null  object\n",
      " 3   subject   39126 non-null  object\n",
      " 4   body      39154 non-null  object\n",
      " 5   label     39154 non-null  int64 \n",
      " 6   urls      39154 non-null  int64 \n",
      "dtypes: int64(2), object(5)\n",
      "memory usage: 2.1+ MB\n"
     ]
    }
   ],
   "source": [
    "df2.info()"
   ]
  },
  {
   "cell_type": "code",
   "execution_count": 7,
   "id": "cc8aaa51-1277-4bb0-8e2a-d96db4bb94a4",
   "metadata": {},
   "outputs": [],
   "source": [
    "df = pd.concat([df1, df2], ignore_index=True)"
   ]
  },
  {
   "cell_type": "code",
   "execution_count": 8,
   "id": "5db54f08-005f-4fde-80ed-1bcdc1071470",
   "metadata": {},
   "outputs": [
    {
     "name": "stdout",
     "output_type": "stream",
     "text": [
      "<class 'pandas.core.frame.DataFrame'>\n",
      "RangeIndex: 44963 entries, 0 to 44962\n",
      "Data columns (total 7 columns):\n",
      " #   Column    Non-Null Count  Dtype \n",
      "---  ------    --------------  ----- \n",
      " 0   sender    44963 non-null  object\n",
      " 1   receiver  44291 non-null  object\n",
      " 2   date      44963 non-null  object\n",
      " 3   subject   44919 non-null  object\n",
      " 4   body      44962 non-null  object\n",
      " 5   label     44963 non-null  int64 \n",
      " 6   urls      44963 non-null  int64 \n",
      "dtypes: int64(2), object(5)\n",
      "memory usage: 2.4+ MB\n"
     ]
    }
   ],
   "source": [
    "df.info()"
   ]
  },
  {
   "cell_type": "code",
   "execution_count": 9,
   "id": "5cb38238-47c5-4c05-9eaf-4c410ed05026",
   "metadata": {},
   "outputs": [
    {
     "name": "stdout",
     "output_type": "stream",
     "text": [
      "Number of duplicate rows: 0\n"
     ]
    }
   ],
   "source": [
    "duplicate_rows = df.duplicated()\n",
    "duplicate_count = duplicate_rows.sum()\n",
    "print(\"Number of duplicate rows:\", duplicate_count)"
   ]
  },
  {
   "cell_type": "code",
   "execution_count": 10,
   "id": "525ad97f-6213-4c53-bfcf-08b49a7479e9",
   "metadata": {},
   "outputs": [
    {
     "data": {
      "text/plain": [
       "sender        0\n",
       "receiver    672\n",
       "date          0\n",
       "subject      44\n",
       "body          1\n",
       "label         0\n",
       "urls          0\n",
       "dtype: int64"
      ]
     },
     "execution_count": 10,
     "metadata": {},
     "output_type": "execute_result"
    }
   ],
   "source": [
    "df.isnull().sum()"
   ]
  },
  {
   "cell_type": "code",
   "execution_count": 11,
   "id": "dfaa1648-7402-4e99-82cb-95c640e4c765",
   "metadata": {},
   "outputs": [],
   "source": [
    "df.dropna(subset=['receiver', 'subject', 'body', 'label'], inplace=True)"
   ]
  },
  {
   "cell_type": "code",
   "execution_count": 12,
   "id": "152b62e0-6933-4c9c-84ad-67251b6b3425",
   "metadata": {},
   "outputs": [
    {
     "data": {
      "text/html": [
       "<div>\n",
       "<style scoped>\n",
       "    .dataframe tbody tr th:only-of-type {\n",
       "        vertical-align: middle;\n",
       "    }\n",
       "\n",
       "    .dataframe tbody tr th {\n",
       "        vertical-align: top;\n",
       "    }\n",
       "\n",
       "    .dataframe thead th {\n",
       "        text-align: right;\n",
       "    }\n",
       "</style>\n",
       "<table border=\"1\" class=\"dataframe\">\n",
       "  <thead>\n",
       "    <tr style=\"text-align: right;\">\n",
       "      <th></th>\n",
       "      <th>label</th>\n",
       "      <th>urls</th>\n",
       "    </tr>\n",
       "  </thead>\n",
       "  <tbody>\n",
       "    <tr>\n",
       "      <th>count</th>\n",
       "      <td>44251.000000</td>\n",
       "      <td>44251.000000</td>\n",
       "    </tr>\n",
       "    <tr>\n",
       "      <th>mean</th>\n",
       "      <td>0.530722</td>\n",
       "      <td>0.698425</td>\n",
       "    </tr>\n",
       "    <tr>\n",
       "      <th>std</th>\n",
       "      <td>0.499061</td>\n",
       "      <td>0.458947</td>\n",
       "    </tr>\n",
       "    <tr>\n",
       "      <th>min</th>\n",
       "      <td>0.000000</td>\n",
       "      <td>0.000000</td>\n",
       "    </tr>\n",
       "    <tr>\n",
       "      <th>25%</th>\n",
       "      <td>0.000000</td>\n",
       "      <td>0.000000</td>\n",
       "    </tr>\n",
       "    <tr>\n",
       "      <th>50%</th>\n",
       "      <td>1.000000</td>\n",
       "      <td>1.000000</td>\n",
       "    </tr>\n",
       "    <tr>\n",
       "      <th>75%</th>\n",
       "      <td>1.000000</td>\n",
       "      <td>1.000000</td>\n",
       "    </tr>\n",
       "    <tr>\n",
       "      <th>max</th>\n",
       "      <td>1.000000</td>\n",
       "      <td>1.000000</td>\n",
       "    </tr>\n",
       "  </tbody>\n",
       "</table>\n",
       "</div>"
      ],
      "text/plain": [
       "              label          urls\n",
       "count  44251.000000  44251.000000\n",
       "mean       0.530722      0.698425\n",
       "std        0.499061      0.458947\n",
       "min        0.000000      0.000000\n",
       "25%        0.000000      0.000000\n",
       "50%        1.000000      1.000000\n",
       "75%        1.000000      1.000000\n",
       "max        1.000000      1.000000"
      ]
     },
     "execution_count": 12,
     "metadata": {},
     "output_type": "execute_result"
    }
   ],
   "source": [
    "df.describe()"
   ]
  },
  {
   "cell_type": "code",
   "execution_count": 13,
   "id": "6494cff2-02a4-4432-b993-d959107fb835",
   "metadata": {},
   "outputs": [
    {
     "name": "stdout",
     "output_type": "stream",
     "text": [
      "Final dataset shape: (44251, 7)\n"
     ]
    }
   ],
   "source": [
    "print(f\"Final dataset shape: {df.shape}\")"
   ]
  },
  {
   "cell_type": "markdown",
   "id": "3f6be8cd-3219-4b91-a5c8-5d0b18a2f1da",
   "metadata": {},
   "source": [
    "--------------------------------------------------------------------------------------------------------------------"
   ]
  },
  {
   "cell_type": "code",
   "execution_count": 14,
   "id": "f25bd9de-cee6-4de8-9522-99cdda67c38d",
   "metadata": {},
   "outputs": [],
   "source": [
    "df['text'] = df['subject'].fillna('') + ' ' + df['body'].fillna('')"
   ]
  },
  {
   "cell_type": "code",
   "execution_count": 15,
   "id": "1b07a3e4-d4b9-4dec-a72b-34ccbe06b755",
   "metadata": {},
   "outputs": [],
   "source": [
    "def preprocess_text(text):\n",
    "    if pd.isna(text):\n",
    "        return \"\"\n",
    "    \n",
    "    # to lowercase\n",
    "    text = text.lower()\n",
    "    # Remove HTML tags\n",
    "    text = re.sub(r'<.*?>', '', text)\n",
    "    # Remove URLs\n",
    "    text = re.sub(r'http\\S+|www\\S+|https\\S+', '', text)\n",
    "    # Remove email addresses\n",
    "    text = re.sub(r'\\S+@\\S+', '', text)\n",
    "    # Remove special characters and numbers, keep only letters and spaces\n",
    "    text = re.sub(r'[^a-zA-Z\\s]', '', text)\n",
    "    # Remove extra whitespaces\n",
    "    text = ' '.join(text.split())\n",
    "    return text"
   ]
  },
  {
   "cell_type": "code",
   "execution_count": null,
   "id": "eda7db19-016c-4b49-9d9a-c5a20fb35db6",
   "metadata": {},
   "outputs": [],
   "source": [
    "df['clean_text'] = df['text'].apply(preprocess_text)"
   ]
  },
  {
   "cell_type": "markdown",
   "id": "7dbe51c7-5589-4ac2-8508-f52cacfe30b8",
   "metadata": {},
   "source": [
    "--------------------------------------------------------------------------------------------------------------------"
   ]
  },
  {
   "cell_type": "code",
   "execution_count": null,
   "id": "ab91b0b1-8aa2-4f1b-a806-7fe3f9cef08e",
   "metadata": {},
   "outputs": [],
   "source": [
    "df.head()"
   ]
  },
  {
   "cell_type": "markdown",
   "id": "f8df3e52-b27a-4f0b-a123-19117be30b4e",
   "metadata": {},
   "source": [
    "--------------------------------------------------------------------------------------------------------------------"
   ]
  },
  {
   "cell_type": "markdown",
   "id": "1a58a973-690c-427b-acd7-9256d66e0e67",
   "metadata": {},
   "source": [
    "#### Exploratory Data Analysis"
   ]
  },
  {
   "cell_type": "code",
   "execution_count": null,
   "id": "850a7785-36e2-42fe-9361-279cbadcb752",
   "metadata": {},
   "outputs": [],
   "source": [
    "# Label distribution\n",
    "label_counts = df['label'].value_counts()\n",
    "print(f\"Label distribution:\\nLegitimate (0): {label_counts[0]}\\nPhishing/Spam (1): {label_counts[1]}\")\n",
    "print(f\"Phishing ratio: {label_counts[1] / len(df):.2%}\")"
   ]
  },
  {
   "cell_type": "code",
   "execution_count": null,
   "id": "2342e844-7a91-41d1-99a1-d8bb62ee0785",
   "metadata": {},
   "outputs": [],
   "source": [
    "sns.countplot(data=df, x='label')\n",
    "plt.title('Spam vs Ham Count')\n",
    "plt.show()"
   ]
  },
  {
   "cell_type": "markdown",
   "id": "da004b00-6668-4cc6-b691-891f6e3c8a0e",
   "metadata": {},
   "source": [
    "--------------------------------------------------------------------------------------------------------------------"
   ]
  },
  {
   "cell_type": "code",
   "execution_count": null,
   "id": "9ed240e3-0628-417b-a143-702c682cc58d",
   "metadata": {},
   "outputs": [],
   "source": [
    "df['char_count'] = df['text'].apply(len)\n",
    "df['word_count'] = df['text'].apply(lambda x: len(x.split()))\n",
    "df['avg_word_len'] = df['char_count'] / df['word_count']\n",
    "\n",
    "# Distribution of text-lengths\n",
    "fig, axes = plt.subplots(1, 2, figsize=(14, 5))\n",
    "sns.histplot(data=df, x='char_count', hue='label', bins=50, ax=axes[0])\n",
    "sns.histplot(data=df, x='word_count', hue='label', bins=50, ax=axes[1])\n",
    "axes[0].set_title('Character Count Distribution')\n",
    "axes[1].set_title('Word Count Distribution')\n",
    "plt.tight_layout()\n",
    "plt.show()"
   ]
  },
  {
   "cell_type": "markdown",
   "id": "7fd1ae6a-1f45-4929-975a-b5f01cceeb93",
   "metadata": {},
   "source": [
    "--------------------------------------------------------------------------------------------------------------------"
   ]
  },
  {
   "cell_type": "code",
   "execution_count": null,
   "id": "3cc37315-ad45-4933-ab84-239bee802b23",
   "metadata": {},
   "outputs": [],
   "source": [
    "stop_words = set([\n",
    "    'the', 'a', 'an', 'and', 'or', 'but', 'in', 'on', 'at', 'to', 'for', 'of', 'with', 'by',\n",
    "    'is', 'are', 'was', 'were', 'be', 'been', 'being', 'have', 'has', 'had', 'do', 'does', 'did',\n",
    "    'will', 'would', 'could', 'should', 'may', 'might', 'must', 'can', 'this', 'that', 'these', 'those',\n",
    "    'i', 'you', 'he', 'she', 'it', 'we', 'they', 'me', 'him', 'her', 'us', 'them', 'my', 'your', 'his',\n",
    "    'her', 'its', 'our', 'their', 'myself', 'yourself', 'himself', 'herself', 'itself', 'ourselves',\n",
    "    'yourselves', 'themselves', 'what', 'which', 'who', 'whom', 'whose', 'where', 'when', 'why', 'how',\n",
    "    'all', 'any', 'both', 'each', 'few', 'more', 'most', 'other', 'some', 'such', 'no', 'nor', 'not',\n",
    "    'only', 'own', 'same', 'so', 'than', 'too', 'very', 's', 't', 'just', 'don', 'now', 'get', 'also',\n",
    "    'one', 'two', 'first', 'new', 'time', 'way', 'well', 'go', 'see', 'come', 'know', 'take', 'use',\n",
    "    'make', 'back', 'look', 'want', 'give', 'think', 'good', 'work', 'right', 'say', 'from', 'up',\n",
    "    'out', 'day', 'like', 'man', 'year', 'people', 'still', 'over', 'find', 'even', 'through', 'long',\n",
    "    'down', 'much', 'here', 'little', 'after', 'own', 'around', 'never', 'every', 'always', 'again',\n",
    "    'off', 'put', 'about', 'into', 'under', 'over', 'between', 'during', 'before', 'after', 'above',\n",
    "    'below', 'because', 'since', 'until', 'while', 'although', 'though', 'if', 'unless', 'whether',\n",
    "    'yes', 'no', 'am', 'pm', 'mon', 'tue', 'wed', 'thu', 'fri', 'sat', 'sun', 'jan', 'feb', 'mar',\n",
    "    'apr', 'may', 'jun', 'jul', 'aug', 'sep', 'oct', 'nov', 'dec'\n",
    "])"
   ]
  },
  {
   "cell_type": "code",
   "execution_count": null,
   "id": "fcb8950b-d391-4da0-a4b4-de34c9a54278",
   "metadata": {},
   "outputs": [],
   "source": [
    "def get_top_words(text_series, n=20):\n",
    "    # Combine all texts\n",
    "    all_text = ' '.join(text_series.fillna(''))\n",
    "    # Split into words, filterout stopwords & short words\n",
    "    words = [word for word in all_text.split() \n",
    "             if word not in stop_words and len(word) > 2]\n",
    "    # word frequencies\n",
    "    word_counts = Counter(words)\n",
    "    \n",
    "    return word_counts.most_common(n)"
   ]
  },
  {
   "cell_type": "code",
   "execution_count": null,
   "id": "608c32e4-2b73-4193-8f77-d97956c88b48",
   "metadata": {},
   "outputs": [],
   "source": [
    "# seperate spam and ham emails\n",
    "spam_emails = df[df['label'] == 1]['clean_text']\n",
    "ham_emails = df[df['label'] == 0]['clean_text']\n",
    "\n",
    "# top words for spam and ham\n",
    "top_spam_words = get_top_words(spam_emails, n=20)\n",
    "top_ham_words = get_top_words(ham_emails, n=20)"
   ]
  },
  {
   "cell_type": "code",
   "execution_count": null,
   "id": "dd3bb02e-d4c8-41f1-93bb-173e11c1e36f",
   "metadata": {},
   "outputs": [],
   "source": [
    "fig, axes = plt.subplots(1, 2, figsize=(20, 8))\n",
    "fig.suptitle('Top Words Analysis: Spam vs Ham Emails', fontsize=20, fontweight='bold')\n",
    "\n",
    "# Top words in Spam emails\n",
    "spam_words, spam_counts = zip(*top_spam_words)\n",
    "axes[0].bar(range(len(spam_words)), spam_counts, color='red', alpha=0.7)\n",
    "axes[0].set_title('Top 20 Words in Spam Emails', fontsize=16, fontweight='bold')\n",
    "axes[0].set_xlabel('Words', fontsize=12)\n",
    "axes[0].set_ylabel('Frequency', fontsize=12)\n",
    "axes[0].set_xticks(range(len(spam_words)))\n",
    "axes[0].set_xticklabels(spam_words, rotation=45, ha='right')\n",
    "axes[0].grid(axis='y', alpha=0.3)\n",
    "# value labels\n",
    "for i, v in enumerate(spam_counts):\n",
    "    axes[0].text(i, v + max(spam_counts)*0.01, str(v), ha='center', va='bottom', fontweight='bold')\n",
    "\n",
    "# Top words in Ham emails\n",
    "ham_words, ham_counts = zip(*top_ham_words)\n",
    "axes[1].bar(range(len(ham_words)), ham_counts, color='green', alpha=0.7)\n",
    "axes[1].set_title('Top 20 Words in Ham Emails', fontsize=16, fontweight='bold')\n",
    "axes[1].set_xlabel('Words', fontsize=12)\n",
    "axes[1].set_ylabel('Frequency', fontsize=12)\n",
    "axes[1].set_xticks(range(len(ham_words)))\n",
    "axes[1].set_xticklabels(ham_words, rotation=45, ha='right')\n",
    "axes[1].grid(axis='y', alpha=0.3)\n",
    "# value labels\n",
    "for i, v in enumerate(ham_counts):\n",
    "    axes[1].text(i, v + max(ham_counts)*0.01, str(v), ha='center', va='bottom', fontweight='bold')\n",
    "\n",
    "plt.tight_layout(rect=[0, 0, 1, 0.95])  # leave space for the suptitle\n",
    "plt.show()"
   ]
  },
  {
   "cell_type": "markdown",
   "id": "e941a4d1-74ee-40ec-8ce7-79b9093e2b28",
   "metadata": {},
   "source": [
    "--------------------------------------------------------------------------------------------------------------------"
   ]
  },
  {
   "cell_type": "code",
   "execution_count": null,
   "id": "3fb07034-752f-42bd-9e5c-c513fd1e4ec8",
   "metadata": {},
   "outputs": [],
   "source": [
    "tfidf = TfidfVectorizer(max_features=20, stop_words='english')\n",
    "tfidf_matrix = tfidf.fit_transform(df['clean_text'])\n",
    "tfidf_df = pd.DataFrame(tfidf_matrix.toarray(), columns=tfidf.get_feature_names_out())\n",
    "tfidf_df['label'] = df['label']"
   ]
  },
  {
   "cell_type": "code",
   "execution_count": null,
   "id": "cab528c1-9101-4427-9f10-764e42b19ac1",
   "metadata": {},
   "outputs": [],
   "source": [
    "# Average TF-IDF scores\n",
    "tfidf_means = tfidf_df.groupby('label').mean().T\n",
    "tfidf_means.plot(kind='barh', figsize=(10, 8), title='TF-IDF Feature Means per Class')\n",
    "plt.tight_layout()\n",
    "plt.show()"
   ]
  },
  {
   "cell_type": "markdown",
   "id": "39ff24b7-77ba-4e8e-a3bb-7f89d4110a19",
   "metadata": {},
   "source": [
    "--------------------------------------------------------------------------------------------------------------------"
   ]
  },
  {
   "cell_type": "code",
   "execution_count": null,
   "id": "1e0a2d46-38e7-4a91-8dc9-9dd310af78f1",
   "metadata": {
    "scrolled": true
   },
   "outputs": [],
   "source": [
    "# Word cloud generation\n",
    "label_mapping = {0: 'Ham', 1: 'Spam'}\n",
    "\n",
    "for label_num, label_name in label_mapping.items():\n",
    "    # Filter data for current label\n",
    "    filtered_text = df[df['label'] == label_num]['clean_text']\n",
    "    \n",
    "    # Combine all text for this label\n",
    "    text = \" \".join(filtered_text.fillna('').astype(str))\n",
    "    \n",
    "    # Create word cloud\n",
    "    wordcloud = WordCloud(\n",
    "        width=800, \n",
    "        height=400, \n",
    "        background_color='white', \n",
    "        stopwords=stop_words,\n",
    "        max_words=100\n",
    "    ).generate(text)\n",
    "    \n",
    "    # Plot\n",
    "    plt.figure(figsize=(10, 5))\n",
    "    plt.imshow(wordcloud, interpolation='bilinear')\n",
    "    plt.axis('off')\n",
    "    plt.title(f\"{label_name} Word Cloud\")\n",
    "    plt.show()"
   ]
  },
  {
   "cell_type": "markdown",
   "id": "8f1518dd-2601-45f2-a0b8-c32d3c10c892",
   "metadata": {},
   "source": [
    "--------------------------------------------------------------------------------------------------------------------"
   ]
  },
  {
   "cell_type": "code",
   "execution_count": null,
   "id": "d951810c-6c17-4384-a96d-8615695dcd4f",
   "metadata": {},
   "outputs": [],
   "source": [
    "df['polarity'] = df['clean_text'].apply(lambda x: TextBlob(x).sentiment.polarity)\n",
    "df['subjectivity'] = df['clean_text'].apply(lambda x: TextBlob(x).sentiment.subjectivity)"
   ]
  },
  {
   "cell_type": "code",
   "execution_count": null,
   "id": "99e426eb-14a8-447e-b12b-0ea0af1d91ff",
   "metadata": {},
   "outputs": [],
   "source": [
    "sns.boxplot(data=df, x='label', y='polarity')\n",
    "plt.title(\"Polarity by Label\")\n",
    "plt.show()"
   ]
  },
  {
   "cell_type": "markdown",
   "id": "2810b358-f94d-4c1f-9dbf-7c1d3da9943c",
   "metadata": {},
   "source": [
    "--------------------------------------------------------------------------------------------------------------------"
   ]
  },
  {
   "cell_type": "code",
   "execution_count": null,
   "id": "7d6790e6-0fdc-4497-92f1-a7d45e76ea6e",
   "metadata": {},
   "outputs": [],
   "source": [
    "# Email Complexity vs Spam/Ham (Readability Scores)"
   ]
  },
  {
   "cell_type": "code",
   "execution_count": null,
   "id": "c8c142d4-6c4c-4ce1-9914-5436d6320d47",
   "metadata": {},
   "outputs": [],
   "source": [
    "import textstat\n",
    "# Flesch Reading Ease (higher = easier to read)\n",
    "df['readability'] = df['text'].apply(lambda x: textstat.flesch_reading_ease(str(x)))"
   ]
  },
  {
   "cell_type": "code",
   "execution_count": null,
   "id": "54a07237-b905-4b2e-a542-dea533b518f1",
   "metadata": {},
   "outputs": [],
   "source": [
    "sns.boxplot(data=df, x='label', y='readability')\n",
    "plt.title('Readability Score by Label')\n",
    "plt.ylabel('Flesch Reading Ease')\n",
    "plt.grid(axis='y')\n",
    "plt.show()"
   ]
  },
  {
   "cell_type": "markdown",
   "id": "5406c81f-4289-4983-ba1c-46a414df3390",
   "metadata": {},
   "source": [
    "##### Spam emails tend to have lower and more erratic readability scores, indicating less coherent or overly complex language.\n",
    "\n"
   ]
  },
  {
   "cell_type": "markdown",
   "id": "59697a99-f3b0-4b38-b1c4-03023acbca33",
   "metadata": {},
   "source": [
    "--------------------------------------------------------------------------------------------------------------------"
   ]
  },
  {
   "cell_type": "code",
   "execution_count": null,
   "id": "6c0ad1b2-66d6-4213-b5f3-94375d7afbc7",
   "metadata": {},
   "outputs": [],
   "source": [
    "# Special Character Density Analysis (!, $, %, etc.)"
   ]
  },
  {
   "cell_type": "code",
   "execution_count": null,
   "id": "1ebf2a0a-2cec-4cee-85b3-0fde27e0a388",
   "metadata": {},
   "outputs": [],
   "source": [
    "def special_char_density(text):\n",
    "    text = str(text)\n",
    "    total_chars = len(text)\n",
    "    special_chars = re.findall(r'[!@#$%^&*]', text)\n",
    "    return len(special_chars) / total_chars if total_chars > 0 else 0\n",
    "\n",
    "df['special_char_density'] = df['text'].apply(special_char_density)"
   ]
  },
  {
   "cell_type": "code",
   "execution_count": null,
   "id": "9cec2c37-da73-4be6-954c-55f1b6fe43c8",
   "metadata": {},
   "outputs": [],
   "source": [
    "sns.boxplot(data=df, x='label', y='special_char_density')\n",
    "plt.title('Special Character Density by Label')\n",
    "plt.ylabel('Proportion of !@#$%^&* per Char')\n",
    "plt.grid(axis='y')\n",
    "plt.show()"
   ]
  },
  {
   "cell_type": "markdown",
   "id": "9b15e2fd-b453-48bc-9395-46c580a318e1",
   "metadata": {},
   "source": [
    "##### Spam emails slightly overuse symbols like !@#$, suggesting attempts to bypass filters or grab attention."
   ]
  },
  {
   "cell_type": "markdown",
   "id": "7de36834-faea-43cc-b917-31d95c4ad8f3",
   "metadata": {},
   "source": [
    "--------------------------------------------------------------------------------------------------------------------"
   ]
  },
  {
   "cell_type": "code",
   "execution_count": null,
   "id": "fcfa2d61-d571-407a-8f66-50b09138133f",
   "metadata": {},
   "outputs": [],
   "source": [
    "# Email Capitalization Ratio (YELLING Indicator)"
   ]
  },
  {
   "cell_type": "code",
   "execution_count": null,
   "id": "4290bf4b-2aea-4bde-b70d-2ceac2494555",
   "metadata": {},
   "outputs": [],
   "source": [
    "def caps_ratio(text):\n",
    "    text = str(text)\n",
    "    upper = sum(1 for c in text if c.isupper())\n",
    "    total = sum(1 for c in text if c.isalpha())\n",
    "    return upper / total if total > 0 else 0\n",
    "\n",
    "df['capital_ratio'] = df['text'].apply(caps_ratio)"
   ]
  },
  {
   "cell_type": "code",
   "execution_count": null,
   "id": "ea25efc7-e711-4ba9-8176-6218d46488ae",
   "metadata": {},
   "outputs": [],
   "source": [
    "sns.boxplot(data=df, x='label', y='capital_ratio')\n",
    "plt.title('Capitalization Ratio by Label')\n",
    "plt.ylabel('Uppercase Letters / Total Letters')\n",
    "plt.grid(axis='y')\n",
    "plt.show()"
   ]
  },
  {
   "cell_type": "markdown",
   "id": "127f30d7-734a-413a-87d6-46b4a2518a0b",
   "metadata": {},
   "source": [
    "##### Spam emails use significantly more uppercase letters, reflecting urgency or shouting tactics.\n",
    "\n"
   ]
  },
  {
   "cell_type": "markdown",
   "id": "7b1f7429-245b-42e5-9c20-689511e1b390",
   "metadata": {},
   "source": [
    "--------------------------------------------------------------------------------------------------------------------"
   ]
  },
  {
   "cell_type": "code",
   "execution_count": null,
   "id": "f0384c2d-c690-4d97-a758-c9e2284e9ec0",
   "metadata": {},
   "outputs": [],
   "source": [
    "#Presence of Links (http/https) per Email"
   ]
  },
  {
   "cell_type": "code",
   "execution_count": null,
   "id": "f91aacdb-a225-4276-a480-c9b908eb68f5",
   "metadata": {},
   "outputs": [],
   "source": [
    "def count_links(text):\n",
    "    return len(re.findall(r'http[s]?://', str(text)))\n",
    "\n",
    "df['link_count'] = df['text'].apply(count_links)"
   ]
  },
  {
   "cell_type": "code",
   "execution_count": null,
   "id": "d4927924-c6cd-4b63-8883-6e905b8de91b",
   "metadata": {},
   "outputs": [],
   "source": [
    "sns.boxplot(data=df, x='label', y='link_count')\n",
    "plt.title('Number of Links per Email by Label')\n",
    "plt.ylabel('Link Count')\n",
    "plt.grid(axis='y')\n",
    "plt.show()"
   ]
  },
  {
   "cell_type": "markdown",
   "id": "9758c06a-f387-44df-959b-a74a1be9077c",
   "metadata": {},
   "source": [
    "##### Spam emails contain a higher number of hyperlinks, reinforcing their intent to redirect users externally."
   ]
  },
  {
   "cell_type": "markdown",
   "id": "31216a7e-d986-412d-86a1-6117049d45be",
   "metadata": {},
   "source": [
    "--------------------------------------------------------------------------------------------------------------------"
   ]
  },
  {
   "cell_type": "code",
   "execution_count": null,
   "id": "55bd2074-5f95-48d6-8abe-a53e35dc267b",
   "metadata": {},
   "outputs": [],
   "source": [
    "# Email Entropy (Text Randomness Measurement)"
   ]
  },
  {
   "cell_type": "code",
   "execution_count": null,
   "id": "27809a34-f3e0-4b7d-a8f3-c81cdb6899d9",
   "metadata": {},
   "outputs": [],
   "source": [
    "import math\n",
    "from collections import Counter\n",
    "\n",
    "def shannon_entropy(text):\n",
    "    text = str(text)\n",
    "    if not text:\n",
    "        return 0\n",
    "    freq = Counter(text)\n",
    "    probs = [freq[char] / len(text) for char in freq]\n",
    "    entropy = -sum(p * math.log2(p) for p in probs)\n",
    "    return entropy\n",
    "\n",
    "df['entropy'] = df['text'].apply(shannon_entropy)"
   ]
  },
  {
   "cell_type": "code",
   "execution_count": null,
   "id": "f44f4add-4803-47b1-b5a3-66c5467c0eed",
   "metadata": {},
   "outputs": [],
   "source": [
    "sns.boxplot(data=df, x='label', y='entropy')\n",
    "plt.title('Text Entropy by Label (Shannon Entropy)')\n",
    "plt.ylabel('Entropy')\n",
    "plt.grid(axis='y')\n",
    "plt.show()"
   ]
  },
  {
   "cell_type": "markdown",
   "id": "37b1e278-582a-4dc0-b739-a217d6cae64b",
   "metadata": {},
   "source": [
    "##### Spam (label=1) messages tend to have slightly lower average Shannon entropy than ham (label=0), suggesting they use a more repetitive or predictable character distribution."
   ]
  },
  {
   "cell_type": "markdown",
   "id": "92416e75-06f2-426b-8f73-46191a643e5f",
   "metadata": {},
   "source": [
    "##### Shannon entropy is a measure of the unpredictability or information content.\n",
    "##### In the context of text, it quantifies how diverse or random the characters are."
   ]
  },
  {
   "cell_type": "markdown",
   "id": "ff1d4001-2ae0-4879-8e82-036a73da8332",
   "metadata": {},
   "source": [
    "--------------------------------------------------------------------------------------------------------------------"
   ]
  },
  {
   "cell_type": "code",
   "execution_count": null,
   "id": "06717e53-fbc3-45ca-8c83-a9ee4f0b73b4",
   "metadata": {},
   "outputs": [],
   "source": [
    "from nltk.corpus import stopwords\n",
    "nltk.download('stopwords')\n",
    "stop_words = set(stopwords.words('english'))"
   ]
  },
  {
   "cell_type": "code",
   "execution_count": null,
   "id": "823d7a16-de08-4890-a739-b2e35b24b562",
   "metadata": {},
   "outputs": [],
   "source": [
    "# Ratio of stopwords to total words\n",
    "def stopword_ratio(text):\n",
    "    words = str(text).split()\n",
    "    if not words:\n",
    "        return 0\n",
    "    stop_count = sum(1 for w in words if w.lower() in stop_words)\n",
    "    return stop_count / len(words)\n",
    "\n",
    "df['stopword_ratio'] = df['text'].apply(stopword_ratio)\n",
    "\n",
    "sns.boxplot(data=df, x='label', y='stopword_ratio')\n",
    "plt.title('Stopword Ratio by Label')\n",
    "plt.ylabel('Stopwords / Total Words')\n",
    "plt.grid(axis='y')\n",
    "plt.show()"
   ]
  },
  {
   "cell_type": "markdown",
   "id": "26f17fe0-a806-485d-ad6c-ec8c2d8b1916",
   "metadata": {},
   "source": [
    "##### Spam (label=1) messages tend to have a wider and lower median stopword ratio, indicating they use fewer natural-language function words, likely due to keyword stuffing or unnatural phrasing."
   ]
  },
  {
   "cell_type": "markdown",
   "id": "3ed631f7-3ddc-4e21-8290-29f8968e3760",
   "metadata": {},
   "source": [
    "--------------------------------------------------------------------------------------------------------------------"
   ]
  },
  {
   "cell_type": "code",
   "execution_count": null,
   "id": "433daabc-7ab5-45bb-a753-381d1cdb9333",
   "metadata": {},
   "outputs": [],
   "source": [
    "# digits per total characters\n",
    "def digit_ratio(text):\n",
    "    text = str(text)\n",
    "    digits = sum(c.isdigit() for c in text)\n",
    "    total = sum(c.isalnum() for c in text)\n",
    "    return digits / total if total > 0 else 0\n",
    "\n",
    "df['digit_ratio'] = df['text'].apply(digit_ratio)"
   ]
  },
  {
   "cell_type": "code",
   "execution_count": null,
   "id": "8b8fad79-599e-47f9-ac03-40c419dc3393",
   "metadata": {},
   "outputs": [],
   "source": [
    "sns.boxplot(data=df, x='label', y='digit_ratio')\n",
    "plt.title('Digit Ratio by Label')\n",
    "plt.ylabel('Digits / Total Alphanumeric Characters')\n",
    "plt.grid(axis='y')\n",
    "plt.show()"
   ]
  },
  {
   "attachments": {},
   "cell_type": "markdown",
   "id": "3058e136-0cc9-44a7-a563-464a3123252c",
   "metadata": {},
   "source": [
    "##### Spam messages (label=1) show a slightly higher digit ratio, suggesting more frequent use of numbers—likely for prices, phone numbers, or codes common in spam content."
   ]
  },
  {
   "cell_type": "markdown",
   "id": "da61fa59-dd0d-459d-96a9-0e60af08ff00",
   "metadata": {},
   "source": [
    "--------------------------------------------------------------------------------------------------------------------"
   ]
  },
  {
   "cell_type": "code",
   "execution_count": null,
   "id": "a3a27bd1-52f9-4029-af79-f00849185854",
   "metadata": {},
   "outputs": [],
   "source": [
    "df.head()"
   ]
  },
  {
   "cell_type": "code",
   "execution_count": null,
   "id": "20d53e07-90dd-4884-8d05-5b73de9c526a",
   "metadata": {},
   "outputs": [],
   "source": [
    "df.shape"
   ]
  },
  {
   "cell_type": "markdown",
   "id": "5edb6446-ac41-42d7-b790-22874d7a5b20",
   "metadata": {},
   "source": [
    "--------------------------------------------------------------------------------------------------------------------"
   ]
  }
 ],
 "metadata": {
  "kernelspec": {
   "display_name": "Python 3 (ipykernel)",
   "language": "python",
   "name": "python3"
  },
  "language_info": {
   "codemirror_mode": {
    "name": "ipython",
    "version": 3
   },
   "file_extension": ".py",
   "mimetype": "text/x-python",
   "name": "python",
   "nbconvert_exporter": "python",
   "pygments_lexer": "ipython3",
   "version": "3.10.9"
  }
 },
 "nbformat": 4,
 "nbformat_minor": 5
}
